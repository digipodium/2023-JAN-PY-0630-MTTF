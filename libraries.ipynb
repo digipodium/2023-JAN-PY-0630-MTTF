{
 "cells": [
  {
   "attachments": {},
   "cell_type": "markdown",
   "metadata": {},
   "source": [
    "libraries (modules)\n",
    "- inbuilt\n",
    "    - math\n",
    "    - random\n",
    "    - os\n",
    "    - datetime\n",
    "- 3rd party"
   ]
  },
  {
   "attachments": {},
   "cell_type": "markdown",
   "metadata": {},
   "source": [
    "how to use a module\n",
    "- import the whole module\n",
    "\n",
    "    ```import module_name```\n",
    "- import module with alias\n",
    "\n",
    "    ```import module_name as alias```\n",
    "- import specific function from a module\n",
    "\n",
    "    ```from module_name import function_name```"
   ]
  },
  {
   "cell_type": "code",
   "execution_count": 2,
   "metadata": {},
   "outputs": [],
   "source": [
    "import math"
   ]
  },
  {
   "cell_type": "code",
   "execution_count": 3,
   "metadata": {},
   "outputs": [
    {
     "data": {
      "text/plain": [
       "3.605551275463989"
      ]
     },
     "execution_count": 3,
     "metadata": {},
     "output_type": "execute_result"
    }
   ],
   "source": [
    "math.sqrt(13)"
   ]
  },
  {
   "cell_type": "code",
   "execution_count": 4,
   "metadata": {},
   "outputs": [
    {
     "name": "stdout",
     "output_type": "stream",
     "text": [
      "402387260077093773543702433923003985719374864210714632543799910429938512398629020592044208486969404800479988610197196058631666872994808558901323829669944590997424504087073759918823627727188732519779505950995276120874975462497043601418278094646496291056393887437886487337119181045825783647849977012476632889835955735432513185323958463075557409114262417474349347553428646576611667797396668820291207379143853719588249808126867838374559731746136085379534524221586593201928090878297308431392844403281231558611036976801357304216168747609675871348312025478589320767169132448426236131412508780208000261683151027341827977704784635868170164365024153691398281264810213092761244896359928705114964975419909342221566832572080821333186116811553615836546984046708975602900950537616475847728421889679646244945160765353408198901385442487984959953319101723355556602139450399736280750137837615307127761926849034352625200015888535147331611702103968175921510907788019393178114194545257223865541461062892187960223838971476088506276862967146674697562911234082439208160153780889893964518263243671616762179168909779911903754031274622289988005195444414282012187361745992642956581746628302955570299024324153181617210465832036786906117260158783520751516284225540265170483304226143974286933061690897968482590125458327168226458066526769958652682272807075781391858178889652208164348344825993266043367660176999612831860788386150279465955131156552036093988180612138558600301435694527224206344631797460594682573103790084024432438465657245014402821885252470935190620929023136493273497565513958720559654228749774011413346962715422845862377387538230483865688976461927383814900140767310446640259899490222221765904339901886018566526485061799702356193897017860040811889729918311021171229845901641921068884387121855646124960798722908519296819372388642614839657382291123125024186649353143970137428531926649875337218940694281434118520158014123344828015051399694290153483077644569099073152433278288269864602789864321139083506217095002597389863554277196742822248757586765752344220207573630569498825087968928162753848863396909959826280956121450994871701244516461260379029309120889086942028510640182154399457156805941872748998094254742173582401063677404595741785160829230135358081840096996372524230560855903700624271243416909004153690105933983835777939410970027753472000000000000000000000000000000000000000000000000000000000000000000000000000000000000000000000000000000000000000000000000000000000000000000000000000000000000000000000000000000000000000000000000000000000000000000000000000000000000000000000000000000000\n"
     ]
    }
   ],
   "source": [
    "print(math.factorial(1000))"
   ]
  },
  {
   "cell_type": "code",
   "execution_count": 5,
   "metadata": {},
   "outputs": [
    {
     "data": {
      "text/plain": [
       "4"
      ]
     },
     "execution_count": 5,
     "metadata": {},
     "output_type": "execute_result"
    }
   ],
   "source": [
    "math.ceil(3.1)"
   ]
  },
  {
   "cell_type": "code",
   "execution_count": 6,
   "metadata": {},
   "outputs": [],
   "source": [
    "from datetime import datetime as dt"
   ]
  },
  {
   "cell_type": "code",
   "execution_count": 7,
   "metadata": {},
   "outputs": [
    {
     "data": {
      "text/plain": [
       "datetime.datetime(2023, 3, 10, 18, 42, 43, 659534)"
      ]
     },
     "execution_count": 7,
     "metadata": {},
     "output_type": "execute_result"
    }
   ],
   "source": [
    "dt.now()"
   ]
  },
  {
   "cell_type": "code",
   "execution_count": 8,
   "metadata": {},
   "outputs": [
    {
     "name": "stdout",
     "output_type": "stream",
     "text": [
      "2023-03-10\n",
      "18:42:43\n"
     ]
    }
   ],
   "source": [
    "date = dt.strftime(dt.now(), '%Y-%m-%d')\n",
    "time = dt.strftime(dt.now(), '%H:%M:%S')\n",
    "print(date)\n",
    "print(time)"
   ]
  },
  {
   "cell_type": "code",
   "execution_count": 9,
   "metadata": {},
   "outputs": [],
   "source": [
    "from random import randint, random"
   ]
  },
  {
   "cell_type": "code",
   "execution_count": 10,
   "metadata": {},
   "outputs": [
    {
     "data": {
      "text/plain": [
       "88"
      ]
     },
     "execution_count": 10,
     "metadata": {},
     "output_type": "execute_result"
    }
   ],
   "source": [
    "randint(1, 100)"
   ]
  },
  {
   "cell_type": "code",
   "execution_count": 11,
   "metadata": {},
   "outputs": [
    {
     "data": {
      "text/plain": [
       "0.7070296345663202"
      ]
     },
     "execution_count": 11,
     "metadata": {},
     "output_type": "execute_result"
    }
   ],
   "source": [
    "random()"
   ]
  },
  {
   "cell_type": "code",
   "execution_count": 12,
   "metadata": {},
   "outputs": [],
   "source": [
    "import os"
   ]
  },
  {
   "cell_type": "code",
   "execution_count": 13,
   "metadata": {},
   "outputs": [
    {
     "data": {
      "text/plain": [
       "'c:\\\\Users\\\\ZAID\\\\Documents\\\\coding\\\\2023 JAN PY 0630 MTTF'"
      ]
     },
     "execution_count": 13,
     "metadata": {},
     "output_type": "execute_result"
    }
   ],
   "source": [
    "os.getcwd()"
   ]
  },
  {
   "cell_type": "code",
   "execution_count": 14,
   "metadata": {},
   "outputs": [
    {
     "name": "stdout",
     "output_type": "stream",
     "text": [
      "['.git', 'app1.py', 'basics.ipynb', 'char.txt', 'condition.ipynb', 'dictionary.ipynb', 'func.ipynb', 'func2.ipynb', 'func3.ipynb', 'game1.py', 'info.py', 'libraries.ipynb', 'list1.ipynb', 'loops.ipynb', 'nested.py', 'si.py', 'sounds', 'strings.ipynb', 't1.py', 't2.py', 't3.py', 'tfun.py']\n"
     ]
    }
   ],
   "source": [
    "print(os.listdir() )# list files in current directory"
   ]
  },
  {
   "cell_type": "code",
   "execution_count": 15,
   "metadata": {},
   "outputs": [
    {
     "data": {
      "text/plain": [
       "['Adobe',\n",
       " 'Android',\n",
       " 'Audacity',\n",
       " 'Blackmagic Design',\n",
       " 'Blender Foundation',\n",
       " 'Bonjour',\n",
       " 'Common Files',\n",
       " 'Cyberduck',\n",
       " 'desktop.ini',\n",
       " 'DIFX',\n",
       " 'dotnet',\n",
       " 'Electronic Arts',\n",
       " 'Epic Games',\n",
       " 'Everything',\n",
       " 'FFmpeg for Audacity',\n",
       " 'Fing',\n",
       " 'Git',\n",
       " 'Google',\n",
       " 'Internet Explorer',\n",
       " 'JetBrains',\n",
       " 'Lame For Audacity',\n",
       " 'Lenovo',\n",
       " 'MAGIX',\n",
       " 'Microsoft Office',\n",
       " 'Microsoft Office 15',\n",
       " 'Microsoft OneDrive',\n",
       " 'Microsoft Update Health Tools',\n",
       " 'Microsoft VS Code',\n",
       " 'ModifiableWindowsApps',\n",
       " 'MSBuild',\n",
       " 'MySQL',\n",
       " 'Nefarius Software Solutions',\n",
       " 'NitroShare',\n",
       " 'nodejs',\n",
       " 'Npcap',\n",
       " 'NVIDIA Corporation',\n",
       " 'paint.net',\n",
       " 'Pentablet',\n",
       " 'PowerToys',\n",
       " 'PRISMLiveStudio',\n",
       " 'RapidMiner',\n",
       " 'Reference Assemblies',\n",
       " 'Riot Vanguard',\n",
       " 'Rockstar Games',\n",
       " 'Sony',\n",
       " 'Soundly',\n",
       " 'Uninstall Information',\n",
       " 'Unity Hub',\n",
       " 'VLC',\n",
       " 'Windows Defender',\n",
       " 'Windows Mail',\n",
       " 'Windows NT',\n",
       " 'Windows Photo Viewer',\n",
       " 'Windows Sidebar',\n",
       " 'WindowsApps',\n",
       " 'WindowsPowerShell',\n",
       " 'Wondershare']"
      ]
     },
     "execution_count": 15,
     "metadata": {},
     "output_type": "execute_result"
    }
   ],
   "source": [
    "os.listdir('C:/Program Files/')"
   ]
  },
  {
   "cell_type": "code",
   "execution_count": 16,
   "metadata": {},
   "outputs": [
    {
     "data": {
      "text/plain": [
       "False"
      ]
     },
     "execution_count": 16,
     "metadata": {},
     "output_type": "execute_result"
    }
   ],
   "source": [
    "os.path.exists('C:/hakuna matata/')"
   ]
  },
  {
   "cell_type": "code",
   "execution_count": 19,
   "metadata": {},
   "outputs": [
    {
     "name": "stdout",
     "output_type": "stream",
     "text": [
      "The path exists\n"
     ]
    }
   ],
   "source": [
    "if os.path.exists(\"C:/Users/zaid\"):\n",
    "    print(\"The path exists\")\n",
    "else:\n",
    "    print(\"The path does not exist\")"
   ]
  },
  {
   "cell_type": "code",
   "execution_count": 20,
   "metadata": {},
   "outputs": [
    {
     "data": {
      "text/plain": [
       "['MyProject', 'MyProject2']"
      ]
     },
     "execution_count": 20,
     "metadata": {},
     "output_type": "execute_result"
    }
   ],
   "source": [
    "os.listdir('C:/Users/zaid/Documents/Unreal Projects/')"
   ]
  },
  {
   "cell_type": "code",
   "execution_count": 23,
   "metadata": {},
   "outputs": [
    {
     "name": "stdout",
     "output_type": "stream",
     "text": [
      "C:/Users/zaid/Documents/Unreal Projects/\n",
      "folder=> ['MyProject', 'MyProject2']\n",
      "file=> []\n",
      "\n",
      "C:/Users/zaid/Documents/Unreal Projects/MyProject\n",
      "folder=> ['Config', 'Content', 'DerivedDataCache', 'Intermediate', 'Saved']\n",
      "file=> []\n",
      "\n",
      "C:/Users/zaid/Documents/Unreal Projects/MyProject\\Config\n",
      "folder=> []\n",
      "file=> ['DefaultEditor.ini', 'DefaultEngine.ini', 'DefaultGame.ini']\n",
      "\n",
      "C:/Users/zaid/Documents/Unreal Projects/MyProject\\Content\n",
      "folder=> ['Collections', 'Developers', 'StarterContent']\n",
      "file=> []\n",
      "\n",
      "C:/Users/zaid/Documents/Unreal Projects/MyProject\\Content\\Collections\n",
      "folder=> []\n",
      "file=> []\n",
      "\n",
      "C:/Users/zaid/Documents/Unreal Projects/MyProject\\Content\\Developers\n",
      "folder=> ['ZAID']\n",
      "file=> []\n",
      "\n",
      "C:/Users/zaid/Documents/Unreal Projects/MyProject\\Content\\Developers\\ZAID\n",
      "folder=> ['Collections']\n",
      "file=> []\n",
      "\n",
      "C:/Users/zaid/Documents/Unreal Projects/MyProject\\Content\\Developers\\ZAID\\Collections\n",
      "folder=> []\n",
      "file=> []\n",
      "\n",
      "C:/Users/zaid/Documents/Unreal Projects/MyProject\\Content\\StarterContent\n",
      "folder=> ['Architecture', 'Audio', 'Blueprints', 'HDRI', 'Maps', 'Materials', 'Particles', 'Props', 'Shapes', 'Textures']\n",
      "file=> []\n",
      "\n",
      "C:/Users/zaid/Documents/Unreal Projects/MyProject\\Content\\StarterContent\\Architecture\n",
      "folder=> []\n",
      "file=> ['Floor_400x400.uasset', 'Pillar_50x500.uasset', 'SM_AssetPlatform.uasset', 'Wall_400x200.uasset', 'Wall_400x300.uasset', 'Wall_400x400.uasset', 'Wall_500x500.uasset', 'Wall_Door_400x300.uasset', 'Wall_Door_400x400.uasset', 'Wall_Window_400x300.uasset', 'Wall_Window_400x400.uasset']\n",
      "\n",
      "C:/Users/zaid/Documents/Unreal Projects/MyProject\\Content\\StarterContent\\Audio\n",
      "folder=> []\n",
      "file=> ['Collapse01.uasset', 'Collapse02.uasset', 'Collapse_Cue.uasset', 'Explosion01.uasset', 'Explosion02.uasset', 'Explosion_Cue.uasset', 'Fire01.uasset', 'Fire01_Cue.uasset', 'Fire_Sparks01.uasset', 'Fire_Sparks01_Cue.uasset', 'Light01.uasset', 'Light01_Cue.uasset', 'Light02.uasset', 'Light02_Cue.uasset', 'Smoke01.uasset', 'Smoke01_Cue.uasset', 'Starter_Background_Cue.uasset', 'Starter_Birds01.uasset', 'Starter_Music01.uasset', 'Starter_Music_Cue.uasset', 'Starter_Wind05.uasset', 'Starter_Wind06.uasset', 'Steam01.uasset', 'Steam01_Cue.uasset']\n",
      "\n",
      "C:/Users/zaid/Documents/Unreal Projects/MyProject\\Content\\StarterContent\\Blueprints\n",
      "folder=> ['Assets']\n",
      "file=> ['Blueprint_CeilingLight.uasset', 'Blueprint_Effect_Explosion.uasset', 'Blueprint_Effect_Fire.uasset', 'Blueprint_Effect_Smoke.uasset', 'Blueprint_Effect_Sparks.uasset', 'Blueprint_Effect_Steam.uasset', 'Blueprint_WallSconce.uasset', 'BP_LightStudio.uasset']\n",
      "\n",
      "C:/Users/zaid/Documents/Unreal Projects/MyProject\\Content\\StarterContent\\Blueprints\\Assets\n",
      "folder=> []\n",
      "file=> ['FogBrightnessLUT.uasset', 'M_LightStage_Arrows.uasset', 'M_LightStage_Skybox_Black.uasset', 'M_LightStage_Skybox_HDRI.uasset', 'M_LightStage_Skybox_Master.uasset', 'Skybox.uasset', 'SM_Arrows.uasset', 'SunlightColorLUT.uasset']\n",
      "\n",
      "C:/Users/zaid/Documents/Unreal Projects/MyProject\\Content\\StarterContent\\HDRI\n",
      "folder=> []\n",
      "file=> ['HDRI_Epic_Courtyard_Daylight.uasset']\n",
      "\n",
      "C:/Users/zaid/Documents/Unreal Projects/MyProject\\Content\\StarterContent\\Maps\n",
      "folder=> []\n",
      "file=> ['Advanced_Lighting.umap', 'Advanced_Lighting_BuiltData.uasset', 'Minimal_Default.umap', 'Minimal_Default_BuiltData.uasset', 'StarterMap.umap', 'StarterMap_BuiltData.uasset']\n",
      "\n",
      "C:/Users/zaid/Documents/Unreal Projects/MyProject\\Content\\StarterContent\\Materials\n",
      "folder=> []\n",
      "file=> ['M_AssetPlatform.uasset', 'M_Basic_Floor.uasset', 'M_Basic_Wall.uasset', 'M_Brick_Clay_Beveled.uasset', 'M_Brick_Clay_New.uasset', 'M_Brick_Clay_Old.uasset', 'M_Brick_Cut_Stone.uasset', 'M_Brick_Hewn_Stone.uasset', 'M_Ceramic_Tile_Checker.uasset', 'M_CobbleStone_Pebble.uasset', 'M_CobbleStone_Rough.uasset', 'M_CobbleStone_Smooth.uasset', 'M_ColorGrid_LowSpec.uasset', 'M_Concrete_Grime.uasset', 'M_Concrete_Panels.uasset', 'M_Concrete_Poured.uasset', 'M_Concrete_Tiles.uasset', 'M_Glass.uasset', 'M_Ground_Grass.uasset', 'M_Ground_Gravel.uasset', 'M_Ground_Moss.uasset', 'M_Metal_Brushed_Nickel.uasset', 'M_Metal_Burnished_Steel.uasset', 'M_Metal_Chrome.uasset', 'M_Metal_Copper.uasset', 'M_Metal_Gold.uasset', 'M_Metal_Rust.uasset', 'M_Metal_Steel.uasset', 'M_Rock_Basalt.uasset', 'M_Rock_Marble_Polished.uasset', 'M_Rock_Sandstone.uasset', 'M_Rock_Slate.uasset', 'M_Tech_Checker_Dot.uasset', 'M_Tech_Hex_Tile.uasset', 'M_Tech_Hex_Tile_Pulse.uasset', 'M_Tech_Panel.uasset', 'M_Water_Lake.uasset', 'M_Water_Ocean.uasset', 'M_Wood_Floor_Walnut_Polished.uasset', 'M_Wood_Floor_Walnut_Worn.uasset', 'M_Wood_Oak.uasset', 'M_Wood_Pine.uasset', 'M_Wood_Walnut.uasset']\n",
      "\n",
      "C:/Users/zaid/Documents/Unreal Projects/MyProject\\Content\\StarterContent\\Particles\n",
      "folder=> ['Materials']\n",
      "file=> ['P_Ambient_Dust.uasset', 'P_Explosion.uasset', 'P_Fire.uasset', 'P_Smoke.uasset', 'P_Sparks.uasset', 'P_Steam_Lit.uasset']\n",
      "\n",
      "C:/Users/zaid/Documents/Unreal Projects/MyProject\\Content\\StarterContent\\Particles\\Materials\n",
      "folder=> []\n",
      "file=> ['M_Burst.uasset', 'M_Dust_Particle.uasset', 'M_explosion_subUV.uasset', 'M_Fire_SubUV.uasset', 'm_flare_01.uasset', 'M_Heat_Distortion.uasset', 'M_Radial_Gradient.uasset', 'M_radial_ramp.uasset', 'M_smoke_subUV.uasset', 'M_Spark.uasset']\n",
      "\n",
      "C:/Users/zaid/Documents/Unreal Projects/MyProject\\Content\\StarterContent\\Props\n",
      "folder=> ['Materials']\n",
      "file=> ['MaterialSphere.uasset', 'SM_Bush.uasset', 'SM_Chair.uasset', 'SM_CornerFrame.uasset', 'SM_Couch.uasset', 'SM_Door.uasset', 'SM_DoorFrame.uasset', 'SM_GlassWindow.uasset', 'SM_Lamp_Ceiling.uasset', 'SM_Lamp_Wall.uasset', 'SM_MatPreviewMesh_02.uasset', 'SM_PillarFrame.uasset', 'SM_PillarFrame300.uasset', 'SM_Rock.uasset', 'SM_Shelf.uasset', 'SM_Stairs.uasset', 'SM_Statue.uasset', 'SM_TableRound.uasset', 'SM_WindowFrame.uasset']\n",
      "\n",
      "C:/Users/zaid/Documents/Unreal Projects/MyProject\\Content\\StarterContent\\Props\\Materials\n",
      "folder=> []\n",
      "file=> ['M_Bush.uasset', 'M_Chair.uasset', 'M_Door.uasset', 'M_Frame.uasset', 'M_Lamp.uasset', 'M_MaterialSphere.uasset', 'M_MaterialSphere_Plain.uasset', 'M_Rock.uasset', 'M_Shelf.uasset', 'M_Statue.uasset', 'M_StatueGlass.uasset', 'M_TableRound.uasset']\n",
      "\n",
      "C:/Users/zaid/Documents/Unreal Projects/MyProject\\Content\\StarterContent\\Shapes\n",
      "folder=> []\n",
      "file=> ['Shape_Cone.uasset', 'Shape_Cube.uasset', 'Shape_Cylinder.uasset', 'Shape_NarrowCapsule.uasset', 'Shape_Pipe.uasset', 'Shape_Pipe_180.uasset', 'Shape_Pipe_90.uasset', 'Shape_Plane.uasset', 'Shape_QuadPyramid.uasset', 'Shape_Sphere.uasset', 'Shape_Torus.uasset', 'Shape_Trim.uasset', 'Shape_Trim_90_In.uasset', 'Shape_Trim_90_Out.uasset', 'Shape_TriPyramid.uasset', 'Shape_Tube.uasset', 'Shape_Wedge_A.uasset', 'Shape_Wedge_B.uasset', 'Shape_WideCapsule.uasset']\n",
      "\n",
      "C:/Users/zaid/Documents/Unreal Projects/MyProject\\Content\\StarterContent\\Textures\n",
      "folder=> []\n",
      "file=> ['T_Brick_Clay_Beveled_D.uasset', 'T_Brick_Clay_Beveled_M.uasset', 'T_Brick_Clay_Beveled_N.uasset', 'T_Brick_Clay_New_D.uasset', 'T_Brick_Clay_New_M.uasset', 'T_Brick_Clay_New_N.uasset', 'T_Brick_Clay_Old_D.uasset', 'T_Brick_Clay_Old_N.uasset', 'T_Brick_Cut_Stone_D.uasset', 'T_Brick_Cut_Stone_N.uasset', 'T_Brick_Hewn_Stone_D.uasset', 'T_Brick_Hewn_Stone_M.uasset', 'T_Brick_Hewn_Stone_N.uasset', 'T_Burst_M.uasset', 'T_Bush_D.uasset', 'T_Bush_N.uasset', 'T_Ceramic_Tile_M.uasset', 'T_Ceramic_Tile_N.uasset', 'T_Chair_M.uasset', 'T_Chair_N.uasset', 'T_Checker_Noise_M.uasset', 'T_CobbleStone_Pebble_D.uasset', 'T_CobbleStone_Pebble_M.uasset', 'T_CobbleStone_Pebble_N.uasset', 'T_CobbleStone_Rough_D.uasset', 'T_CobbleStone_Rough_N.uasset', 'T_CobbleStone_Smooth_D.uasset', 'T_CobbleStone_Smooth_M.uasset', 'T_CobbleStone_Smooth_N.uasset', 'T_Concrete_Grime_D.uasset', 'T_Concrete_Panels_D.uasset', 'T_Concrete_Panels_N.uasset', 'T_Concrete_Poured_D.uasset', 'T_Concrete_Poured_N.uasset', 'T_Concrete_Tiles_D.uasset', 'T_Concrete_Tiles_M.uasset', 'T_Concrete_Tiles_N.uasset', 'T_Concrete_Tiles_Variation_M.uasset', 'T_Detail_Rocky_N.uasset', 'T_Door_M.uasset', 'T_Door_N.uasset', 'T_Dust_Particle_D.uasset', 'T_Explosion_SubUV.uasset', 'T_Fire_SubUV.uasset', 'T_Fire_Tiled_D.uasset', 'T_Frame_M.uasset', 'T_Frame_N.uasset', 'T_Gradinet_01.uasset', 'T_Ground_Grass_D.uasset', 'T_Ground_Grass_N.uasset', 'T_Ground_Gravel_D.uasset', 'T_Ground_Gravel_N.uasset', 'T_ground_Moss_D.uasset', 'T_Ground_Moss_N.uasset', 'T_Lamp_M.uasset', 'T_Lamp_N.uasset', 'T_MacroVariation.uasset', 'T_Metal_Aluminum_D.uasset', 'T_Metal_Copper_D.uasset', 'T_Metal_Gold_D.uasset', 'T_Metal_Gold_N.uasset', 'T_Metal_Rust_D.uasset', 'T_Metal_Rust_N.uasset', 'T_Metal_Steel_D.uasset', 'T_Metal_Steel_N.uasset', 'T_Perlin_Noise_M.uasset', 'T_RockMesh_M.uasset', 'T_RockMesh_N.uasset', 'T_Rock_Basalt_D.uasset', 'T_Rock_Basalt_N.uasset', 'T_Rock_Marble_Polished_D.uasset', 'T_Rock_Sandstone_D.uasset', 'T_Rock_Sandstone_N.uasset', 'T_Rock_Slate_D.uasset', 'T_Rock_Slate_N.uasset', 'T_Rock_Smooth_Granite_D.uasset', 'T_Shelf_M.uasset', 'T_Shelf_N.uasset', 'T_Single_Tile_N.uasset', 'T_Smoke_SubUV.uasset', 'T_Smoke_Tiled_D.uasset', 'T_Spark_Core.uasset', 'T_Statue_M.uasset', 'T_Statue_N.uasset', 'T_TableRound_M.uasset', 'T_TableRound_N.uasset', 'T_Tech_Dot_M.uasset', 'T_Tech_Dot_N.uasset', 'T_Tech_Hex_Tile_M.uasset', 'T_Tech_Hex_Tile_N.uasset', 'T_Tech_Panel_M.uasset', 'T_Tech_Panel_N.uasset', 'T_Water_M.uasset', 'T_Water_N.uasset', 'T_Wood_Floor_Walnut_D.uasset', 'T_Wood_Floor_Walnut_M.uasset', 'T_Wood_Floor_Walnut_N.uasset', 'T_Wood_Oak_D.uasset', 'T_Wood_Oak_N.uasset', 'T_Wood_Pine_D.uasset', 'T_Wood_Pine_N.uasset', 'T_Wood_Walnut_D.uasset', 'T_Wood_Walnut_N.uasset']\n",
      "\n",
      "C:/Users/zaid/Documents/Unreal Projects/MyProject\\DerivedDataCache\n",
      "folder=> ['VT']\n",
      "file=> []\n",
      "\n",
      "C:/Users/zaid/Documents/Unreal Projects/MyProject\\DerivedDataCache\\VT\n",
      "folder=> []\n",
      "file=> []\n",
      "\n",
      "C:/Users/zaid/Documents/Unreal Projects/MyProject\\Intermediate\n",
      "folder=> ['Config', 'ReimportCache', 'ShaderAutogen']\n",
      "file=> ['CachedAssetRegistry.bin']\n",
      "\n",
      "C:/Users/zaid/Documents/Unreal Projects/MyProject\\Intermediate\\Config\n",
      "folder=> ['CoalescedSourceConfigs']\n",
      "file=> []\n",
      "\n",
      "C:/Users/zaid/Documents/Unreal Projects/MyProject\\Intermediate\\Config\\CoalescedSourceConfigs\n",
      "folder=> []\n",
      "file=> ['Crypto.ini', 'Encryption.ini', 'Engine.ini', 'GameUserSettings.ini', 'LocalizationServiceSettings.ini', 'UnrealInsightsSettings.ini']\n",
      "\n",
      "C:/Users/zaid/Documents/Unreal Projects/MyProject\\Intermediate\\ReimportCache\n",
      "folder=> []\n",
      "file=> ['3688439234.bin']\n",
      "\n",
      "C:/Users/zaid/Documents/Unreal Projects/MyProject\\Intermediate\\ShaderAutogen\n",
      "folder=> ['PCD3D_ES31', 'PCD3D_SM5']\n",
      "file=> []\n",
      "\n",
      "C:/Users/zaid/Documents/Unreal Projects/MyProject\\Intermediate\\ShaderAutogen\\PCD3D_ES31\n",
      "folder=> []\n",
      "file=> ['AutogenShaderHeaders.ush']\n",
      "\n",
      "C:/Users/zaid/Documents/Unreal Projects/MyProject\\Intermediate\\ShaderAutogen\\PCD3D_SM5\n",
      "folder=> []\n",
      "file=> ['AutogenShaderHeaders.ush']\n",
      "\n",
      "C:/Users/zaid/Documents/Unreal Projects/MyProject\\Saved\n",
      "folder=> ['Autosaves', 'Collections', 'Config', 'Logs']\n",
      "file=> ['AutoScreenshot.png']\n",
      "\n",
      "C:/Users/zaid/Documents/Unreal Projects/MyProject\\Saved\\Autosaves\n",
      "folder=> []\n",
      "file=> ['PackageRestoreData.json']\n",
      "\n",
      "C:/Users/zaid/Documents/Unreal Projects/MyProject\\Saved\\Collections\n",
      "folder=> []\n",
      "file=> []\n",
      "\n",
      "C:/Users/zaid/Documents/Unreal Projects/MyProject\\Saved\\Config\n",
      "folder=> ['CrashReportClient', 'WindowsEditor']\n",
      "file=> []\n",
      "\n",
      "C:/Users/zaid/Documents/Unreal Projects/MyProject\\Saved\\Config\\CrashReportClient\n",
      "folder=> ['UECC-Windows-B4117DA3494E3E6D0E33AAAAC21736E1']\n",
      "file=> []\n",
      "\n",
      "C:/Users/zaid/Documents/Unreal Projects/MyProject\\Saved\\Config\\CrashReportClient\\UECC-Windows-B4117DA3494E3E6D0E33AAAAC21736E1\n",
      "folder=> []\n",
      "file=> ['CrashReportClient.ini']\n",
      "\n",
      "C:/Users/zaid/Documents/Unreal Projects/MyProject\\Saved\\Config\\WindowsEditor\n",
      "folder=> []\n",
      "file=> ['Compat.ini', 'ControlRig.ini', 'DeviceProfiles.ini', 'Editor.ini', 'EditorPerProjectUserSettings.ini', 'EditorScriptingUtilities.ini', 'Engine.ini', 'FullBodyIK.ini', 'Game.ini', 'GameUserSettings.ini', 'HairStrands.ini', 'Hardware.ini', 'Input.ini', 'Lightmass.ini', 'Niagara.ini', 'Paper2D.ini', 'RuntimeOptions.ini', 'Scalability.ini', 'Synthesis.ini', 'TraceDataFilters.ini', 'VariantManagerContent.ini']\n",
      "\n",
      "C:/Users/zaid/Documents/Unreal Projects/MyProject\\Saved\\Logs\n",
      "folder=> []\n",
      "file=> ['MyProject.log']\n",
      "\n",
      "C:/Users/zaid/Documents/Unreal Projects/MyProject2\n",
      "folder=> ['Config', 'Content', 'DerivedDataCache', 'Intermediate', 'Saved']\n",
      "file=> ['MyProject2.uproject']\n",
      "\n",
      "C:/Users/zaid/Documents/Unreal Projects/MyProject2\\Config\n",
      "folder=> []\n",
      "file=> ['DefaultEditor.ini', 'DefaultEngine.ini', 'DefaultGame.ini']\n",
      "\n",
      "C:/Users/zaid/Documents/Unreal Projects/MyProject2\\Content\n",
      "folder=> ['Collections', 'Developers']\n",
      "file=> ['2dgame_1.umap']\n",
      "\n",
      "C:/Users/zaid/Documents/Unreal Projects/MyProject2\\Content\\Collections\n",
      "folder=> []\n",
      "file=> []\n",
      "\n",
      "C:/Users/zaid/Documents/Unreal Projects/MyProject2\\Content\\Developers\n",
      "folder=> ['ZAID']\n",
      "file=> []\n",
      "\n",
      "C:/Users/zaid/Documents/Unreal Projects/MyProject2\\Content\\Developers\\ZAID\n",
      "folder=> ['Collections']\n",
      "file=> []\n",
      "\n",
      "C:/Users/zaid/Documents/Unreal Projects/MyProject2\\Content\\Developers\\ZAID\\Collections\n",
      "folder=> []\n",
      "file=> []\n",
      "\n",
      "C:/Users/zaid/Documents/Unreal Projects/MyProject2\\DerivedDataCache\n",
      "folder=> ['VT']\n",
      "file=> []\n",
      "\n",
      "C:/Users/zaid/Documents/Unreal Projects/MyProject2\\DerivedDataCache\\VT\n",
      "folder=> []\n",
      "file=> []\n",
      "\n",
      "C:/Users/zaid/Documents/Unreal Projects/MyProject2\\Intermediate\n",
      "folder=> ['Config', 'ReimportCache', 'ShaderAutogen']\n",
      "file=> ['CachedAssetRegistry.bin']\n",
      "\n",
      "C:/Users/zaid/Documents/Unreal Projects/MyProject2\\Intermediate\\Config\n",
      "folder=> ['CoalescedSourceConfigs']\n",
      "file=> []\n",
      "\n",
      "C:/Users/zaid/Documents/Unreal Projects/MyProject2\\Intermediate\\Config\\CoalescedSourceConfigs\n",
      "folder=> []\n",
      "file=> ['Crypto.ini', 'Encryption.ini', 'Engine.ini', 'GameUserSettings.ini', 'LocalizationServiceSettings.ini', 'UnrealInsightsSettings.ini']\n",
      "\n",
      "C:/Users/zaid/Documents/Unreal Projects/MyProject2\\Intermediate\\ReimportCache\n",
      "folder=> []\n",
      "file=> ['3688439234.bin']\n",
      "\n",
      "C:/Users/zaid/Documents/Unreal Projects/MyProject2\\Intermediate\\ShaderAutogen\n",
      "folder=> ['PCD3D_ES31', 'PCD3D_SM5']\n",
      "file=> []\n",
      "\n",
      "C:/Users/zaid/Documents/Unreal Projects/MyProject2\\Intermediate\\ShaderAutogen\\PCD3D_ES31\n",
      "folder=> []\n",
      "file=> ['AutogenShaderHeaders.ush']\n",
      "\n",
      "C:/Users/zaid/Documents/Unreal Projects/MyProject2\\Intermediate\\ShaderAutogen\\PCD3D_SM5\n",
      "folder=> []\n",
      "file=> ['AutogenShaderHeaders.ush']\n",
      "\n",
      "C:/Users/zaid/Documents/Unreal Projects/MyProject2\\Saved\n",
      "folder=> ['Autosaves', 'Collections', 'Config', 'Logs']\n",
      "file=> ['AutoScreenshot.png']\n",
      "\n",
      "C:/Users/zaid/Documents/Unreal Projects/MyProject2\\Saved\\Autosaves\n",
      "folder=> []\n",
      "file=> ['PackageRestoreData.json']\n",
      "\n",
      "C:/Users/zaid/Documents/Unreal Projects/MyProject2\\Saved\\Collections\n",
      "folder=> []\n",
      "file=> []\n",
      "\n",
      "C:/Users/zaid/Documents/Unreal Projects/MyProject2\\Saved\\Config\n",
      "folder=> ['CrashReportClient', 'WindowsEditor', 'WorldState']\n",
      "file=> []\n",
      "\n",
      "C:/Users/zaid/Documents/Unreal Projects/MyProject2\\Saved\\Config\\CrashReportClient\n",
      "folder=> ['UECC-Windows-B33FB7AB4401BE9D866F04843364217C']\n",
      "file=> []\n",
      "\n",
      "C:/Users/zaid/Documents/Unreal Projects/MyProject2\\Saved\\Config\\CrashReportClient\\UECC-Windows-B33FB7AB4401BE9D866F04843364217C\n",
      "folder=> []\n",
      "file=> ['CrashReportClient.ini']\n",
      "\n",
      "C:/Users/zaid/Documents/Unreal Projects/MyProject2\\Saved\\Config\\WindowsEditor\n",
      "folder=> []\n",
      "file=> ['Compat.ini', 'ControlRig.ini', 'DeviceProfiles.ini', 'Editor.ini', 'EditorPerProjectUserSettings.ini', 'EditorScriptingUtilities.ini', 'Engine.ini', 'FullBodyIK.ini', 'Game.ini', 'GameUserSettings.ini', 'HairStrands.ini', 'Hardware.ini', 'Input.ini', 'Lightmass.ini', 'Niagara.ini', 'Paper2D.ini', 'RuntimeOptions.ini', 'Scalability.ini', 'Synthesis.ini', 'TraceDataFilters.ini', 'VariantManagerContent.ini']\n",
      "\n",
      "C:/Users/zaid/Documents/Unreal Projects/MyProject2\\Saved\\Config\\WorldState\n",
      "folder=> []\n",
      "file=> ['573658943.json']\n",
      "\n",
      "C:/Users/zaid/Documents/Unreal Projects/MyProject2\\Saved\\Logs\n",
      "folder=> []\n",
      "file=> ['MyProject2.log']\n",
      "\n"
     ]
    }
   ],
   "source": [
    "for addr, folders, files in os.walk('C:/Users/zaid/Documents/Unreal Projects/'):\n",
    "    print(addr)\n",
    "    print('folder=>',folders)\n",
    "    print('file=>',files)\n",
    "    print()"
   ]
  },
  {
   "cell_type": "code",
   "execution_count": 26,
   "metadata": {},
   "outputs": [
    {
     "data": {
      "text/plain": [
       "True"
      ]
     },
     "execution_count": 26,
     "metadata": {},
     "output_type": "execute_result"
    }
   ],
   "source": [
    "path = r'C:\\Users\\ZAID\\Downloads\\📁executable\\gog_galaxy_2.0.exe'\n",
    "os.path.exists(path)"
   ]
  },
  {
   "cell_type": "code",
   "execution_count": 29,
   "metadata": {},
   "outputs": [
    {
     "name": "stdout",
     "output_type": "stream",
     "text": [
      "True\n",
      "False\n"
     ]
    }
   ],
   "source": [
    "print(os.path.isfile(path))\n",
    "print(os.path.isdir(path))"
   ]
  },
  {
   "cell_type": "code",
   "execution_count": 31,
   "metadata": {},
   "outputs": [
    {
     "name": "stdout",
     "output_type": "stream",
     "text": [
      "960.5703125\n"
     ]
    }
   ],
   "source": [
    "size = os.path.getsize(path)\n",
    "print(size/1024) # in KB"
   ]
  },
  {
   "cell_type": "code",
   "execution_count": 39,
   "metadata": {},
   "outputs": [
    {
     "name": "stdout",
     "output_type": "stream",
     "text": [
      "True\n",
      "True\n",
      "89997632 bytes\n",
      "87888.3125 KB\n",
      "85.82843017578125 MB\n"
     ]
    }
   ],
   "source": [
    "path = r'C:\\Users\\ZAID\\Downloads\\📁executable\\vscode_setup.exe'\n",
    "print(os.path.exists(path))\n",
    "print(os.path.isfile(path))\n",
    "print(os.path.getsize(path), 'bytes')\n",
    "print(os.path.getsize(path)/1024, 'KB')\n",
    "print(os.path.getsize(path)/(1024*1024), 'MB')"
   ]
  },
  {
   "cell_type": "code",
   "execution_count": 40,
   "metadata": {},
   "outputs": [],
   "source": [
    "import shutil"
   ]
  },
  {
   "cell_type": "code",
   "execution_count": 42,
   "metadata": {},
   "outputs": [
    {
     "name": "stdout",
     "output_type": "stream",
     "text": [
      "Backup folder already exists\n"
     ]
    }
   ],
   "source": [
    "if not os.path.exists('Backup'):\n",
    "    os.mkdir('Backup')\n",
    "else:\n",
    "    print(\"Backup folder already exists\")"
   ]
  },
  {
   "cell_type": "code",
   "execution_count": 50,
   "metadata": {},
   "outputs": [
    {
     "data": {
      "text/plain": [
       "'Backup\\\\sounds'"
      ]
     },
     "execution_count": 50,
     "metadata": {},
     "output_type": "execute_result"
    }
   ],
   "source": [
    "shutil.move('sounds', 'Backup')"
   ]
  },
  {
   "cell_type": "code",
   "execution_count": 51,
   "metadata": {},
   "outputs": [],
   "source": [
    "shutil.rmtree('Backup')"
   ]
  },
  {
   "cell_type": "code",
   "execution_count": 53,
   "metadata": {},
   "outputs": [],
   "source": [
    "import matplotlib.pyplot as plt\n",
    "import numpy as np"
   ]
  },
  {
   "cell_type": "code",
   "execution_count": 54,
   "metadata": {},
   "outputs": [
    {
     "data": {
      "image/png": "[encoded data removed]",
      "text/plain": [
       "<Figure size 500x270 with 2 Axes>"
      ]
     },
     "metadata": {},
     "output_type": "display_data"
    }
   ],
   "source": [
    "data1, data2, data3, data4 = np.random.randn(4, 100)  # make 4 random data sets\n",
    "fig, (ax1, ax2) = plt.subplots(1, 2, figsize=(5, 2.7))\n",
    "ax1.hist(data1, bins=20, color='b', alpha=0.5)\n",
    "ax2.scatter(data2, data3, color='r', alpha=0.5)\n",
    "plt.show()\n",
    "\n"
   ]
  },
  {
   "cell_type": "code",
   "execution_count": null,
   "metadata": {},
   "outputs": [],
   "source": []
  }
 ],
 "metadata": {
  "kernelspec": {
   "display_name": "base",
   "language": "python",
   "name": "python3"
  },
  "language_info": {
   "codemirror_mode": {
    "name": "ipython",
    "version": 3
   },
   "file_extension": ".py",
   "mimetype": "text/x-python",
   "name": "python",
   "nbconvert_exporter": "python",
   "pygments_lexer": "ipython3",
   "version": "3.10.9"
  },
  "orig_nbformat": 4
 },
 "nbformat": 4,
 "nbformat_minor": 2
}
