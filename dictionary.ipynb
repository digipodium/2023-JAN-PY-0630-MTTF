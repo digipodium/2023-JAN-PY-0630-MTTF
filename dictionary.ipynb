{
 "cells": [
  {
   "attachments": {},
   "cell_type": "markdown",
   "metadata": {},
   "source": [
    "dictionary\n",
    "- ordered\n",
    "- mutable\n",
    "- unindexed\n",
    "- key : value pairs\n",
    "- keys are unique\n",
    "- keys are immutable\n",
    "- values can be duplicated\n",
    "- values can be mutable\n",
    "- represented by `{ }`\n",
    "- can be nested\n",
    "- `dict( )` can be used to create a dictionary"
   ]
  },
  {
   "cell_type": "code",
   "execution_count": 2,
   "metadata": {},
   "outputs": [],
   "source": [
    "book = {\n",
    "    'title':'The Lost Metal',\n",
    "    'author':'Brandon Sanderson',\n",
    "    'pages': 899,\n",
    "    'price': '$19.99',\n",
    "    'publisher': 'Tor Books',\n",
    "    'type': 'Hardcover',\n",
    "    'genre': 'Fantasy',\n",
    "}"
   ]
  },
  {
   "cell_type": "code",
   "execution_count": 6,
   "metadata": {},
   "outputs": [
    {
     "data": {
      "text/plain": [
       "'The Lost Metal'"
      ]
     },
     "execution_count": 6,
     "metadata": {},
     "output_type": "execute_result"
    }
   ],
   "source": [
    "book['title']"
   ]
  },
  {
   "cell_type": "code",
   "execution_count": 7,
   "metadata": {},
   "outputs": [
    {
     "data": {
      "text/plain": [
       "'Tor Books'"
      ]
     },
     "execution_count": 7,
     "metadata": {},
     "output_type": "execute_result"
    }
   ],
   "source": [
    "key = 'publisher'\n",
    "book[key]"
   ]
  },
  {
   "cell_type": "code",
   "execution_count": 9,
   "metadata": {},
   "outputs": [],
   "source": [
    "book['price'] = '$21.49'"
   ]
  },
  {
   "cell_type": "code",
   "execution_count": 13,
   "metadata": {},
   "outputs": [
    {
     "data": {
      "text/plain": [
       "{'title': 'The Lost Metal',\n",
       " 'author': 'Brandon Sanderson',\n",
       " 'pages': 899,\n",
       " 'price': '$21.49',\n",
       " 'publisher': 'Tor Books',\n",
       " 'type': 'Hardcover',\n",
       " 'genre': 'Fantasy',\n",
       " 'rating': 4.9}"
      ]
     },
     "execution_count": 13,
     "metadata": {},
     "output_type": "execute_result"
    }
   ],
   "source": [
    "book"
   ]
  },
  {
   "cell_type": "code",
   "execution_count": 14,
   "metadata": {},
   "outputs": [],
   "source": [
    "book['rating'] = 4.9"
   ]
  },
  {
   "cell_type": "code",
   "execution_count": 15,
   "metadata": {},
   "outputs": [
    {
     "data": {
      "text/plain": [
       "['title', 'author', 'pages', 'price', 'publisher', 'type', 'genre', 'rating']"
      ]
     },
     "execution_count": 15,
     "metadata": {},
     "output_type": "execute_result"
    }
   ],
   "source": [
    "list(book.keys())"
   ]
  },
  {
   "cell_type": "code",
   "execution_count": 16,
   "metadata": {},
   "outputs": [
    {
     "data": {
      "text/plain": [
       "['The Lost Metal',\n",
       " 'Brandon Sanderson',\n",
       " 899,\n",
       " '$21.49',\n",
       " 'Tor Books',\n",
       " 'Hardcover',\n",
       " 'Fantasy',\n",
       " 4.9]"
      ]
     },
     "execution_count": 16,
     "metadata": {},
     "output_type": "execute_result"
    }
   ],
   "source": [
    "list(book.values())"
   ]
  },
  {
   "cell_type": "code",
   "execution_count": 17,
   "metadata": {},
   "outputs": [
    {
     "data": {
      "text/plain": [
       "[('title', 'The Lost Metal'),\n",
       " ('author', 'Brandon Sanderson'),\n",
       " ('pages', 899),\n",
       " ('price', '$21.49'),\n",
       " ('publisher', 'Tor Books'),\n",
       " ('type', 'Hardcover'),\n",
       " ('genre', 'Fantasy'),\n",
       " ('rating', 4.9)]"
      ]
     },
     "execution_count": 17,
     "metadata": {},
     "output_type": "execute_result"
    }
   ],
   "source": [
    "list(book.items())"
   ]
  },
  {
   "cell_type": "code",
   "execution_count": 18,
   "metadata": {},
   "outputs": [
    {
     "name": "stdout",
     "output_type": "stream",
     "text": [
      "title\n",
      "author\n",
      "pages\n",
      "price\n",
      "publisher\n",
      "type\n",
      "genre\n",
      "rating\n"
     ]
    }
   ],
   "source": [
    "# normal loop gives only keys\n",
    "for i in book:\n",
    "    print(i)"
   ]
  },
  {
   "cell_type": "code",
   "execution_count": 19,
   "metadata": {},
   "outputs": [
    {
     "name": "stdout",
     "output_type": "stream",
     "text": [
      "title The Lost Metal\n",
      "author Brandon Sanderson\n",
      "pages 899\n",
      "price $21.49\n",
      "publisher Tor Books\n",
      "type Hardcover\n",
      "genre Fantasy\n",
      "rating 4.9\n"
     ]
    }
   ],
   "source": [
    "# loop to get both keys and values\n",
    "for i in book:\n",
    "    print(i, book[i])"
   ]
  },
  {
   "cell_type": "code",
   "execution_count": 20,
   "metadata": {},
   "outputs": [
    {
     "name": "stdout",
     "output_type": "stream",
     "text": [
      "title The Lost Metal\n",
      "author Brandon Sanderson\n",
      "pages 899\n",
      "price $21.49\n",
      "publisher Tor Books\n",
      "type Hardcover\n",
      "genre Fantasy\n",
      "rating 4.9\n"
     ]
    }
   ],
   "source": [
    "for k, v in book.items():\n",
    "    print(k, v)"
   ]
  },
  {
   "cell_type": "code",
   "execution_count": 21,
   "metadata": {},
   "outputs": [
    {
     "name": "stdout",
     "output_type": "stream",
     "text": [
      "{'name': 'Aryan', 'email': 'Aryan@gmail.com', 'dob': '12-12-12', 'password': 'alexa123'}\n"
     ]
    }
   ],
   "source": [
    "# user input\n",
    "userdata = {}\n",
    "userdata['name'] = input('Enter your name: ')\n",
    "userdata['email'] = input('Enter your email: ')\n",
    "userdata['dob'] = input('Enter your D.o.b : ')\n",
    "userdata['password'] = input('Enter your password: ')\n",
    "\n",
    "print(userdata)"
   ]
  },
  {
   "cell_type": "code",
   "execution_count": 23,
   "metadata": {},
   "outputs": [],
   "source": [
    "# nested dictionary\n",
    "report = {\n",
    "    'aditya': {\n",
    "        'english': 90,\n",
    "        'hindi': 50,\n",
    "        'maths': 40\n",
    "    },\n",
    "    'utkarsh':{\n",
    "        'english': 80,\n",
    "        'hindi':75,\n",
    "        'maths': 52\n",
    "    },\n",
    "    'Aniket':{\n",
    "        'english': 80,\n",
    "        'hindi':60,\n",
    "        'maths': 89,\n",
    "    }\n",
    "}"
   ]
  },
  {
   "cell_type": "code",
   "execution_count": 24,
   "metadata": {},
   "outputs": [
    {
     "data": {
      "text/plain": [
       "{'english': 80, 'hindi': 75, 'maths': 52}"
      ]
     },
     "execution_count": 24,
     "metadata": {},
     "output_type": "execute_result"
    }
   ],
   "source": [
    "report['utkarsh']"
   ]
  },
  {
   "cell_type": "code",
   "execution_count": 26,
   "metadata": {},
   "outputs": [
    {
     "data": {
      "text/plain": [
       "89"
      ]
     },
     "execution_count": 26,
     "metadata": {},
     "output_type": "execute_result"
    }
   ],
   "source": [
    "report['Aniket']['maths']"
   ]
  },
  {
   "cell_type": "code",
   "execution_count": 28,
   "metadata": {},
   "outputs": [
    {
     "name": "stdout",
     "output_type": "stream",
     "text": [
      "aditya -> english 90\n",
      "aditya -> hindi 50\n",
      "aditya -> maths 40\n",
      "utkarsh -> english 80\n",
      "utkarsh -> hindi 75\n",
      "utkarsh -> maths 52\n",
      "Aniket -> english 80\n",
      "Aniket -> hindi 60\n",
      "Aniket -> maths 89\n"
     ]
    }
   ],
   "source": [
    "for k, v in report.items():\n",
    "    for k1, v1 in v.items():\n",
    "        print(k,'->', k1, v1)"
   ]
  },
  {
   "cell_type": "code",
   "execution_count": 29,
   "metadata": {},
   "outputs": [
    {
     "data": {
      "text/plain": [
       "'Brandon Sanderson'"
      ]
     },
     "execution_count": 29,
     "metadata": {},
     "output_type": "execute_result"
    }
   ],
   "source": [
    "book.pop('author')"
   ]
  },
  {
   "cell_type": "code",
   "execution_count": 30,
   "metadata": {},
   "outputs": [
    {
     "data": {
      "text/plain": [
       "{'title': 'The Lost Metal',\n",
       " 'pages': 899,\n",
       " 'price': '$21.49',\n",
       " 'publisher': 'Tor Books',\n",
       " 'type': 'Hardcover',\n",
       " 'genre': 'Fantasy',\n",
       " 'rating': 4.9}"
      ]
     },
     "execution_count": 30,
     "metadata": {},
     "output_type": "execute_result"
    }
   ],
   "source": [
    "book"
   ]
  },
  {
   "cell_type": "code",
   "execution_count": 32,
   "metadata": {},
   "outputs": [
    {
     "data": {
      "text/plain": [
       "{1: 'kuch bhi', 2: 'kuch bhi', 3: 'kuch bhi', 4: 'kuch bhi'}"
      ]
     },
     "execution_count": 32,
     "metadata": {},
     "output_type": "execute_result"
    }
   ],
   "source": [
    "x = [1,2,3,4]\n",
    "dict.fromkeys(x, 'kuch bhi')"
   ]
  },
  {
   "cell_type": "code",
   "execution_count": null,
   "metadata": {},
   "outputs": [],
   "source": [
    "\n"
   ]
  }
 ],
 "metadata": {
  "kernelspec": {
   "display_name": "base",
   "language": "python",
   "name": "python3"
  },
  "language_info": {
   "codemirror_mode": {
    "name": "ipython",
    "version": 3
   },
   "file_extension": ".py",
   "mimetype": "text/x-python",
   "name": "python",
   "nbconvert_exporter": "python",
   "pygments_lexer": "ipython3",
   "version": "3.10.9"
  },
  "orig_nbformat": 4
 },
 "nbformat": 4,
 "nbformat_minor": 2
}
