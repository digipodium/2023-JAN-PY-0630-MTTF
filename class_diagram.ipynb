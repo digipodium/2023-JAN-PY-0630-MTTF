{
 "cells": [
  {
   "cell_type": "code",
   "execution_count": 1,
   "metadata": {},
   "outputs": [],
   "source": [
    "names = ['ajay', 'vijay', 'suresh', 'ramesh', 'mahesh']"
   ]
  },
  {
   "cell_type": "code",
   "execution_count": 2,
   "metadata": {},
   "outputs": [],
   "source": [
    "accs = [\n",
    "    {'name': 'ajay', 'amt': 12000, 'pin': 1234, 'acno': 1234567890},\n",
    "    {'name': 'vijay', 'amt': 100400, 'pin': 1534, 'acno': 1234567891},\n",
    "    {'name': 'suresh', 'amt': 150200, 'pin': 2234, 'acno': 1234567892},\n",
    "    {'name': 'ramesh', 'amt': 20000, 'pin': 1254, 'acno': 1234567893},\n",
    "    {'name': 'mahesh', 'amt': 2501200, 'pin': 2234, 'acno': 1234567894}\n",
    "]"
   ]
  },
  {
   "cell_type": "code",
   "execution_count": 5,
   "metadata": {},
   "outputs": [
    {
     "data": {
      "text/plain": [
       "{'name': 'suresh', 'amt': 150200, 'pin': 2234, 'acno': 1234567892}"
      ]
     },
     "execution_count": 5,
     "metadata": {},
     "output_type": "execute_result"
    }
   ],
   "source": [
    "accs[0]"
   ]
  },
  {
   "attachments": {},
   "cell_type": "markdown",
   "metadata": {},
   "source": [
    "OOP\n",
    "- classes n objects\n",
    "- abstraction\n",
    "- encapsulation\n",
    "- inheritance"
   ]
  },
  {
   "cell_type": "code",
   "execution_count": 26,
   "metadata": {},
   "outputs": [],
   "source": [
    "class Account:\n",
    "    def __init__(self,name, amt, pin, acno):\n",
    "        self.name = name\n",
    "        self.amt = amt\n",
    "        self.pin = pin\n",
    "        self.acno = acno\n",
    "\n",
    "    def __repr__(self):\n",
    "        return f'{self.name}'\n",
    "      "
   ]
  },
  {
   "cell_type": "code",
   "execution_count": 23,
   "metadata": {},
   "outputs": [
    {
     "data": {
      "text/plain": [
       "[ajay, vijay, suresh, ramesh]"
      ]
     },
     "execution_count": 23,
     "metadata": {},
     "output_type": "execute_result"
    }
   ],
   "source": [
    "accobj = [\n",
    "    Account('ajay', 12000, 1234, 1234567890),\n",
    "    Account('vijay', 100400, 1534, 1234567891),\n",
    "    Account('suresh', 150200, 2234, 1234567892),\n",
    "    Account('ramesh', 20000, 1254, 1234567893),\n",
    "]\n",
    "\n",
    "accobj"
   ]
  },
  {
   "cell_type": "code",
   "execution_count": 24,
   "metadata": {},
   "outputs": [
    {
     "data": {
      "text/plain": [
       "pradeep"
      ]
     },
     "execution_count": 24,
     "metadata": {},
     "output_type": "execute_result"
    }
   ],
   "source": [
    "pr = Account('pradeep', 10000, 1234, 1234567890)\n",
    "pr"
   ]
  },
  {
   "cell_type": "code",
   "execution_count": 25,
   "metadata": {},
   "outputs": [
    {
     "data": {
      "text/plain": [
       "ajay"
      ]
     },
     "execution_count": 25,
     "metadata": {},
     "output_type": "execute_result"
    }
   ],
   "source": [
    "accobj[0]"
   ]
  },
  {
   "cell_type": "code",
   "execution_count": 55,
   "metadata": {},
   "outputs": [],
   "source": [
    "class Triangle:\n",
    "    def __init__(self, b=1, h=1):\n",
    "        self.b = b\n",
    "        self.h = h\n",
    "    \n",
    "    def area(self):\n",
    "        return 0.5 * self.b * self.h\n",
    "    \n",
    "    def __repr__(self):\n",
    "        return f'📐{self.area()}'\n",
    "    \n",
    "    def __gt__(self, other):\n",
    "        if isinstance(other, Triangle):\n",
    "            return self.area() > other.area()"
   ]
  },
  {
   "cell_type": "code",
   "execution_count": 58,
   "metadata": {},
   "outputs": [
    {
     "data": {
      "text/plain": [
       "[📐300.0, 📐450.0, 📐8250.0]"
      ]
     },
     "execution_count": 58,
     "metadata": {},
     "output_type": "execute_result"
    }
   ],
   "source": [
    "tris = [\n",
    "    Triangle(30, 550),\n",
    "    Triangle(20, 30),\n",
    "    Triangle(30, 30),\n",
    "]\n",
    "tris.sort()\n",
    "tris\n"
   ]
  },
  {
   "cell_type": "code",
   "execution_count": 37,
   "metadata": {},
   "outputs": [],
   "source": [
    "n = int(input('N>>>'))\n",
    "arr = [int(input(f'{n} values >>>')) for _ in range(n)]\n",
    "k = int(input('k>>>'))\n",
    "challenges = [int(input(f'{k} values >>>')) for _ in range(k)]"
   ]
  },
  {
   "cell_type": "code",
   "execution_count": 54,
   "metadata": {},
   "outputs": [
    {
     "name": "stdout",
     "output_type": "stream",
     "text": [
      "5 = 3\n",
      "2 = 6\n",
      "6 = 0\n",
      "9\n"
     ]
    }
   ],
   "source": [
    "arr.sort(reverse=True)\n",
    "total = 0\n",
    "for item in challenges:\n",
    "    cnt = arr.count(item)\n",
    "    pos = arr.index(item)\n",
    "    print(f'{item} = {cnt+pos-1}')\n",
    "    total += cnt+pos-1\n",
    "print(total)\n"
   ]
  },
  {
   "cell_type": "code",
   "execution_count": null,
   "metadata": {},
   "outputs": [],
   "source": []
  }
 ],
 "metadata": {
  "kernelspec": {
   "display_name": "base",
   "language": "python",
   "name": "python3"
  },
  "language_info": {
   "codemirror_mode": {
    "name": "ipython",
    "version": 3
   },
   "file_extension": ".py",
   "mimetype": "text/x-python",
   "name": "python",
   "nbconvert_exporter": "python",
   "pygments_lexer": "ipython3",
   "version": "3.10.9"
  },
  "orig_nbformat": 4
 },
 "nbformat": 4,
 "nbformat_minor": 2
}
