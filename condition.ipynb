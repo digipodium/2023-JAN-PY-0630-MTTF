{
 "cells": [
  {
   "cell_type": "code",
   "execution_count": 2,
   "metadata": {},
   "outputs": [
    {
     "name": "stdout",
     "output_type": "stream",
     "text": [
      "Sad Life 😔\n"
     ]
    }
   ],
   "source": [
    "x = input(\"Enter kariye ek number: \")\n",
    "\n",
    "if x.isnumeric():\n",
    "    print('Good job 👏')\n",
    "else:\n",
    "    print('Sad Life 😔')"
   ]
  },
  {
   "cell_type": "code",
   "execution_count": 5,
   "metadata": {},
   "outputs": [
    {
     "name": "stdout",
     "output_type": "stream",
     "text": [
      "please wait 17 years\n"
     ]
    }
   ],
   "source": [
    "age = int(input(\"enter your age: \"))\n",
    "if age >= 18:\n",
    "    print('You have the right to vote')\n",
    "else:\n",
    "    print(f\"please wait {18 - age} years\")"
   ]
  },
  {
   "attachments": {},
   "cell_type": "markdown",
   "metadata": {},
   "source": [
    "content display\n",
    "> f-string is formatted string (python 3.6)"
   ]
  },
  {
   "cell_type": "code",
   "execution_count": 12,
   "metadata": {},
   "outputs": [
    {
     "name": "stdout",
     "output_type": "stream",
     "text": [
      "we have 100kg mango in store\n",
      "total costing about Rs.2000\n"
     ]
    }
   ],
   "source": [
    "x = 100\n",
    "y = 'mango'\n",
    "prc = 20\n",
    "print(f'we have {x}kg {y} in store')\n",
    "print(f'total costing about Rs.{x * prc}')"
   ]
  },
  {
   "cell_type": "code",
   "execution_count": 16,
   "metadata": {},
   "outputs": [
    {
     "name": "stdout",
     "output_type": "stream",
     "text": [
      "x=60 is natural number\n",
      "x=60 is even number\n",
      "x=60 is greater than 50\n"
     ]
    }
   ],
   "source": [
    "x = int(input('Enter a number: '))\n",
    "if x > 0:\n",
    "    print(f\"{x=} is natural number\")\n",
    "if x % 2 == 0:\n",
    "    print(f'{x=} is even number')\n",
    "if x > 50:\n",
    "    print(f'{x=} is greater than 50')"
   ]
  },
  {
   "attachments": {},
   "cell_type": "markdown",
   "metadata": {},
   "source": [
    "#### wap to calculate `total salary` on the basis of following rules\n",
    "- if designation is manager , basic salary is 50000\n",
    "- if desingation is developer, basic salary is 40000\n",
    "- if designation is tester, basic salary is 30000\n",
    "- 10% of basic salary is given as bonus to manager\n",
    "- 20% of basic salary is given as bonus to developer\n",
    "- 30% of basic salary is given as bonus to tester\n",
    "- 20% hra is given on basic salary"
   ]
  },
  {
   "cell_type": "code",
   "execution_count": 17,
   "metadata": {},
   "outputs": [
    {
     "name": "stdout",
     "output_type": "stream",
     "text": [
      "65000.0\n"
     ]
    }
   ],
   "source": [
    "bs = 50000\n",
    "bns = bs * .1 # 10 %\n",
    "hra = bs * .2 # 20 %\n",
    "print( bs + bns + hra)"
   ]
  },
  {
   "attachments": {},
   "cell_type": "markdown",
   "metadata": {},
   "source": [
    "seperated conditions using multiple ifs"
   ]
  },
  {
   "cell_type": "code",
   "execution_count": 20,
   "metadata": {},
   "outputs": [
    {
     "name": "stdout",
     "output_type": "stream",
     "text": [
      "total salary is 56000.0\n"
     ]
    }
   ],
   "source": [
    "post = input('enter your designation:')\n",
    "if post == 'manager':\n",
    "    bs = 50000\n",
    "    bns = bs * .1 # 10 %\n",
    "    hra = bs * .2 # 20 %\n",
    "if post == 'developer':\n",
    "    bs = 40000\n",
    "    bns = bs * .2 # 20 %\n",
    "    hra = bs * .2 # 20 %\n",
    "if post == 'tester':\n",
    "    bs = 30000\n",
    "    bns = bs * .3 # 30 %\n",
    "    hra = bs * .2 # 20 %\n",
    "print(f'total salary is {bs + bns + hra}')"
   ]
  },
  {
   "cell_type": "code",
   "execution_count": 4,
   "metadata": {},
   "outputs": [
    {
     "name": "stdout",
     "output_type": "stream",
     "text": [
      "Khatm ho gya\n"
     ]
    }
   ],
   "source": [
    "fruit = input('Enter a fruit name:')\n",
    "match fruit:\n",
    "    case 'apple':\n",
    "        print(\"Apple are 100/kg\")\n",
    "    case 'mango':\n",
    "        print('Mangoes are 50/kg')\n",
    "    case 'pomegranate':\n",
    "        print('Khatm ho gya')\n",
    "    case _:                             # default case \n",
    "        print(f'{fruit} not available')"
   ]
  },
  {
   "attachments": {},
   "cell_type": "markdown",
   "metadata": {},
   "source": [
    "#### wap to compare which number is greater between 3 numbers"
   ]
  },
  {
   "cell_type": "code",
   "execution_count": null,
   "metadata": {},
   "outputs": [],
   "source": [
    "a = 230\n",
    "b = 41\n",
    "c = 931\n",
    "# related conditions use if-elif-else ladder, \n",
    "if a > b and a > c:\n",
    "    print('a is greater')\n",
    "elif b > a and b > c:\n",
    "    print('b is greater')\n",
    "else:\n",
    "    print('c is greater')\n"
   ]
  },
  {
   "cell_type": "code",
   "execution_count": null,
   "metadata": {},
   "outputs": [],
   "source": []
  }
 ],
 "metadata": {
  "kernelspec": {
   "display_name": "base",
   "language": "python",
   "name": "python3"
  },
  "language_info": {
   "codemirror_mode": {
    "name": "ipython",
    "version": 3
   },
   "file_extension": ".py",
   "mimetype": "text/x-python",
   "name": "python",
   "nbconvert_exporter": "python",
   "pygments_lexer": "ipython3",
   "version": "3.10.9"
  },
  "orig_nbformat": 4,
  "vscode": {
   "interpreter": {
    "hash": "8befaed7f752a58a740e5f08c55a1efd8fcda412d7a2f1c4d828330769dea609"
   }
  }
 },
 "nbformat": 4,
 "nbformat_minor": 2
}
