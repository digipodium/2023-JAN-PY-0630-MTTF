{
 "cells": [
  {
   "attachments": {},
   "cell_type": "markdown",
   "metadata": {},
   "source": [
    "`f(x) = x + 3`\n",
    "\n",
    "`g(x,y) = x**2 + y + 3`\n",
    "\n",
    "- lambda expressions\n",
    "- map \n",
    "- filter"
   ]
  },
  {
   "cell_type": "code",
   "execution_count": 2,
   "metadata": {},
   "outputs": [],
   "source": [
    "f = lambda x : x + 3"
   ]
  },
  {
   "cell_type": "code",
   "execution_count": 4,
   "metadata": {},
   "outputs": [
    {
     "name": "stdout",
     "output_type": "stream",
     "text": [
      "6 7 10\n"
     ]
    }
   ],
   "source": [
    "print(f(3), f(4), f(7))"
   ]
  },
  {
   "cell_type": "code",
   "execution_count": 5,
   "metadata": {},
   "outputs": [
    {
     "name": "stdout",
     "output_type": "stream",
     "text": [
      "8 17\n"
     ]
    }
   ],
   "source": [
    "g = lambda x, y : x**2 + y + 3\n",
    "print(g(2,1), g(3,5))"
   ]
  },
  {
   "cell_type": "code",
   "execution_count": 6,
   "metadata": {},
   "outputs": [
    {
     "name": "stdout",
     "output_type": "stream",
     "text": [
      "[15, 59, 84, 40, 84, 18, 2, 94, 51, 18, 118]\n"
     ]
    }
   ],
   "source": [
    "x = [20,64,89,45,89,23,7,99,56,23,123]\n",
    "# for begginners\n",
    "y = [] # blank list\n",
    "for i in x:\n",
    "    y.append(i-5)\n",
    "print(y)"
   ]
  },
  {
   "cell_type": "code",
   "execution_count": 10,
   "metadata": {},
   "outputs": [
    {
     "data": {
      "text/plain": [
       "[100, 320, 445, 225, 445, 115, 35, 495, 280, 115, 615]"
      ]
     },
     "execution_count": 10,
     "metadata": {},
     "output_type": "execute_result"
    }
   ],
   "source": [
    "list(map(lambda i: i*5, x))"
   ]
  },
  {
   "cell_type": "code",
   "execution_count": 14,
   "metadata": {},
   "outputs": [
    {
     "name": "stdout",
     "output_type": "stream",
     "text": [
      "[25.942243542145693, 71.84010022264724, 105.152270541344, 47.01063709417264]\n"
     ]
    }
   ],
   "source": [
    "p = [23,56,89,41]\n",
    "b = [12,45,56,23]\n",
    "h = list(map(lambda a,b: (a**2 + b**2)**.5, p,b))\n",
    "print(h)"
   ]
  },
  {
   "attachments": {},
   "cell_type": "markdown",
   "metadata": {},
   "source": [
    "#### create a list of squares from a list of numbers"
   ]
  },
  {
   "cell_type": "code",
   "execution_count": 16,
   "metadata": {},
   "outputs": [
    {
     "name": "stdout",
     "output_type": "stream",
     "text": [
      "[3, 4, 5, 5, 3, 5, 6, 3, 5, 6, 3, 3, 4, 7, 4]\n"
     ]
    }
   ],
   "source": [
    "a= [2,3,1,2,4,5,5,2,2,2,1,1,2,3,5,6,2,2,3,5,6,1,3,3,4,7,4]\n",
    "b = list(filter(lambda i: i >=3 , a))\n",
    "print(b)"
   ]
  }
 ],
 "metadata": {
  "kernelspec": {
   "display_name": "base",
   "language": "python",
   "name": "python3"
  },
  "language_info": {
   "codemirror_mode": {
    "name": "ipython",
    "version": 3
   },
   "file_extension": ".py",
   "mimetype": "text/x-python",
   "name": "python",
   "nbconvert_exporter": "python",
   "pygments_lexer": "ipython3",
   "version": "3.10.9"
  },
  "orig_nbformat": 4,
  "vscode": {
   "interpreter": {
    "hash": "8befaed7f752a58a740e5f08c55a1efd8fcda412d7a2f1c4d828330769dea609"
   }
  }
 },
 "nbformat": 4,
 "nbformat_minor": 2
}
