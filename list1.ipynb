{
 "cells": [
  {
   "cell_type": "code",
   "execution_count": 2,
   "metadata": {},
   "outputs": [],
   "source": [
    "x = [] # blank list\n",
    "x2 = [1, 2, 3] # list with 3 elements\n",
    "x3 = [12,45,'Apple','Orange'] # list with 4 elements\n",
    "x4 = ['Aman','Vijay','Ritik']"
   ]
  },
  {
   "cell_type": "code",
   "execution_count": 3,
   "metadata": {},
   "outputs": [
    {
     "name": "stdout",
     "output_type": "stream",
     "text": [
      "[]\n",
      "[1, 2, 3]\n",
      "[12, 45, 'Apple', 'Orange']\n",
      "['Aman', 'Vijay', 'Ritik']\n"
     ]
    }
   ],
   "source": [
    "print(x)\n",
    "print(x2)\n",
    "print(x3)\n",
    "print(x4)"
   ]
  },
  {
   "cell_type": "code",
   "execution_count": 4,
   "metadata": {},
   "outputs": [
    {
     "data": {
      "text/plain": [
       "[1, 1, 1, 1, 1]"
      ]
     },
     "execution_count": 4,
     "metadata": {},
     "output_type": "execute_result"
    }
   ],
   "source": [
    "y = [1]\n",
    "y * 5"
   ]
  },
  {
   "cell_type": "code",
   "execution_count": 7,
   "metadata": {},
   "outputs": [
    {
     "name": "stdout",
     "output_type": "stream",
     "text": [
      "[1, 2, 3, 1, 2, 3, 1, 2, 3, 1, 2, 3, 1, 2, 3]\n"
     ]
    }
   ],
   "source": [
    "x5 = x2*5\n",
    "print(x5)"
   ]
  },
  {
   "cell_type": "code",
   "execution_count": 11,
   "metadata": {},
   "outputs": [
    {
     "name": "stdout",
     "output_type": "stream",
     "text": [
      "['Aman', 'Vijay', 'Ritik', 1, 2, 3, 1, 2, 3, 1, 2, 3, 1, 2, 3, 1, 2, 3]\n"
     ]
    }
   ],
   "source": [
    "x6 = x4 + x5 # concatenation\n",
    "print(x6)"
   ]
  },
  {
   "cell_type": "code",
   "execution_count": 12,
   "metadata": {},
   "outputs": [],
   "source": [
    "good_movies = ['Zindagi na milegi dobara','3 idiots','Bahubali','Hera Pheri','Andhadhun']\n",
    "bad_movies =['circus','mission majnu','om shanti om', 'kabir singh','talash'] "
   ]
  },
  {
   "cell_type": "code",
   "execution_count": 28,
   "metadata": {},
   "outputs": [
    {
     "name": "stdout",
     "output_type": "stream",
     "text": [
      "['Zindagi na milegi dobara', '3 idiots', 'Bahubali', 'Hera Pheri', 'Andhadhun', 'circus', 'mission majnu', 'om shanti om', 'kabir singh', 'talash']\n"
     ]
    }
   ],
   "source": [
    "all_movies = good_movies + bad_movies\n",
    "print(all_movies)"
   ]
  },
  {
   "cell_type": "code",
   "execution_count": 29,
   "metadata": {},
   "outputs": [],
   "source": [
    "all_movies.append('Troll 2')\n",
    "all_movies.append('Black Widow')"
   ]
  },
  {
   "cell_type": "code",
   "execution_count": 30,
   "metadata": {},
   "outputs": [
    {
     "name": "stdout",
     "output_type": "stream",
     "text": [
      "['Zindagi na milegi dobara', '3 idiots', 'Bahubali', 'Hera Pheri', 'Andhadhun', 'circus', 'mission majnu', 'om shanti om', 'kabir singh', 'talash', 'Troll 2', 'Black Widow']\n"
     ]
    }
   ],
   "source": [
    "print(all_movies)"
   ]
  },
  {
   "cell_type": "code",
   "execution_count": 31,
   "metadata": {},
   "outputs": [
    {
     "name": "stdout",
     "output_type": "stream",
     "text": [
      "['Zindagi na milegi dobara', '3 idiots', 'The Dark Knight', 'Bahubali', 'Hera Pheri', 'Andhadhun', 'circus', 'mission majnu', 'om shanti om', 'kabir singh', 'talash', 'Troll 2', 'Black Widow']\n"
     ]
    }
   ],
   "source": [
    "all_movies.insert(2, 'The Dark Knight')\n",
    "print(all_movies)"
   ]
  },
  {
   "cell_type": "code",
   "execution_count": 32,
   "metadata": {},
   "outputs": [
    {
     "name": "stdout",
     "output_type": "stream",
     "text": [
      "['Zindagi na milegi dobara', '3 idiots', 'The Dark Knight', 'Bahubali', 'Hera Pheri', 'Andhadhun', 'circus', 'mission majnu', 'om shanti om', 'kabir singh', 'talash', 'Troll 2', 'Black Widow', 'Fast & Furious', '2 Fast 2 Furious', 'Fast and Furious: Tokyo Drift']\n"
     ]
    }
   ],
   "source": [
    "sequels = ['Fast & Furious','2 Fast 2 Furious','Fast and Furious: Tokyo Drift']\n",
    "all_movies.extend(sequels)\n",
    "print(all_movies)"
   ]
  },
  {
   "cell_type": "code",
   "execution_count": 33,
   "metadata": {},
   "outputs": [
    {
     "data": {
      "text/plain": [
       "16"
      ]
     },
     "execution_count": 33,
     "metadata": {},
     "output_type": "execute_result"
    }
   ],
   "source": [
    "len(all_movies)"
   ]
  },
  {
   "cell_type": "code",
   "execution_count": 34,
   "metadata": {},
   "outputs": [
    {
     "data": {
      "text/plain": [
       "['Zindagi na milegi dobara',\n",
       " '3 idiots',\n",
       " 'The Dark Knight',\n",
       " 'Bahubali',\n",
       " 'Hera Pheri']"
      ]
     },
     "execution_count": 34,
     "metadata": {},
     "output_type": "execute_result"
    }
   ],
   "source": [
    "all_movies[:5] # first 5 elements"
   ]
  },
  {
   "cell_type": "code",
   "execution_count": 35,
   "metadata": {},
   "outputs": [
    {
     "data": {
      "text/plain": [
       "['Troll 2',\n",
       " 'Black Widow',\n",
       " 'Fast & Furious',\n",
       " '2 Fast 2 Furious',\n",
       " 'Fast and Furious: Tokyo Drift']"
      ]
     },
     "execution_count": 35,
     "metadata": {},
     "output_type": "execute_result"
    }
   ],
   "source": [
    "all_movies[-5: ] # last 5 elements"
   ]
  },
  {
   "cell_type": "code",
   "execution_count": 36,
   "metadata": {},
   "outputs": [
    {
     "name": "stdout",
     "output_type": "stream",
     "text": [
      "['Zindagi na milegi dobara', '3 idiots', 'The Dark Knight', 'Bahubali 2: The Conclusion', 'Hera Pheri', 'Andhadhun', 'circus', 'mission majnu', 'om shanti om', 'kabir singh', 'talash', 'Troll 2', 'Black Widow', 'Fast & Furious', '2 Fast 2 Furious', 'Fast and Furious: Tokyo Drift']\n"
     ]
    }
   ],
   "source": [
    "all_movies[3] = 'Bahubali 2: The Conclusion'\n",
    "print(all_movies)"
   ]
  },
  {
   "cell_type": "code",
   "execution_count": 41,
   "metadata": {},
   "outputs": [
    {
     "name": "stdout",
     "output_type": "stream",
     "text": [
      "['Zindagi na milegi dobara', '3 idiots', 'The Dark Knight', 'Bahubali 2: The Conclusion', 'Hera Pheri', 'Andhadhun', 'circus', 'mission majnu', 'om shanti om', 'kabir singh', 'talash', 'Troll 2', 'Black Widow', 'Fast & Furious', '2 Fast 2 Furious', 'Fast and Furious: Tokyo Drift']\n"
     ]
    }
   ],
   "source": [
    "all_movies.reverse() \n",
    "print(all_movies)"
   ]
  },
  {
   "cell_type": "code",
   "execution_count": 42,
   "metadata": {},
   "outputs": [
    {
     "name": "stdout",
     "output_type": "stream",
     "text": [
      "['2 Fast 2 Furious', '3 idiots', 'Andhadhun', 'Bahubali 2: The Conclusion', 'Black Widow', 'Fast & Furious', 'Fast and Furious: Tokyo Drift', 'Hera Pheri', 'The Dark Knight', 'Troll 2', 'Zindagi na milegi dobara', 'circus', 'kabir singh', 'mission majnu', 'om shanti om', 'talash']\n"
     ]
    }
   ],
   "source": [
    "all_movies.sort()\n",
    "print(all_movies)"
   ]
  },
  {
   "cell_type": "code",
   "execution_count": 43,
   "metadata": {},
   "outputs": [
    {
     "name": "stdout",
     "output_type": "stream",
     "text": [
      "['talash', 'om shanti om', 'mission majnu', 'kabir singh', 'circus', 'Zindagi na milegi dobara', 'Troll 2', 'The Dark Knight', 'Hera Pheri', 'Fast and Furious: Tokyo Drift', 'Fast & Furious', 'Black Widow', 'Bahubali 2: The Conclusion', 'Andhadhun', '3 idiots', '2 Fast 2 Furious']\n"
     ]
    }
   ],
   "source": [
    "all_movies.sort(reverse=True)\n",
    "print(all_movies)"
   ]
  },
  {
   "cell_type": "code",
   "execution_count": 45,
   "metadata": {},
   "outputs": [],
   "source": [
    "import random as rnd"
   ]
  },
  {
   "cell_type": "code",
   "execution_count": 48,
   "metadata": {},
   "outputs": [
    {
     "name": "stdout",
     "output_type": "stream",
     "text": [
      "['mission majnu', 'The Dark Knight', 'om shanti om', 'Troll 2', 'Fast and Furious: Tokyo Drift', '3 idiots', 'talash', '2 Fast 2 Furious', 'Zindagi na milegi dobara', 'Black Widow', 'circus', 'Hera Pheri', 'Bahubali 2: The Conclusion', 'Andhadhun', 'kabir singh', 'Fast & Furious']\n"
     ]
    }
   ],
   "source": [
    "rnd.shuffle(all_movies)\n",
    "print(all_movies)"
   ]
  },
  {
   "cell_type": "code",
   "execution_count": 53,
   "metadata": {},
   "outputs": [
    {
     "data": {
      "text/plain": [
       "'Fast & Furious'"
      ]
     },
     "execution_count": 53,
     "metadata": {},
     "output_type": "execute_result"
    }
   ],
   "source": [
    "rnd.choice(all_movies)"
   ]
  },
  {
   "cell_type": "code",
   "execution_count": 62,
   "metadata": {},
   "outputs": [
    {
     "data": {
      "text/plain": [
       "['Troll 2', 'Hera Pheri', 'circus']"
      ]
     },
     "execution_count": 62,
     "metadata": {},
     "output_type": "execute_result"
    }
   ],
   "source": [
    "rnd.choices(all_movies, k=3)"
   ]
  },
  {
   "cell_type": "code",
   "execution_count": 68,
   "metadata": {},
   "outputs": [
    {
     "data": {
      "text/plain": [
       "5"
      ]
     },
     "execution_count": 68,
     "metadata": {},
     "output_type": "execute_result"
    }
   ],
   "source": [
    "all_movies.index('3 idiots')"
   ]
  },
  {
   "cell_type": "code",
   "execution_count": 69,
   "metadata": {},
   "outputs": [
    {
     "data": {
      "text/plain": [
       "'Fast & Furious'"
      ]
     },
     "execution_count": 69,
     "metadata": {},
     "output_type": "execute_result"
    }
   ],
   "source": [
    "all_movies.pop() # removes last element"
   ]
  },
  {
   "cell_type": "code",
   "execution_count": 70,
   "metadata": {},
   "outputs": [
    {
     "data": {
      "text/plain": [
       "'Troll 2'"
      ]
     },
     "execution_count": 70,
     "metadata": {},
     "output_type": "execute_result"
    }
   ],
   "source": [
    "all_movies.pop(3) # remove element at index 3"
   ]
  },
  {
   "cell_type": "code",
   "execution_count": 71,
   "metadata": {},
   "outputs": [
    {
     "name": "stdout",
     "output_type": "stream",
     "text": [
      "['mission majnu', 'The Dark Knight', 'om shanti om', 'Fast and Furious: Tokyo Drift', '3 idiots', 'talash', '2 Fast 2 Furious', 'Zindagi na milegi dobara', 'Black Widow', 'circus', 'Hera Pheri', 'Bahubali 2: The Conclusion', 'Andhadhun', 'kabir singh']\n"
     ]
    }
   ],
   "source": [
    "print(all_movies)"
   ]
  },
  {
   "cell_type": "code",
   "execution_count": 73,
   "metadata": {},
   "outputs": [
    {
     "name": "stdout",
     "output_type": "stream",
     "text": [
      "[100, 2, 200, 4, 5]\n",
      "[100, 2, 200, 4, 5]\n",
      "True\n"
     ]
    }
   ],
   "source": [
    "x = [1,2,3,4,5]\n",
    "y = x # data structure is not copied, only reference is copied\n",
    "y[0] = 100\n",
    "x[2]= 200\n",
    "print(x)\n",
    "print(y)\n",
    "print(x is y)"
   ]
  },
  {
   "cell_type": "code",
   "execution_count": 74,
   "metadata": {},
   "outputs": [
    {
     "name": "stdout",
     "output_type": "stream",
     "text": [
      "[100, 2, 200, 4]\n",
      "[100, 2, 200, 4]\n",
      "[100, 2, 200, 4, 5, 10]\n",
      "False\n"
     ]
    }
   ],
   "source": [
    "z = x.copy()\n",
    "z.append(10)\n",
    "x.remove(5)\n",
    "print(x)\n",
    "print(y)\n",
    "print(z)\n",
    "print(x is z)"
   ]
  },
  {
   "cell_type": "code",
   "execution_count": null,
   "metadata": {},
   "outputs": [],
   "source": []
  }
 ],
 "metadata": {
  "kernelspec": {
   "display_name": "base",
   "language": "python",
   "name": "python3"
  },
  "language_info": {
   "codemirror_mode": {
    "name": "ipython",
    "version": 3
   },
   "file_extension": ".py",
   "mimetype": "text/x-python",
   "name": "python",
   "nbconvert_exporter": "python",
   "pygments_lexer": "ipython3",
   "version": "3.10.9"
  },
  "orig_nbformat": 4,
  "vscode": {
   "interpreter": {
    "hash": "8befaed7f752a58a740e5f08c55a1efd8fcda412d7a2f1c4d828330769dea609"
   }
  }
 },
 "nbformat": 4,
 "nbformat_minor": 2
}
