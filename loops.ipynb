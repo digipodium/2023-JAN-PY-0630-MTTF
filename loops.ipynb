{
 "cells": [
  {
   "cell_type": "code",
   "execution_count": 1,
   "metadata": {},
   "outputs": [
    {
     "name": "stdout",
     "output_type": "stream",
     "text": [
      "12 56 23 56 78 21 "
     ]
    }
   ],
   "source": [
    "x = [12,56,23,56,78,21]\n",
    "for item in x:\n",
    "    print(item, end=' ')"
   ]
  },
  {
   "cell_type": "markdown",
   "metadata": {},
   "source": []
  },
  {
   "cell_type": "code",
   "execution_count": 2,
   "metadata": {},
   "outputs": [
    {
     "name": "stdout",
     "output_type": "stream",
     "text": [
      "total apps = 15\n"
     ]
    }
   ],
   "source": [
    "apps = [\n",
    "    'act fibernet','airtel','amazon','alexa','authenticator',\n",
    "    'axis mobile','blinkit','calculator','calendar','call of duty',\n",
    "    'camera','claim cube', 'chrome','cleanfox','clock'\n",
    "]\n",
    "print(f'total apps = {len(apps)}')"
   ]
  },
  {
   "cell_type": "code",
   "execution_count": 4,
   "metadata": {},
   "outputs": [
    {
     "name": "stdout",
     "output_type": "stream",
     "text": [
      "act fibernet\n",
      "airtel\n",
      "amazon\n",
      "alexa\n",
      "authenticator\n",
      "axis mobile\n",
      "blinkit\n",
      "calculator\n",
      "calendar\n",
      "call of duty\n",
      "camera\n",
      "claim cube\n",
      "chrome\n",
      "cleanfox\n",
      "clock\n"
     ]
    }
   ],
   "source": [
    "for app in apps:\n",
    "    print(app)"
   ]
  },
  {
   "cell_type": "code",
   "execution_count": 8,
   "metadata": {},
   "outputs": [
    {
     "name": "stdout",
     "output_type": "stream",
     "text": [
      "act fibernet    | 12\n",
      "airtel          | 6\n",
      "amazon          | 6\n",
      "alexa           | 5\n",
      "authenticator   | 13\n",
      "axis mobile     | 11\n",
      "blinkit         | 7\n",
      "calculator      | 10\n",
      "calendar        | 8\n",
      "call of duty    | 12\n",
      "camera          | 6\n",
      "claim cube      | 10\n",
      "chrome          | 6\n",
      "cleanfox        | 8\n",
      "clock           | 5\n"
     ]
    }
   ],
   "source": [
    "for app in apps:\n",
    "    print(f'{app:15} | {len(app)}')"
   ]
  },
  {
   "cell_type": "code",
   "execution_count": 12,
   "metadata": {},
   "outputs": [
    {
     "name": "stdout",
     "output_type": "stream",
     "text": [
      "act fibernet\n",
      "amazon\n",
      "authenticator\n",
      "blinkit\n",
      "calendar\n",
      "cleanfox\n"
     ]
    }
   ],
   "source": [
    "for app in apps:\n",
    "    if 'n' in app:\n",
    "        print(app)"
   ]
  },
  {
   "cell_type": "code",
   "execution_count": 10,
   "metadata": {},
   "outputs": [
    {
     "name": "stdout",
     "output_type": "stream",
     "text": [
      "act fibernet\n",
      "airtel\n",
      "amazon\n",
      "alexa\n",
      "authenticator\n",
      "axis mobile\n"
     ]
    }
   ],
   "source": [
    "for app in apps:\n",
    "    if app.startswith('a'):\n",
    "        print(app)"
   ]
  },
  {
   "cell_type": "code",
   "execution_count": 13,
   "metadata": {},
   "outputs": [
    {
     "name": "stdout",
     "output_type": "stream",
     "text": [
      "12\n",
      "56\n",
      "67\n",
      "32\n",
      "6\n",
      "68\n"
     ]
    }
   ],
   "source": [
    "data = [12,56,0,67,0,32,6,0,68,0,0,0]\n",
    "for i in data:\n",
    "    if i == 0:\n",
    "        continue\n",
    "    print(i)"
   ]
  },
  {
   "cell_type": "code",
   "execution_count": 16,
   "metadata": {},
   "outputs": [
    {
     "name": "stdout",
     "output_type": "stream",
     "text": [
      "32\n",
      "45\n",
      "12\n",
      "5\n",
      "6\n"
     ]
    }
   ],
   "source": [
    "data = [32,45,12,5,6,0,0,0,2,65,7,677]\n",
    "for i in data:\n",
    "    if i == 0:\n",
    "        break\n",
    "    print(i)"
   ]
  },
  {
   "cell_type": "code",
   "execution_count": 17,
   "metadata": {},
   "outputs": [
    {
     "name": "stdout",
     "output_type": "stream",
     "text": [
      "act fibernet\n",
      "airtel\n",
      "amazon\n",
      "alexa\n",
      "authenticator\n",
      "axis mobile\n",
      "blinkit\n",
      "calculator\n",
      "calendar\n",
      "call of duty\n",
      "camera\n",
      "claim cube\n",
      "chrome\n",
      "cleanfox\n",
      "clock\n"
     ]
    }
   ],
   "source": [
    "for app in apps:\n",
    "    print(app)"
   ]
  },
  {
   "cell_type": "code",
   "execution_count": 20,
   "metadata": {},
   "outputs": [
    {
     "name": "stdout",
     "output_type": "stream",
     "text": [
      "0 act fibernet\n",
      "1 airtel\n",
      "2 amazon\n",
      "3 alexa\n",
      "4 authenticator\n",
      "5 axis mobile\n",
      "6 blinkit\n",
      "7 calculator\n",
      "8 calendar\n",
      "9 call of duty\n",
      "10 camera\n",
      "11 claim cube\n",
      "12 chrome\n",
      "13 cleanfox\n",
      "14 clock\n"
     ]
    }
   ],
   "source": [
    "for i, app in enumerate(apps):\n",
    "    print(i, app)"
   ]
  },
  {
   "cell_type": "code",
   "execution_count": 21,
   "metadata": {},
   "outputs": [
    {
     "name": "stdout",
     "output_type": "stream",
     "text": [
      "0 act fibernet\n",
      "1 airtel\n",
      "2 amazon\n",
      "3 alexa\n",
      "4 authenticator\n",
      "5 axis mobile\n",
      "6 blinkit\n",
      "7 calculator\n",
      "8 calendar\n",
      "9 call of duty\n",
      "10 camera\n"
     ]
    }
   ],
   "source": [
    "for i, app in enumerate(apps):\n",
    "    if i > 10:\n",
    "        break\n",
    "    print(i, app)"
   ]
  },
  {
   "cell_type": "code",
   "execution_count": null,
   "metadata": {},
   "outputs": [],
   "source": []
  }
 ],
 "metadata": {
  "kernelspec": {
   "display_name": "base",
   "language": "python",
   "name": "python3"
  },
  "language_info": {
   "codemirror_mode": {
    "name": "ipython",
    "version": 3
   },
   "file_extension": ".py",
   "mimetype": "text/x-python",
   "name": "python",
   "nbconvert_exporter": "python",
   "pygments_lexer": "ipython3",
   "version": "3.10.9"
  },
  "orig_nbformat": 4,
  "vscode": {
   "interpreter": {
    "hash": "8befaed7f752a58a740e5f08c55a1efd8fcda412d7a2f1c4d828330769dea609"
   }
  }
 },
 "nbformat": 4,
 "nbformat_minor": 2
}
