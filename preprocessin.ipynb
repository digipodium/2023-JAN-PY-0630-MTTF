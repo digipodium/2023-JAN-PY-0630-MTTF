{
 "cells": [
  {
   "cell_type": "code",
   "execution_count": 1,
   "metadata": {},
   "outputs": [],
   "source": [
    "import pandas as pd\n",
    "import numpy as np"
   ]
  },
  {
   "cell_type": "code",
   "execution_count": 5,
   "metadata": {},
   "outputs": [
    {
     "data": {
      "text/html": [
       "<div>\n",
       "<style scoped>\n",
       "    .dataframe tbody tr th:only-of-type {\n",
       "        vertical-align: middle;\n",
       "    }\n",
       "\n",
       "    .dataframe tbody tr th {\n",
       "        vertical-align: top;\n",
       "    }\n",
       "\n",
       "    .dataframe thead th {\n",
       "        text-align: right;\n",
       "    }\n",
       "</style>\n",
       "<table border=\"1\" class=\"dataframe\">\n",
       "  <thead>\n",
       "    <tr style=\"text-align: right;\">\n",
       "      <th></th>\n",
       "      <th>brand</th>\n",
       "      <th>title</th>\n",
       "      <th>price</th>\n",
       "      <th>rating</th>\n",
       "      <th>oprice</th>\n",
       "    </tr>\n",
       "  </thead>\n",
       "  <tbody>\n",
       "    <tr>\n",
       "      <th>0</th>\n",
       "      <td>TIMEX</td>\n",
       "      <td>Analog Silver Dial Men's Watch-TWTG31SMU03</td>\n",
       "      <td>1,598</td>\n",
       "      <td>No reviews</td>\n",
       "      <td>₹1,598</td>\n",
       "    </tr>\n",
       "    <tr>\n",
       "      <th>1</th>\n",
       "      <td>TIMEX</td>\n",
       "      <td>Analog Blue Dial Men's Watch-TWHG03SMU14</td>\n",
       "      <td>2,498</td>\n",
       "      <td>4.1</td>\n",
       "      <td>₹2,498</td>\n",
       "    </tr>\n",
       "    <tr>\n",
       "      <th>2</th>\n",
       "      <td>TIMEX</td>\n",
       "      <td>Analog Silver Dial Men's Watch-TWHG03SMU16</td>\n",
       "      <td>2,919</td>\n",
       "      <td>4.2</td>\n",
       "      <td>₹2,919</td>\n",
       "    </tr>\n",
       "    <tr>\n",
       "      <th>3</th>\n",
       "      <td>TIMEX</td>\n",
       "      <td>Analog Black Dial Men's Watch-TWHG35SMU05</td>\n",
       "      <td>1,799</td>\n",
       "      <td>4.1</td>\n",
       "      <td>₹1,799</td>\n",
       "    </tr>\n",
       "    <tr>\n",
       "      <th>4</th>\n",
       "      <td>USM</td>\n",
       "      <td>USM ID116 Smart Watch Smart Bracelet Fitness T...</td>\n",
       "      <td>329</td>\n",
       "      <td>4.6</td>\n",
       "      <td>₹329</td>\n",
       "    </tr>\n",
       "    <tr>\n",
       "      <th>...</th>\n",
       "      <td>...</td>\n",
       "      <td>...</td>\n",
       "      <td>...</td>\n",
       "      <td>...</td>\n",
       "      <td>...</td>\n",
       "    </tr>\n",
       "    <tr>\n",
       "      <th>431</th>\n",
       "      <td>TIMEX</td>\n",
       "      <td>TWHG03SMU04</td>\n",
       "      <td>3,199</td>\n",
       "      <td>4.1</td>\n",
       "      <td>₹3,199</td>\n",
       "    </tr>\n",
       "    <tr>\n",
       "      <th>432</th>\n",
       "      <td>TIMEWEAR</td>\n",
       "      <td>Men's Analog Number Dial Brown Leather Strap W...</td>\n",
       "      <td>201</td>\n",
       "      <td>3.8</td>\n",
       "      <td>₹201</td>\n",
       "    </tr>\n",
       "    <tr>\n",
       "      <th>433</th>\n",
       "      <td>TIMEWEAR</td>\n",
       "      <td>Analog Men's Watch (Dial Colored Strap)</td>\n",
       "      <td>399</td>\n",
       "      <td>3.8</td>\n",
       "      <td>₹399</td>\n",
       "    </tr>\n",
       "    <tr>\n",
       "      <th>434</th>\n",
       "      <td>Acnos</td>\n",
       "      <td>Brand - A Digital Watch with Square LED Shockp...</td>\n",
       "      <td>325</td>\n",
       "      <td>3.6</td>\n",
       "      <td>₹325</td>\n",
       "    </tr>\n",
       "    <tr>\n",
       "      <th>435</th>\n",
       "      <td>TIMEWEAR</td>\n",
       "      <td>Analog Men's Watch (Dial Colored Strap)</td>\n",
       "      <td>249</td>\n",
       "      <td>4.1</td>\n",
       "      <td>₹249</td>\n",
       "    </tr>\n",
       "  </tbody>\n",
       "</table>\n",
       "<p>436 rows × 5 columns</p>\n",
       "</div>"
      ],
      "text/plain": [
       "        brand                                              title  price  \\\n",
       "0       TIMEX       Analog Silver Dial Men's Watch-TWTG31SMU03    1,598   \n",
       "1       TIMEX         Analog Blue Dial Men's Watch-TWHG03SMU14    2,498   \n",
       "2       TIMEX       Analog Silver Dial Men's Watch-TWHG03SMU16    2,919   \n",
       "3       TIMEX        Analog Black Dial Men's Watch-TWHG35SMU05    1,799   \n",
       "4         USM  USM ID116 Smart Watch Smart Bracelet Fitness T...    329   \n",
       "..        ...                                                ...    ...   \n",
       "431     TIMEX                                      TWHG03SMU04    3,199   \n",
       "432  TIMEWEAR  Men's Analog Number Dial Brown Leather Strap W...    201   \n",
       "433  TIMEWEAR          Analog Men's Watch (Dial Colored Strap)      399   \n",
       "434     Acnos  Brand - A Digital Watch with Square LED Shockp...    325   \n",
       "435  TIMEWEAR          Analog Men's Watch (Dial Colored Strap)      249   \n",
       "\n",
       "         rating  oprice  \n",
       "0    No reviews  ₹1,598  \n",
       "1           4.1  ₹2,498  \n",
       "2           4.2  ₹2,919  \n",
       "3           4.1  ₹1,799  \n",
       "4           4.6    ₹329  \n",
       "..          ...     ...  \n",
       "431         4.1  ₹3,199  \n",
       "432         3.8    ₹201  \n",
       "433         3.8    ₹399  \n",
       "434         3.6    ₹325  \n",
       "435         4.1    ₹249  \n",
       "\n",
       "[436 rows x 5 columns]"
      ]
     },
     "execution_count": 5,
     "metadata": {},
     "output_type": "execute_result"
    }
   ],
   "source": [
    "df = pd.read_excel('amazon.xlsx')\n",
    "df"
   ]
  },
  {
   "cell_type": "code",
   "execution_count": 12,
   "metadata": {},
   "outputs": [],
   "source": [
    "def clean_price_column(price):\n",
    "    if isinstance(price, str):\n",
    "        price = price.replace(',', '')\n",
    "        price = float(price)\n",
    "        return price\n",
    "    return price"
   ]
  },
  {
   "cell_type": "code",
   "execution_count": 17,
   "metadata": {},
   "outputs": [
    {
     "data": {
      "text/plain": [
       "1000.0"
      ]
     },
     "execution_count": 17,
     "metadata": {},
     "output_type": "execute_result"
    }
   ],
   "source": [
    "# test\n",
    "clean_price_column('1,000')"
   ]
  },
  {
   "cell_type": "code",
   "execution_count": 18,
   "metadata": {},
   "outputs": [
    {
     "data": {
      "text/plain": [
       "0      1598.0\n",
       "1      2498.0\n",
       "2      2919.0\n",
       "3      1799.0\n",
       "4       329.0\n",
       "        ...  \n",
       "431    3199.0\n",
       "432     201.0\n",
       "433     399.0\n",
       "434     325.0\n",
       "435     249.0\n",
       "Name: price, Length: 436, dtype: float64"
      ]
     },
     "execution_count": 18,
     "metadata": {},
     "output_type": "execute_result"
    }
   ],
   "source": [
    "# testing the function on the column\n",
    "df['price'].apply(clean_price_column)"
   ]
  },
  {
   "cell_type": "code",
   "execution_count": 20,
   "metadata": {},
   "outputs": [
    {
     "data": {
      "text/html": [
       "<div>\n",
       "<style scoped>\n",
       "    .dataframe tbody tr th:only-of-type {\n",
       "        vertical-align: middle;\n",
       "    }\n",
       "\n",
       "    .dataframe tbody tr th {\n",
       "        vertical-align: top;\n",
       "    }\n",
       "\n",
       "    .dataframe thead th {\n",
       "        text-align: right;\n",
       "    }\n",
       "</style>\n",
       "<table border=\"1\" class=\"dataframe\">\n",
       "  <thead>\n",
       "    <tr style=\"text-align: right;\">\n",
       "      <th></th>\n",
       "      <th>brand</th>\n",
       "      <th>title</th>\n",
       "      <th>price</th>\n",
       "      <th>rating</th>\n",
       "      <th>oprice</th>\n",
       "      <th>clean_price</th>\n",
       "    </tr>\n",
       "  </thead>\n",
       "  <tbody>\n",
       "    <tr>\n",
       "      <th>0</th>\n",
       "      <td>TIMEX</td>\n",
       "      <td>Analog Silver Dial Men's Watch-TWTG31SMU03</td>\n",
       "      <td>1,598</td>\n",
       "      <td>No reviews</td>\n",
       "      <td>₹1,598</td>\n",
       "      <td>1598.0</td>\n",
       "    </tr>\n",
       "    <tr>\n",
       "      <th>1</th>\n",
       "      <td>TIMEX</td>\n",
       "      <td>Analog Blue Dial Men's Watch-TWHG03SMU14</td>\n",
       "      <td>2,498</td>\n",
       "      <td>4.1</td>\n",
       "      <td>₹2,498</td>\n",
       "      <td>2498.0</td>\n",
       "    </tr>\n",
       "    <tr>\n",
       "      <th>2</th>\n",
       "      <td>TIMEX</td>\n",
       "      <td>Analog Silver Dial Men's Watch-TWHG03SMU16</td>\n",
       "      <td>2,919</td>\n",
       "      <td>4.2</td>\n",
       "      <td>₹2,919</td>\n",
       "      <td>2919.0</td>\n",
       "    </tr>\n",
       "    <tr>\n",
       "      <th>3</th>\n",
       "      <td>TIMEX</td>\n",
       "      <td>Analog Black Dial Men's Watch-TWHG35SMU05</td>\n",
       "      <td>1,799</td>\n",
       "      <td>4.1</td>\n",
       "      <td>₹1,799</td>\n",
       "      <td>1799.0</td>\n",
       "    </tr>\n",
       "    <tr>\n",
       "      <th>4</th>\n",
       "      <td>USM</td>\n",
       "      <td>USM ID116 Smart Watch Smart Bracelet Fitness T...</td>\n",
       "      <td>329</td>\n",
       "      <td>4.6</td>\n",
       "      <td>₹329</td>\n",
       "      <td>329.0</td>\n",
       "    </tr>\n",
       "    <tr>\n",
       "      <th>...</th>\n",
       "      <td>...</td>\n",
       "      <td>...</td>\n",
       "      <td>...</td>\n",
       "      <td>...</td>\n",
       "      <td>...</td>\n",
       "      <td>...</td>\n",
       "    </tr>\n",
       "    <tr>\n",
       "      <th>431</th>\n",
       "      <td>TIMEX</td>\n",
       "      <td>TWHG03SMU04</td>\n",
       "      <td>3,199</td>\n",
       "      <td>4.1</td>\n",
       "      <td>₹3,199</td>\n",
       "      <td>3199.0</td>\n",
       "    </tr>\n",
       "    <tr>\n",
       "      <th>432</th>\n",
       "      <td>TIMEWEAR</td>\n",
       "      <td>Men's Analog Number Dial Brown Leather Strap W...</td>\n",
       "      <td>201</td>\n",
       "      <td>3.8</td>\n",
       "      <td>₹201</td>\n",
       "      <td>201.0</td>\n",
       "    </tr>\n",
       "    <tr>\n",
       "      <th>433</th>\n",
       "      <td>TIMEWEAR</td>\n",
       "      <td>Analog Men's Watch (Dial Colored Strap)</td>\n",
       "      <td>399</td>\n",
       "      <td>3.8</td>\n",
       "      <td>₹399</td>\n",
       "      <td>399.0</td>\n",
       "    </tr>\n",
       "    <tr>\n",
       "      <th>434</th>\n",
       "      <td>Acnos</td>\n",
       "      <td>Brand - A Digital Watch with Square LED Shockp...</td>\n",
       "      <td>325</td>\n",
       "      <td>3.6</td>\n",
       "      <td>₹325</td>\n",
       "      <td>325.0</td>\n",
       "    </tr>\n",
       "    <tr>\n",
       "      <th>435</th>\n",
       "      <td>TIMEWEAR</td>\n",
       "      <td>Analog Men's Watch (Dial Colored Strap)</td>\n",
       "      <td>249</td>\n",
       "      <td>4.1</td>\n",
       "      <td>₹249</td>\n",
       "      <td>249.0</td>\n",
       "    </tr>\n",
       "  </tbody>\n",
       "</table>\n",
       "<p>436 rows × 6 columns</p>\n",
       "</div>"
      ],
      "text/plain": [
       "        brand                                              title  price  \\\n",
       "0       TIMEX       Analog Silver Dial Men's Watch-TWTG31SMU03    1,598   \n",
       "1       TIMEX         Analog Blue Dial Men's Watch-TWHG03SMU14    2,498   \n",
       "2       TIMEX       Analog Silver Dial Men's Watch-TWHG03SMU16    2,919   \n",
       "3       TIMEX        Analog Black Dial Men's Watch-TWHG35SMU05    1,799   \n",
       "4         USM  USM ID116 Smart Watch Smart Bracelet Fitness T...    329   \n",
       "..        ...                                                ...    ...   \n",
       "431     TIMEX                                      TWHG03SMU04    3,199   \n",
       "432  TIMEWEAR  Men's Analog Number Dial Brown Leather Strap W...    201   \n",
       "433  TIMEWEAR          Analog Men's Watch (Dial Colored Strap)      399   \n",
       "434     Acnos  Brand - A Digital Watch with Square LED Shockp...    325   \n",
       "435  TIMEWEAR          Analog Men's Watch (Dial Colored Strap)      249   \n",
       "\n",
       "         rating  oprice  clean_price  \n",
       "0    No reviews  ₹1,598       1598.0  \n",
       "1           4.1  ₹2,498       2498.0  \n",
       "2           4.2  ₹2,919       2919.0  \n",
       "3           4.1  ₹1,799       1799.0  \n",
       "4           4.6    ₹329        329.0  \n",
       "..          ...     ...          ...  \n",
       "431         4.1  ₹3,199       3199.0  \n",
       "432         3.8    ₹201        201.0  \n",
       "433         3.8    ₹399        399.0  \n",
       "434         3.6    ₹325        325.0  \n",
       "435         4.1    ₹249        249.0  \n",
       "\n",
       "[436 rows x 6 columns]"
      ]
     },
     "execution_count": 20,
     "metadata": {},
     "output_type": "execute_result"
    }
   ],
   "source": [
    "# implementing the function on the column\n",
    "df['clean_price'] = df['price'].apply(clean_price_column)\n",
    "df"
   ]
  },
  {
   "cell_type": "code",
   "execution_count": 22,
   "metadata": {},
   "outputs": [],
   "source": [
    "def clean_rating_column(rating):\n",
    "    if isinstance(rating, str):\n",
    "        if len(rating) <=3:\n",
    "            rating = float(rating)\n",
    "            return rating\n",
    "        else:\n",
    "            return np.nan\n",
    "    return rating"
   ]
  },
  {
   "cell_type": "code",
   "execution_count": 25,
   "metadata": {},
   "outputs": [
    {
     "data": {
      "text/plain": [
       "nan"
      ]
     },
     "execution_count": 25,
     "metadata": {},
     "output_type": "execute_result"
    }
   ],
   "source": [
    "# test\n",
    "clean_rating_column('no review')"
   ]
  },
  {
   "cell_type": "code",
   "execution_count": 26,
   "metadata": {},
   "outputs": [
    {
     "data": {
      "text/plain": [
       "0      NaN\n",
       "1      4.1\n",
       "2      4.2\n",
       "3      4.1\n",
       "4      4.6\n",
       "      ... \n",
       "431    4.1\n",
       "432    3.8\n",
       "433    3.8\n",
       "434    3.6\n",
       "435    4.1\n",
       "Name: rating, Length: 436, dtype: float64"
      ]
     },
     "execution_count": 26,
     "metadata": {},
     "output_type": "execute_result"
    }
   ],
   "source": [
    "# testing the function on the column\n",
    "df['rating'].apply(clean_rating_column)"
   ]
  },
  {
   "cell_type": "code",
   "execution_count": 27,
   "metadata": {},
   "outputs": [
    {
     "data": {
      "text/html": [
       "<div>\n",
       "<style scoped>\n",
       "    .dataframe tbody tr th:only-of-type {\n",
       "        vertical-align: middle;\n",
       "    }\n",
       "\n",
       "    .dataframe tbody tr th {\n",
       "        vertical-align: top;\n",
       "    }\n",
       "\n",
       "    .dataframe thead th {\n",
       "        text-align: right;\n",
       "    }\n",
       "</style>\n",
       "<table border=\"1\" class=\"dataframe\">\n",
       "  <thead>\n",
       "    <tr style=\"text-align: right;\">\n",
       "      <th></th>\n",
       "      <th>brand</th>\n",
       "      <th>title</th>\n",
       "      <th>price</th>\n",
       "      <th>rating</th>\n",
       "      <th>oprice</th>\n",
       "      <th>clean_price</th>\n",
       "      <th>clean_rating</th>\n",
       "    </tr>\n",
       "  </thead>\n",
       "  <tbody>\n",
       "    <tr>\n",
       "      <th>0</th>\n",
       "      <td>TIMEX</td>\n",
       "      <td>Analog Silver Dial Men's Watch-TWTG31SMU03</td>\n",
       "      <td>1,598</td>\n",
       "      <td>No reviews</td>\n",
       "      <td>₹1,598</td>\n",
       "      <td>1598.0</td>\n",
       "      <td>NaN</td>\n",
       "    </tr>\n",
       "    <tr>\n",
       "      <th>1</th>\n",
       "      <td>TIMEX</td>\n",
       "      <td>Analog Blue Dial Men's Watch-TWHG03SMU14</td>\n",
       "      <td>2,498</td>\n",
       "      <td>4.1</td>\n",
       "      <td>₹2,498</td>\n",
       "      <td>2498.0</td>\n",
       "      <td>4.1</td>\n",
       "    </tr>\n",
       "    <tr>\n",
       "      <th>2</th>\n",
       "      <td>TIMEX</td>\n",
       "      <td>Analog Silver Dial Men's Watch-TWHG03SMU16</td>\n",
       "      <td>2,919</td>\n",
       "      <td>4.2</td>\n",
       "      <td>₹2,919</td>\n",
       "      <td>2919.0</td>\n",
       "      <td>4.2</td>\n",
       "    </tr>\n",
       "    <tr>\n",
       "      <th>3</th>\n",
       "      <td>TIMEX</td>\n",
       "      <td>Analog Black Dial Men's Watch-TWHG35SMU05</td>\n",
       "      <td>1,799</td>\n",
       "      <td>4.1</td>\n",
       "      <td>₹1,799</td>\n",
       "      <td>1799.0</td>\n",
       "      <td>4.1</td>\n",
       "    </tr>\n",
       "    <tr>\n",
       "      <th>4</th>\n",
       "      <td>USM</td>\n",
       "      <td>USM ID116 Smart Watch Smart Bracelet Fitness T...</td>\n",
       "      <td>329</td>\n",
       "      <td>4.6</td>\n",
       "      <td>₹329</td>\n",
       "      <td>329.0</td>\n",
       "      <td>4.6</td>\n",
       "    </tr>\n",
       "    <tr>\n",
       "      <th>...</th>\n",
       "      <td>...</td>\n",
       "      <td>...</td>\n",
       "      <td>...</td>\n",
       "      <td>...</td>\n",
       "      <td>...</td>\n",
       "      <td>...</td>\n",
       "      <td>...</td>\n",
       "    </tr>\n",
       "    <tr>\n",
       "      <th>431</th>\n",
       "      <td>TIMEX</td>\n",
       "      <td>TWHG03SMU04</td>\n",
       "      <td>3,199</td>\n",
       "      <td>4.1</td>\n",
       "      <td>₹3,199</td>\n",
       "      <td>3199.0</td>\n",
       "      <td>4.1</td>\n",
       "    </tr>\n",
       "    <tr>\n",
       "      <th>432</th>\n",
       "      <td>TIMEWEAR</td>\n",
       "      <td>Men's Analog Number Dial Brown Leather Strap W...</td>\n",
       "      <td>201</td>\n",
       "      <td>3.8</td>\n",
       "      <td>₹201</td>\n",
       "      <td>201.0</td>\n",
       "      <td>3.8</td>\n",
       "    </tr>\n",
       "    <tr>\n",
       "      <th>433</th>\n",
       "      <td>TIMEWEAR</td>\n",
       "      <td>Analog Men's Watch (Dial Colored Strap)</td>\n",
       "      <td>399</td>\n",
       "      <td>3.8</td>\n",
       "      <td>₹399</td>\n",
       "      <td>399.0</td>\n",
       "      <td>3.8</td>\n",
       "    </tr>\n",
       "    <tr>\n",
       "      <th>434</th>\n",
       "      <td>Acnos</td>\n",
       "      <td>Brand - A Digital Watch with Square LED Shockp...</td>\n",
       "      <td>325</td>\n",
       "      <td>3.6</td>\n",
       "      <td>₹325</td>\n",
       "      <td>325.0</td>\n",
       "      <td>3.6</td>\n",
       "    </tr>\n",
       "    <tr>\n",
       "      <th>435</th>\n",
       "      <td>TIMEWEAR</td>\n",
       "      <td>Analog Men's Watch (Dial Colored Strap)</td>\n",
       "      <td>249</td>\n",
       "      <td>4.1</td>\n",
       "      <td>₹249</td>\n",
       "      <td>249.0</td>\n",
       "      <td>4.1</td>\n",
       "    </tr>\n",
       "  </tbody>\n",
       "</table>\n",
       "<p>436 rows × 7 columns</p>\n",
       "</div>"
      ],
      "text/plain": [
       "        brand                                              title  price  \\\n",
       "0       TIMEX       Analog Silver Dial Men's Watch-TWTG31SMU03    1,598   \n",
       "1       TIMEX         Analog Blue Dial Men's Watch-TWHG03SMU14    2,498   \n",
       "2       TIMEX       Analog Silver Dial Men's Watch-TWHG03SMU16    2,919   \n",
       "3       TIMEX        Analog Black Dial Men's Watch-TWHG35SMU05    1,799   \n",
       "4         USM  USM ID116 Smart Watch Smart Bracelet Fitness T...    329   \n",
       "..        ...                                                ...    ...   \n",
       "431     TIMEX                                      TWHG03SMU04    3,199   \n",
       "432  TIMEWEAR  Men's Analog Number Dial Brown Leather Strap W...    201   \n",
       "433  TIMEWEAR          Analog Men's Watch (Dial Colored Strap)      399   \n",
       "434     Acnos  Brand - A Digital Watch with Square LED Shockp...    325   \n",
       "435  TIMEWEAR          Analog Men's Watch (Dial Colored Strap)      249   \n",
       "\n",
       "         rating  oprice  clean_price  clean_rating  \n",
       "0    No reviews  ₹1,598       1598.0           NaN  \n",
       "1           4.1  ₹2,498       2498.0           4.1  \n",
       "2           4.2  ₹2,919       2919.0           4.2  \n",
       "3           4.1  ₹1,799       1799.0           4.1  \n",
       "4           4.6    ₹329        329.0           4.6  \n",
       "..          ...     ...          ...           ...  \n",
       "431         4.1  ₹3,199       3199.0           4.1  \n",
       "432         3.8    ₹201        201.0           3.8  \n",
       "433         3.8    ₹399        399.0           3.8  \n",
       "434         3.6    ₹325        325.0           3.6  \n",
       "435         4.1    ₹249        249.0           4.1  \n",
       "\n",
       "[436 rows x 7 columns]"
      ]
     },
     "execution_count": 27,
     "metadata": {},
     "output_type": "execute_result"
    }
   ],
   "source": [
    "df['clean_rating'] = df['rating'].apply(clean_rating_column)\n",
    "df"
   ]
  },
  {
   "cell_type": "code",
   "execution_count": 28,
   "metadata": {},
   "outputs": [],
   "source": [
    "def clean_oprice_column(price):\n",
    "    if isinstance(price, str):\n",
    "        price = price.replace(',', '').replace('₹','')\n",
    "        price = float(price)\n",
    "        return price\n",
    "    return price"
   ]
  },
  {
   "cell_type": "code",
   "execution_count": 30,
   "metadata": {},
   "outputs": [
    {
     "data": {
      "text/html": [
       "<div>\n",
       "<style scoped>\n",
       "    .dataframe tbody tr th:only-of-type {\n",
       "        vertical-align: middle;\n",
       "    }\n",
       "\n",
       "    .dataframe tbody tr th {\n",
       "        vertical-align: top;\n",
       "    }\n",
       "\n",
       "    .dataframe thead th {\n",
       "        text-align: right;\n",
       "    }\n",
       "</style>\n",
       "<table border=\"1\" class=\"dataframe\">\n",
       "  <thead>\n",
       "    <tr style=\"text-align: right;\">\n",
       "      <th></th>\n",
       "      <th>brand</th>\n",
       "      <th>title</th>\n",
       "      <th>price</th>\n",
       "      <th>rating</th>\n",
       "      <th>oprice</th>\n",
       "      <th>clean_price</th>\n",
       "      <th>clean_rating</th>\n",
       "      <th>clean_oprice</th>\n",
       "    </tr>\n",
       "  </thead>\n",
       "  <tbody>\n",
       "    <tr>\n",
       "      <th>0</th>\n",
       "      <td>TIMEX</td>\n",
       "      <td>Analog Silver Dial Men's Watch-TWTG31SMU03</td>\n",
       "      <td>1,598</td>\n",
       "      <td>No reviews</td>\n",
       "      <td>₹1,598</td>\n",
       "      <td>1598.0</td>\n",
       "      <td>NaN</td>\n",
       "      <td>1598.0</td>\n",
       "    </tr>\n",
       "    <tr>\n",
       "      <th>1</th>\n",
       "      <td>TIMEX</td>\n",
       "      <td>Analog Blue Dial Men's Watch-TWHG03SMU14</td>\n",
       "      <td>2,498</td>\n",
       "      <td>4.1</td>\n",
       "      <td>₹2,498</td>\n",
       "      <td>2498.0</td>\n",
       "      <td>4.1</td>\n",
       "      <td>2498.0</td>\n",
       "    </tr>\n",
       "    <tr>\n",
       "      <th>2</th>\n",
       "      <td>TIMEX</td>\n",
       "      <td>Analog Silver Dial Men's Watch-TWHG03SMU16</td>\n",
       "      <td>2,919</td>\n",
       "      <td>4.2</td>\n",
       "      <td>₹2,919</td>\n",
       "      <td>2919.0</td>\n",
       "      <td>4.2</td>\n",
       "      <td>2919.0</td>\n",
       "    </tr>\n",
       "    <tr>\n",
       "      <th>3</th>\n",
       "      <td>TIMEX</td>\n",
       "      <td>Analog Black Dial Men's Watch-TWHG35SMU05</td>\n",
       "      <td>1,799</td>\n",
       "      <td>4.1</td>\n",
       "      <td>₹1,799</td>\n",
       "      <td>1799.0</td>\n",
       "      <td>4.1</td>\n",
       "      <td>1799.0</td>\n",
       "    </tr>\n",
       "    <tr>\n",
       "      <th>4</th>\n",
       "      <td>USM</td>\n",
       "      <td>USM ID116 Smart Watch Smart Bracelet Fitness T...</td>\n",
       "      <td>329</td>\n",
       "      <td>4.6</td>\n",
       "      <td>₹329</td>\n",
       "      <td>329.0</td>\n",
       "      <td>4.6</td>\n",
       "      <td>329.0</td>\n",
       "    </tr>\n",
       "    <tr>\n",
       "      <th>...</th>\n",
       "      <td>...</td>\n",
       "      <td>...</td>\n",
       "      <td>...</td>\n",
       "      <td>...</td>\n",
       "      <td>...</td>\n",
       "      <td>...</td>\n",
       "      <td>...</td>\n",
       "      <td>...</td>\n",
       "    </tr>\n",
       "    <tr>\n",
       "      <th>431</th>\n",
       "      <td>TIMEX</td>\n",
       "      <td>TWHG03SMU04</td>\n",
       "      <td>3,199</td>\n",
       "      <td>4.1</td>\n",
       "      <td>₹3,199</td>\n",
       "      <td>3199.0</td>\n",
       "      <td>4.1</td>\n",
       "      <td>3199.0</td>\n",
       "    </tr>\n",
       "    <tr>\n",
       "      <th>432</th>\n",
       "      <td>TIMEWEAR</td>\n",
       "      <td>Men's Analog Number Dial Brown Leather Strap W...</td>\n",
       "      <td>201</td>\n",
       "      <td>3.8</td>\n",
       "      <td>₹201</td>\n",
       "      <td>201.0</td>\n",
       "      <td>3.8</td>\n",
       "      <td>201.0</td>\n",
       "    </tr>\n",
       "    <tr>\n",
       "      <th>433</th>\n",
       "      <td>TIMEWEAR</td>\n",
       "      <td>Analog Men's Watch (Dial Colored Strap)</td>\n",
       "      <td>399</td>\n",
       "      <td>3.8</td>\n",
       "      <td>₹399</td>\n",
       "      <td>399.0</td>\n",
       "      <td>3.8</td>\n",
       "      <td>399.0</td>\n",
       "    </tr>\n",
       "    <tr>\n",
       "      <th>434</th>\n",
       "      <td>Acnos</td>\n",
       "      <td>Brand - A Digital Watch with Square LED Shockp...</td>\n",
       "      <td>325</td>\n",
       "      <td>3.6</td>\n",
       "      <td>₹325</td>\n",
       "      <td>325.0</td>\n",
       "      <td>3.6</td>\n",
       "      <td>325.0</td>\n",
       "    </tr>\n",
       "    <tr>\n",
       "      <th>435</th>\n",
       "      <td>TIMEWEAR</td>\n",
       "      <td>Analog Men's Watch (Dial Colored Strap)</td>\n",
       "      <td>249</td>\n",
       "      <td>4.1</td>\n",
       "      <td>₹249</td>\n",
       "      <td>249.0</td>\n",
       "      <td>4.1</td>\n",
       "      <td>249.0</td>\n",
       "    </tr>\n",
       "  </tbody>\n",
       "</table>\n",
       "<p>436 rows × 8 columns</p>\n",
       "</div>"
      ],
      "text/plain": [
       "        brand                                              title  price  \\\n",
       "0       TIMEX       Analog Silver Dial Men's Watch-TWTG31SMU03    1,598   \n",
       "1       TIMEX         Analog Blue Dial Men's Watch-TWHG03SMU14    2,498   \n",
       "2       TIMEX       Analog Silver Dial Men's Watch-TWHG03SMU16    2,919   \n",
       "3       TIMEX        Analog Black Dial Men's Watch-TWHG35SMU05    1,799   \n",
       "4         USM  USM ID116 Smart Watch Smart Bracelet Fitness T...    329   \n",
       "..        ...                                                ...    ...   \n",
       "431     TIMEX                                      TWHG03SMU04    3,199   \n",
       "432  TIMEWEAR  Men's Analog Number Dial Brown Leather Strap W...    201   \n",
       "433  TIMEWEAR          Analog Men's Watch (Dial Colored Strap)      399   \n",
       "434     Acnos  Brand - A Digital Watch with Square LED Shockp...    325   \n",
       "435  TIMEWEAR          Analog Men's Watch (Dial Colored Strap)      249   \n",
       "\n",
       "         rating  oprice  clean_price  clean_rating  clean_oprice  \n",
       "0    No reviews  ₹1,598       1598.0           NaN        1598.0  \n",
       "1           4.1  ₹2,498       2498.0           4.1        2498.0  \n",
       "2           4.2  ₹2,919       2919.0           4.2        2919.0  \n",
       "3           4.1  ₹1,799       1799.0           4.1        1799.0  \n",
       "4           4.6    ₹329        329.0           4.6         329.0  \n",
       "..          ...     ...          ...           ...           ...  \n",
       "431         4.1  ₹3,199       3199.0           4.1        3199.0  \n",
       "432         3.8    ₹201        201.0           3.8         201.0  \n",
       "433         3.8    ₹399        399.0           3.8         399.0  \n",
       "434         3.6    ₹325        325.0           3.6         325.0  \n",
       "435         4.1    ₹249        249.0           4.1         249.0  \n",
       "\n",
       "[436 rows x 8 columns]"
      ]
     },
     "execution_count": 30,
     "metadata": {},
     "output_type": "execute_result"
    }
   ],
   "source": [
    "df['clean_oprice'] = df['oprice'].apply(clean_oprice_column)\n",
    "df"
   ]
  },
  {
   "cell_type": "code",
   "execution_count": 34,
   "metadata": {},
   "outputs": [
    {
     "data": {
      "application/vnd.plotly.v1+json": {
       "config": {
        "plotlyServerURL": "https://plot.ly"
       },
       "data": [
        {
         "customdata": [
          [
           "Analog Silver Dial Men's Watch-TWTG31SMU03  "
          ],
          [
           "Analog Blue Dial Men's Watch-TWHG03SMU14  "
          ],
          [
           "Analog Silver Dial Men's Watch-TWHG03SMU16  "
          ],
          [
           "Analog Black Dial Men's Watch-TWHG35SMU05  "
          ],
          [
           "USM ID116 Smart Watch Smart Bracelet Fitness Tracker Color Screen Smartwatch Heart Rate Blood Pressure Pedometer Sleep Monitor  "
          ],
          [
           "boAt Flash Edition Smart Watch with Activity Tracker, Multiple Sports Modes, 1.3\" Screen, 170+ Watch Faces, Sleep Monitor, Gesture, Camera & Music Control, IP68 & 7 Days Battery Life(Lightning Black)  "
          ],
          [
           "boAt Wave Prime47 Smart Watch with 1.69\" HD Display, 700+ Active Modes, ASAP Charge, Live Cricket Scores, Crest App Health Ecosystem, HR & SpO2 Monitoring(Matte Black)  "
          ],
          [
           "Affordable Men's Watch, Men's LED Digital Watch, Watch for Boys & Gents Watches Combo Pack of 2  "
          ],
          [
           "Affordable Men's Watch, Men's LED Digital Watch, Watch for Boys & Gents Watches Combo Pack of 2  "
          ],
          [
           "Analogue Women's Watch (White Dial Rose Gold Colored Strap)  "
          ],
          [
           "Watches for Women Round Studded Dial |Analogue Quartz Movemnet Ladies Watch|Long Battery Life|Stainless Steel Adjustable Bracelet Chain Strap|Double Lock Clasp Safety Watches for Girls  "
          ],
          [
           "Digital Vintage Square Dial Unisex Wrist Watch for Men & Women -W70  "
          ],
          [
           "0024 Gold Dial Metallic Chain Analog Watch for Men and Boys  "
          ],
          [
           "Digital Vintage Square Dial Unisex Wrist Watch for Men & Women -W70  "
          ],
          [
           "Black Dial Blue Strap Analog Watch - for Men-SS-GR6622-BLU-BLU  "
          ],
          [
           "Analog Silvers and Coppers Diamond Combo Watches for Women and Girls  "
          ],
          [
           "Noise ColorFit Pulse Grand Smart Watch with 1.69\"(42.9cm) HD Display, 60 Sports Modes, 150 Watch Faces, Fast Charge, Spo2, Stress, Sleep, Heart Rate Monitoring & IP68 Waterproof (Champagne Grey)  "
          ],
          [
           "boAt Wave Prime47 Smart Watch with 1.69\" HD Display, 700+ Active Modes, ASAP Charge, Live Cricket Scores, Crest App Health Ecosystem, HR & SpO2 Monitoring(Forest Green)  "
          ],
          [
           "Tokdis MX-1 Pro Bluetooth Calling Smartwatch - 1.69” LCD Display, Multiple Watch Faces, Sleep Monitor, Heart & SpO2 Monitoring, Multiple Sports Modes  "
          ],
          [
           "Hammer Ace 3.0 Bluetooth Calling Smart Watch with Largest 1.85\" IPS Display, Dual Mode, Spo2, Heart Rate, Strong Metallic Body & Skin Friendly Strap (Black)  "
          ],
          [
           "Silicone Strap Analog Wrist Watch for Men (Black/Blue/Red) | LD-BK054  "
          ],
          [
           "Digital Sports Multi Functional Black Dial Watch for Mens Boys -315RED  "
          ],
          [
           "SHREENOVA® ID116 Plus Bluetooth Fitness Smart Watch for Men Women and Kids Activity Tracker (Black)  "
          ],
          [
           "Analog Men's Watch  "
          ],
          [
           "Analog Men's Watch  "
          ],
          [
           "Analog Dial Women's Watch (Pink, 6150SM04)-NM6150SM04 / NL6150SM04/NP6150SM04  "
          ],
          [
           "Analog Women's Watch (Pink Dial Silver Colored Strap)  "
          ],
          [
           "Sporty Analog Black Dial Men's Watch-NL7930PP01/NP7930PP01  "
          ],
          [
           "Analog Women's Watch (Dial Colored Strap)  "
          ],
          [
           "Youth Series Digital Black Dial Unisex Watch - F-91W-1Q(D002)  "
          ],
          [
           "Venus Digital Grey Dial Men's Watch-NL7982PP04/NM7982PP04  "
          ],
          [
           "Casual Analog White Dial Men's Watch NM3114PP01/NN3114PP01/NP3114PP01  "
          ],
          [
           "Chronograph Men's Watch (Black Dial)  "
          ],
          [
           "Bouncefit Fitness Band Smart Watch- Y68 D20 Water Proof Smart Watches SpO2 Full Touch Smartwatch with Workout Modes, Heart Rate Tracking, Sports Smart Watch for All Boys & Girls & Women - Jet Black  "
          ],
          [
           "Analog Day Date Functioning Stainless Steel Chain Watch for Men  "
          ],
          [
           "OnePlus Nord Watch with 1.78” AMOLED Display, 60 Hz Refresh Rate, 105 Fitness Modes, 10 Days Battery, SPO2, Heart Rate, Stress Monitor, Women Health Tracker & Multiple Watch Faces [Deep Blue]  "
          ],
          [
           "boAt Flash Edition Smart Watch with Activity Tracker, Multiple Sports Modes, 1.3\" Screen, 170+ Watch Faces, Sleep Monitor, Gesture, Camera & Music Control, IP68 & 7 Days Battery Life(Galaxy Blue)  "
          ],
          [
           "Smart Watch for men women boys 1.3\" OLED HD Display, Multiple watch Faces, SpO2 Monitoring, Sleep Monitor for Boys, Girls, Mens, Women & Kids for all Smartphones (ID 116 Plus Black) (ID116 Black)  "
          ],
          [
           "Digital 24 Images Projector Watch for Kids Boys Watch, Diwali Gift, Birthday Return Gift, Best Digital Toy Watch for Boy's & Girl's BG-906  "
          ],
          [
           "Brand - A Digital Watch with Square LED Shockproof Multi-Functional Automatic 5 Color Army Strap Waterproof Digital Sports Watch for Men's Kids Watch for Boys - Watch for Men  "
          ],
          [
           "Digital Watch Shockproof Multi-Functional Automatic Black Color Strap Waterproof Digital Sports Watch for Men's Kids Watch for Boys Watch for Men Pack of 1 Watch Water Resistance Digital Watch  "
          ],
          [
           "TrendyTap Analog Unisex Child Watch (Red Dial Red Colored Strap)  "
          ],
          [
           "Mens Chronograph Waterproof Luxury Fashion Military Quartz Sports Analog Wristwatches  "
          ],
          [
           "Fire-Boltt Gladiator 1.96\" Biggest Display Smart Watch with Bluetooth Calling, Voice Assistant &123 Sports Modes, 8 Unique UI Interactions, SpO2, 24/7 Heart Rate Tracking, Rs 100 Off on UPI  "
          ],
          [
           "Fire-Boltt Gladiator 1.96\" Biggest Display Smart Watch with Bluetooth Calling, Voice Assistant &123 Sports Modes, 8 Unique UI Interactions, SpO2, 24/7 Heart Rate Tracking, Rs 100 Off on UPI  "
          ],
          [
           "VMBS A1 Smart Watch Mobile Inbuild Camera Supporting 4G/5G Sim Smartwatch for Phone  "
          ],
          [
           "Analog Day & Date Display Wrist Watch for Men & Boys (Black)  "
          ],
          [
           "NoiseFit Force Rugged Round Dial Bluetooth Calling Smart Watch with 1.32\" HD screen, Functional Crown, 550 NITS, 7 days battery, AI Voice Assistance, 200+ Watch Faces, Heart Rate Tracker- (Teal Green)  "
          ],
          [
           "Simple Sport Digital Men’s Military Watches Electronic LED Time Black Wrist Watch  "
          ],
          [
           "Stainless Steel Watch Series Analogue Men's Watch (Black Dial Mens Long Colored Strap) -W219  "
          ],
          [
           "Analog Boy's & Men's Watch (Blue Dial Blue Colored Strap)  "
          ],
          [
           "Analog Men's Watch (Multicolor Dial Multi Colored Strap)  "
          ],
          [
           "Analogue - Digital Men's Watch (Black Dial Black Colored Strap)  "
          ],
          [
           "Analog Men's Watch (Brown Dial Brown Colored Strap)  "
          ],
          [
           "Analogue Multi Color Dial Kids Watch for Boys and Girls - Combo of 2 Watches  "
          ],
          [
           "Analog Black Dial Men's Watch-TW000U914  "
          ],
          [
           "Premium Casual Stylish Watch | Luxury Working Chronograph Watch for Men | Water-Resistant Branded Men's Wrist Watch with Stopwatch & Date Display - Timegrapher Red Leather Watch  "
          ],
          [
           "Analog Blue Dial Men's Watch-TH1791474  "
          ],
          [
           "Digital Watch Shockproof Multi-Functional Automatic Black Color Strap Waterproof Digital Sports Watch for Mens Kids Watch for Boys Watch for Men Pack of 1 Watch Water Resistance Digital Watch  "
          ],
          [
           "Smart Watch D20 Y68 Smart Watch for Girls Boys Men Women Kids, Blacktooth 1.3\" Smart Watch LED with Daily Activity Tracker, Heart Rate Sensor, for All Boys & Girls SmartWatch- Pink  "
          ],
          [
           "Analogue Black Dial Men's Watch - SS-GR918-BLK-BLK  "
          ],
          [
           "SHREENOVA XA Smart Watch for Men & Women Latest Bluetooth 1.3\" LED with Daily Activity Tracker, Heart Rate Sensor,Sports Gym Watch for All Boys & Girls - Black  "
          ],
          [
           "Black Dial Analogue Watch for Men Pack of 1 (FULLBLKPAYDU)  "
          ],
          [
           "MAGBOT Q9 Smart Watch for Men & Women Latest Bluetooth 1.3\" LED with Daily Activity Tracker, Heart Rate Sensor, BP Monitor, Sports Gym Watch for All Boys & Girls - Black  "
          ],
          [
           "Multi Dial Square 6 Crono Stylish Latest Generation Designer Rubber Strap Analog Watch - for Boys & Girls  "
          ],
          [
           "AYL Waterproof D-20 Touch Screen Smart Watch Bluetooth Smartwatch with Blood Pressure Tracking, Heart Rate Sensor and Basic Functionality for All Women and Girls (Pink)  "
          ],
          [
           "Multi Dial Chronograph Luxury Quartz Analog Watch for Men  "
          ],
          [
           "Smart Watch for Men Women ID116 Plus Smart Bracelet Fitness Tracker Color Screen Smartwatch Heart Rate Blood Pressure Pedometer Sleep Monitor  "
          ],
          [
           "Apple Watch Series 8 [GPS 45 mm] Smart Watch w/Midnight Aluminium Case with Midnight Sport Band. Fitness Tracker, Blood Oxygen & ECG Apps, Always-On Retina Display, Water Resistant  "
          ],
          [
           "Analogue Men's Watch(Gold Dial Silver Colored Strap)-S1089-2  "
          ],
          [
           "DIZO Watch D2 Power (by realme TechLife) –Large 1.91\" Superlight, Single Chipset Bluetooth Calling Smartwatch with Smart Swipe,150 +Stylish Watch Faces and 10 Day Battery (Classic Black)  "
          ],
          [
           "Square Multi DIAL Analog Silicon Strap ADDI Stylish Designer Analog Watch - for Boys  "
          ],
          [
           "Noise ColorFit Pulse Grand Smart Watch with 1.69\"(4.2cm) HD Display, 60 Sports Modes, 150 Watch Faces, Fast Charge, Spo2, Stress, Sleep, Heart Rate Monitoring & IP68 Waterproof (Lime Green)  "
          ],
          [
           "The Watch (Fourteen Tales of Thirteen Covens Book 5)  "
          ],
          [
           "pTron Force X12S Bluetooth Calling Smartwatch, 1.85\" Full Touch HD Display, Functional Crown, Real Heart Rate Monitor, SpO2, Watch Faces, 5 Days Battery Life, Fitness Trackers & IP68 Waterproof (Pink)  "
          ],
          [
           "The Classique - Black - Premium & Luxurious Watch for Men  "
          ],
          [
           "Men's Military Watches Outdoor Sports Digital Watch Waterproof LED Date Alarm Wrist Watches for Men 8007 Dark Green  "
          ],
          [
           "Men's Military Watches Outdoor Sports Digital Watch Waterproof LED Date Alarm Wrist Watches for Men 8007 Green  "
          ],
          [
           "The Classique - Green - Premium & Luxurious Watch for Men  "
          ],
          [
           "TrendyTap Analog Unisex Child Watch (Red Dial Red Colored Strap)  "
          ],
          [
           "Mens Chronograph Waterproof Luxury Fashion Military Quartz Sports Analog Wristwatches  "
          ],
          [
           "Goldenize Fashion Multicolor Digital Dial Waterproof Stylish and Fashion Child Wrist Smart Watch LED Band for Kids,Colorful 3D Cartoon Super Hero for Kids,Boys & Girls (Pink Mouse-White Doremon)  "
          ],
          [
           "Analog Day Date Functioning Stainless Steel Chain Watch for Men  "
          ],
          [
           "Analogue Men's Watch(Gold Dial Silver Colored Strap)-S1089-2  "
          ],
          [
           "New Edition i7 Pro Max All in One Series 7 Smart Watch with Fitness Tracker Heart Monitor Men Women Smart Watch Black  "
          ],
          [
           "Analog Unique Arrow Black Silicon Strap Watch for Men and Boys  "
          ],
          [
           "boAt Wave Lite Smartwatch with 1.69 Inches(4.29cm) HD Display, Heart Rate & SpO2 Level Monitor, Multiple Watch Faces, Activity Tracker, Multiple Sports Modes & IP68 (Scarlet Red)  "
          ],
          [
           "Wrist Watches for Men Leather Strap Analog Chronograph Fashion Business Sport Design Mens Watch 30M Waterproof Stylish Elegant Gifts for Men  "
          ],
          [
           "Apple Watch SE (2nd Gen) [GPS 44 mm] Smart Watch w/Midnight Aluminium Case & Midnight Sport Band. Fitness & Sleep Tracker, Crash Detection, Heart Rate Monitor, Retina Display, Water Resistant  "
          ],
          [
           "OLICOM M1 Smart Watch Id-116 Bluetooth Smartwatch Wireless Fitness Band for Boys, Girls, Men, Women & Kids | Sports Gym Watch for All Smart Phones I Heart Rate and spo2 Monitor  "
          ],
          [
           "Men's Military Digital Watches Analog Quartz Waterproof Watch Sport Multifunctional Leather Wristwatch  "
          ],
          [
           "DIZO Watch D2 Power (by realme TechLife) – Large 1.91\" Superlight, Single Chipset Bluetooth Calling Smartwatch with Smart Swipe, 150+Stylish Watch Faces and 10 Day Battery (Steel Grey)  "
          ],
          [
           "Unisex Elegant Plane Style Digital Display Waterproof Outdoor Sports Silicone Strap LED Wrist Watch ( black )  "
          ],
          [
           "AYL Smart Watch New Generation for You ID116 Touchscreen Android Smart Watch Bluetooth Smartwatch with Heart Rate Sensor and Basic Functionality for All Women, Men, Boys & Girls - Black  "
          ],
          [
           "Multi Dial Square 6 Crono Stylish Latest Generation Designer Rubber Strap Analog Watch - for Boys & Girls  "
          ],
          [
           "boAt Xtend Smart Watch with Alexa Built-in, 1.69” HD Display, Multiple Watch Faces, Stress Monitor, HR & SpO2 Monitoring, 14 Sports Modes, Sleep Monitor, 5 ATM & 7 Days Battery Life(Deep Blue)  "
          ],
          [
           "Analogue Multi Color Dial Kids Watch for Boys & Girls  "
          ],
          [
           "Smart watch New Launch Smart Watches ID116 Bluetooth Smartwatch Wireless Fitness Band for Boys, Girls, Men, Women & Kids | Sports Gym Watch for All Smart Phones I Heart Rate and spo2 Monitor - (Black)  "
          ],
          [
           "Analog-Digital Men's Watch (Black Dial Black Colored Strap)  "
          ],
          [
           "Acnos Brand 3 Color Watch with Black PU Strap Watch M2 Digital for Mens and Watches for Boy Pack of-2  "
          ],
          [
           "Analog Men's Watch (Black Dial Colored Strap)  "
          ],
          [
           "Digital Men's Watch (Black Dial Multi Colored Strap)  "
          ],
          [
           "Multi-Functional Boys Casual Business Mens Luxury Stylish Watch Black Dial Leather Strap Wrist Watches for Men-Daily Use Analog Digital Sports Men's Watch  "
          ],
          [
           "Fastrack Reflex Hello Smart Watch with BT Calling|Bright HD Display|AI Voice Assistant|50+ Sports Modes|100+ Watchfaces|BP Monitor|24x7 HRM| SpO2|Upto 5 Day Battery|Camera & Music Control|IP68  "
          ],
          [
           "Analog Boy's & Men's Watch (Brown Dial Colored Strap)  "
          ],
          [
           "Hammer Pulse Ace Pro Bluetooth Calling Smartwatch with SpO2 & 1.81” Aluminium Alloy Body with Blood Oxygen Monitoring, Heart Rate, Full Touch & Multiple Watch Faces with Customization (Black)  "
          ],
          [
           "Analog Watches for Men  "
          ],
          [
           "New LED Watch for Boys, Girls and Kids Digital Black Dial Led Watch for Kids Unisex Birthday Gift Digital Watch  "
          ],
          [
           "9951 Pure Black Chain Day & Date Wrist Watch Original Black Watch Analog Watch - for Men  "
          ],
          [
           "CrossBeats Ignite S5 Advanced AI ENC BT Calling Smartwatch, 1.96” Super AMOLED Anti-Glare Screen, Always on Display, Calculator, 500+ Watch Faces, 360 Degree Health Tracking, Fast Charge (Silver)  "
          ],
          [
           "Analogue White Dial Spiderman Boy's, Girl's Watch (Red)  "
          ],
          [
           "New Fastrack Reflex Beat+ 1.69” UltraVU Display|500 Nits Brightness|60 Sports Modes|24*7 Heart Rate Monitor|SpO2 Monitor|Sleep Tracker|IP68 Water Resistant|Music & Camera Control  "
          ],
          [
           "Digital Dial Men's & Women's Watch(AB206-VSD)  "
          ],
          [
           "Silicone Strap Analog Wrist Watch for Men (Black/Blue/Red) | LD-BK054  "
          ],
          [
           "sunway M3 Silicone LED Digital Black Men's Women's Watch  "
          ],
          [
           "Analog Dial Black Metal Strap Watch Series Watches for Men Watch for Man and Watch for Boys  "
          ],
          [
           "Formal Analog White Dial Men's Watch-MTP-V300L-7AUDF (A1177)  "
          ],
          [
           "Special Super Quality Analog Watches Combo Look Like Handsome for Boys and Mens Pack of - 3(STL-437-436)  "
          ],
          [
           "boAt Matrix Smart Watch with 1.65” AMOLED Display, Always On Mode, Slim Premium Design, Heart Rate & SpO2 Monitoring, Health Ecosystem & Multiple Sports Modes, 3ATM & 7 Days Battery Life(Pitch Black)  "
          ],
          [
           "Men's Digital Sports Watch, LED Square Large Face Analog Quartz Wrist Watch with Multi-Time Zone Waterproof Stopwatch - 1834/1835  "
          ],
          [
           "Fire-Boltt Ring Bluetooth Calling Smartwatch with SpO2 & 1.7” Metal Body with Blood Oxygen Monitoring, Continuous Heart Rate, Full Touch & Multiple Watch Faces (Grey)  "
          ],
          [
           "PTron Newly Launched Force X10 Bluetooth Calling Smartwatch with 1.7\" Full Touch Color Display, Real Heart Rate Monitor, SpO2, Watch Faces, 5 Days Runtime, Fitness Trackers & IP68 Waterproof (Pink)  "
          ],
          [
           "Quartz Movement Analogue Display Multicoloured Dial Men's Watch (Green Dial Green Colored Strap)-Army  "
          ],
          [
           "Digital 24 Images Projector Watch for Kids Boys Watch, Diwali Gift, Birthday Return Gift, Best Digital Toy Watch for Boy's & Girl's BG-906  "
          ],
          [
           "Men's Watches Luxury Fashion Casual Dress Chronograph Waterproof Military Quartz Wristwatches for Men Stainless Steel Band  "
          ],
          [
           "CrossBeats Ignite GRIT Smart Watch, 1.83 AMOLED Display with Advanced Bluetooth Calling, Rotating Crown,AI Health Sensors, 150+ Sports Modes, 250+Watch Faces, in-Built Games, 15 Days Battery-Pink  "
          ],
          [
           "(Renewed) Mi Watch Revolve Active (Black)- SpO2 and Sleep Monitor, 1.39\" AMOLED Display, 2 Weeks Battery Life, Alexa Built-in, 117 Sports Mode, GPS  "
          ],
          [
           "Avenger Black Dial Watch for Men & Boys  "
          ],
          [
           "Fire-Boltt Ninja 3 1.83\" Display Smartwatch Full Touch with 100+ Sports Modes with IP68, Sp02 Tracking, Over 100 Cloud Based Watch Faces  "
          ],
          [
           "Lapster USB all types smartwatch charger cable for boat watch charger & boat xtend watch charger & boat storm watch charger- All 2 Pin Watch (Cable Only)  "
          ],
          [
           "RWS0178S Analogue Silver Dial Men's & Boy's Watch  "
          ],
          [
           "Apple Watch Ultra [GPS + Cellular 49 mm] Smart Watch w/Rugged Titanium Case & White Ocean Band. Fitness Tracker, Precision GPS, Action Button, Extra-Long BatteryLife, Brighter Retina Display  "
          ],
          [
           "Digital Watch Shockproof Multi-Functional Automatic Full Black Color Strap Waterproof Digital Sports Watch for Men's Kids Watch for Boys Watch for Men Pack of-1  "
          ],
          [
           "APCSA Original New Series 7 D20 Bluetooth Wireless Smart Watch, Fitness Band for Boys, Girls, Men, Women & Kids | Sports Watch for All Smart Phones I Heart Rate and BP Monitor ( Pink )  "
          ],
          [
           "Black Dial Arrow Analog Watch with King Bracelet for Men (Pack of 2)  "
          ],
          [
           "PU Belt Analogue Men's Watch and Boy's Watch  "
          ],
          [
           "Analog Men's Watch (Dial Colored Strap)  "
          ],
          [
           "Men's Analog Number Dial Brown Leather Strap Watch  "
          ],
          [
           "Mens Chronograph Waterproof Luxury Fashion Military Quartz Sports Analog Wristwatches  "
          ],
          [
           "TrendyTap Analog Unisex Child Watch (Red Dial Red Colored Strap)  "
          ],
          [
           "Analog Day Date Functioning Stainless Steel Chain Watch for Men  "
          ],
          [
           "Brand - A Digital Watch with Square LED Shockproof Multi-Functional Automatic 5 Color Army Strap Waterproof Digital Sports Watch for Men's Kids Watch for Boys - Watch for Men  "
          ],
          [
           "Analog Black Dial Men's Watch-TW000U934  "
          ],
          [
           "Analog Purple Dial Women's Watch-6282SL02  "
          ],
          [
           "Noise ColorFit Ultra Buzz Bluetooth Calling Smart Watch with 1.75\" HD Display, 320x385 px Resolution, 100 Sports Modes, Stock Market Info Smartwatch for Men & Women (Champagne Grey)  "
          ],
          [
           "The Watch (Red Book 1)  "
          ],
          [
           "Waterproof D20 Touchscreen Smart Watch Bluetooth Smartwatch with Blood Pressure Tracking, Heart Rate Sensor and Basic Functionality for All Women and Men  "
          ],
          [
           "i8 Pro Max Touch Screen Bluetooth Smartwatch with Activity Tracker Compatible with All 3G/4G/5G Android & iOS Smartphones - Black  "
          ],
          [
           "Apple Watch SE (2nd Gen) [GPS 40 mm] Smart Watch w/Midnight Aluminium Case & Midnight Sport Band. Fitness & Sleep Tracker, Crash Detection, Heart Rate Monitor, Retina Display, Water Resistant  "
          ],
          [
           "Analog Black Dial Men's Watch-NG38022PP03W / NG38022PP03C  "
          ],
          [
           "Men's Precisionist X 10th Anniversary Rose Gold Stainless Steel and Demascus Steel 8-Hand Chronograph Watch with Brown Leather Strap and Sapphire Crystal Style: 98B356  "
          ],
          [
           "Super Fibre Digital Grey Dial Men's Watch-NL87011PP04/NP87011PP04  "
          ],
          [
           "Men's Digital Sports Watch, Waterproof LED Screen Large Face Military Watches and Heavy Duty Electronic Simple Army Watch with Alarm - 1820  "
          ],
          [
           "Beyond Gold Analog Black Dial Men's Watch-NN77031KM03/NP77031KM03  "
          ],
          [
           "Redmi Watch 2 Lite - 3.94 cm Large HD Edge Display, Multi-System Standalone GPS, Continuous SpO2, Stress & Sleep Monitoring, 24x7 HR, 5ATM, 120+ Watch Faces, 100+ Sports Modes, Women's Health, Blue  "
          ],
          [
           "MARVIK Smart Watch D116 for Xiaomi Mi Note 9 Smart Watch Bluetooth SmartWatch with Activity Tracker, Heart Rate Sensor, Sleep Monitor and Basic Functionality for All Boys & Girls  "
          ],
          [
           "Analog Men's Watch (Black Dial Colored Strap)  "
          ],
          [
           "Digital Men's Watch (Black Dial Multi Colored Strap)  "
          ],
          [
           "Multi-Functional Boys Casual Business Mens Luxury Stylish Watch Black Dial Leather Strap Wrist Watches for Men-Daily Use Analog Digital Sports Men's Watch  "
          ],
          [
           "Analog Men's Watch (Dial Colored Strap)  "
          ],
          [
           "Analogue Watch for Men and Boys  "
          ],
          [
           "CrossBeats Newly launched Ignite S5 Advanced AI ENC BT Calling Smartwatch, 1.96” Super AMOLED Anti-Glare Screen, Always on Display, SnapCharge™ Calculator, 500+ Watch Faces, AI Health Feature (Black)  "
          ],
          [
           "Luxury Analogue Girl's Watch(Multicolour Dial 1-Multicolour Colored Strap)  "
          ],
          [
           "Sporty Digital Grey Dial Men's Watch-NL77043PP02/NP77043PP02  "
          ],
          [
           "Analog Rose Gold Dial Women's Watch-NM6147NM01 / NL6147NL01/NP6147NM01  "
          ],
          [
           "CYLECT Smart Watch for Men women - Smart Watches for Men Women, Bluetooth Smartwatch Touch Screen Bluetooth Smart Watches for Android iOS Phones Wrist Phone Watch, Women - pink  "
          ],
          [
           "Unisex Swiss True High Tech Analogue Ceramic Watch (White)  "
          ],
          [
           "Dean Chronograph Black Dial Men's Watch-FS4721  "
          ],
          [
           "Artistic Love Symbol Butterfly Red Analog Watch for Girls and Women Watch - for Girls  "
          ],
          [
           "Casual Analogue Women Watch (Blue Dial Silver Colored Chain)  "
          ],
          [
           "SENS NUTON 1 with 1.7 IPS Display, Orbiter, 5ATM & 150+ Watch Faces & Free Additional Strap (Royal Silver)  "
          ],
          [
           "PTron Newly Launched Force X11P Bluetooth Calling Smartwatch with 1.3\" Full Touch Display, Heart Rate Tracking, SpO2, 100s of Watch Faces, 5 Days Runtime, Fitness Trackers & IP68 Waterproof (Black)  "
          ],
          [
           "Analog-Digital Men's Watch (Black Dial)  "
          ],
          [
           "Reflex Vox Smartwatch|Alexa Built-in|Bright HD Display|Upto 10 Days Battery|5 ATM Water Resistance|Multiple Sports Modes|100+ Watchfaces|24x7 HRM|Sp02|Stress Monitor|Camera & Music Control  "
          ],
          [
           "Diamond Studded Stylish Analogue Watch with Rose Gold Dot Bracelet for Girls & Women  "
          ],
          [
           "Fitbit FB507BKBK Versa 2 Health & Fitness Smartwatch with Heart Rate, Music, Alexa Built-in, Sleep & Swim Tracking, Black/Carbon, One Size (S & L Bands Included) (Black/Carbon)  "
          ],
          [
           "Analog Grey Dial Unisex-Adult Watch-68013PP10  "
          ],
          [
           "Watches for Women Stainless Steel Chain & Diamond Studded Dial Ladies Watch - Water Resistant Womens Watches  "
          ],
          [
           "Newly Launched Maxima Max Pro Knight Bluetooth Calling smartwatch with 44.5mm Round Active Display of 550 Nits Brightness, Voice Assistant, HR & SpO2 Monitor,30+ Excercise Modes, inbuilt Games  "
          ],
          [
           "Outerbanks Analog Black Dial Men's Watch-AX2520  "
          ],
          [
           "Analog White Dial Men's Watch-TW000U933  "
          ],
          [
           "Analog Silver Dial Men's Watch-7142NL01  "
          ],
          [
           "Fire-Boltt Ring Bluetooth Calling Smartwatch with SpO2 & 1.7” Metal Body with Blood Oxygen Monitoring, Continuous Heart Rate, Full Touch & Multiple Watch Faces (Blue)  "
          ],
          [
           "Outdoor Sport Shockproof Led Analogue and Digital Waterproof Chronograph Watch for Men  "
          ],
          [
           "Analog Purple Dial Unisex-Adult Watch-9915PP97  "
          ],
          [
           "Venus Digital Grey Dial Men's Watch-NL7982PP01/NM7982PP01  "
          ],
          [
           "Edifice Men's Tachymeter Chronograph EF-558SG-1AVDF (ED439)  "
          ],
          [
           "Analog Silver Dial Men's Watch-FS4991  "
          ],
          [
           "IMOO Watch Phone Z1 Kids Smart Watch, 4G Kids Smartwatch Phone with Long-Lasting Video & Phone Call, Kids GPS Watch with Real-time Locating & IPX8 Water-Resistance (Pink)  "
          ],
          [
           "Economy Digital Multi-color Round Dial Men's Sport Watch-NN77006PP01/NP77006PP01  "
          ],
          [
           "Men's Analog Number Dial Brown Leather Strap Watch  "
          ],
          [
           "Black, Blue, White Dial, Day & Date Functioning, Stainless Steel Strap Analog Watch for Men & Women  "
          ],
          [
           "Digital Watch Shockproof Multi-Functional Automatic Black Color Strap Waterproof Digital Sports Watch for Men's Kids Watch for Boys Watch for Men Pack of 1 Watch Water Resistance Digital Watch  "
          ],
          [
           "PU Belt Analogue Men's Watch and Boy's Watch  "
          ],
          [
           "Mens Chronograph Waterproof Luxury Fashion Military Quartz Sports Analog Wristwatches  "
          ],
          [
           "TrendyTap Analog Unisex Child Watch (Red Dial Red Colored Strap)  "
          ],
          [
           "Analog Day Date Functioning Stainless Steel Chain Watch for Men  "
          ],
          [
           "Acnos Brand 3 Color Watch with Black PU Strap Watch M2 Digital for Mens and Watches for Boy Pack of-2  "
          ],
          [
           "pTron Force X12S Bluetooth Calling Smartwatch, 1.85\" Full Touch HD Display, Functional Crown, Real Heart Rate Monitor, SpO2, WatchFaces, 5 Days Battery Life, Fitness Trackers & IP68 Waterproof (Black)  "
          ],
          [
           "Luxury Analogue Girl's Watch(Multicolour Dial 1-Multicolour Colored Strap)  "
          ],
          [
           "Adlynlife 22mm Smart Watch Straps/Smart Watch Band Compatible for Realme Watch S/Realme S Pro (Black)  "
          ],
          [
           "Analog Rose Gold Dial Women's Watch-NM6147NM01 / NL6147NL01/NP6147NM01  "
          ],
          [
           "Fitbit FB507RGPK Versa 2 Health & Fitness Smartwatch with Heart Rate, Music, Alexa Built-in, Sleep & Swim Tracking, Petal/Copper Rose, One Size (S & L Bands Included) (Petal/Copper Rose)  "
          ],
          [
           "Unisex Swiss True High Tech Analogue Ceramic Watch (White)  "
          ],
          [
           "Edifice Analog Red Dial Men's Watch-EFR-526D-5CVUDF  "
          ],
          [
           "Epaal Case Compatible with Realme Watch 3 Pro Only, Anti Scratch Shockproof PC Case Cover Protector  "
          ],
          [
           "Watch: A Novel  "
          ],
          [
           "Artistic Love Symbol Butterfly Red Analog Watch for Girls and Women Watch - for Girls  "
          ],
          [
           "Smart Man Full Touch Smartwatch with Mesh Band (Color: Silver) with 1.69'' Large Display, Bluetooth, Sport Modes, Metal Body, Heart Rate Monitor, Multiple Watch Faces- E17-D  "
          ],
          [
           "Analog Dial Women's Watch  "
          ],
          [
           "Youth-Digital Black Dial Men's Watch-AE-1200WH-1BVDF (D098)  "
          ],
          [
           "Venus Digital Grey Dial Men's Watch-NL7982PP01/NM7982PP01  "
          ],
          [
           "Dean Chronograph Black Dial Men's Watch-FS4721  "
          ],
          [
           "Essentials Analog White Dial Men's Watch NM77083SM01 / NL77083SM01  "
          ],
          [
           "Analog Men's Watch (Black Dial Colored Strap)  "
          ],
          [
           "Digital Men's Watch (Black Dial Multi Colored Strap)  "
          ],
          [
           "Multi-Functional Boys Casual Business Mens Luxury Stylish Watch Black Dial Leather Strap Wrist Watches for Men-Daily Use Analog Digital Sports Men's Watch  "
          ],
          [
           "Analog Men's Watch (Dial Colored Strap)  "
          ],
          [
           "Analog-Digital Men's Watch (Black Dial)  "
          ],
          [
           "DIZO Watch D2 Power (by realme TechLife) –Large 1.91\" Superlight, Single Chipset Bluetooth Calling Smartwatch with Smart Swipe,150 +Stylish Watch Faces and 10 Day Battery (Classic Black)  "
          ],
          [
           "Analog Grey Dial Unisex-Adult Watch-68013PP10  "
          ],
          [
           "Noise ColorFit Pro 4 Max 1.8\" Biggest Display, Bluetooth Calling Smart Watch, Built.in Alexa, 100 Sports Modes, Detection, Health & Productivity Suite (Jet Black)  "
          ],
          [
           "Watches for Women Stainless Steel Chain & Diamond Studded Dial Ladies Watch - Water Resistant Womens Watches  "
          ],
          [
           "APCSA Original New Series 7 D20 Bluetooth Wireless Smart Watch, Fitness Band for Boys, Girls, Men, Women & Kids | Sports Watch for All Smart Phones I Heart Rate and BP Monitor ( Pink )  "
          ],
          [
           "Outerbanks Analog Black Dial Men's Watch-AX2520  "
          ],
          [
           "(Renewed) boAt Wave Call Smart Watch, Smart Talk with Bluetooth Calling Chip, 1.69 HD Display with 550 NITS & 70% Color Gamut, 150+ Watch Faces, Multi-Sport Modes,HR,SpO2, IP68(Active Black)  "
          ],
          [
           "Women's Watches Ladies Fashion Analogue Simple Style Watches Rose Gold Dial Alloy Strap Waterproof Watches for Watches Wife Miss Women with Birthday Gift  "
          ],
          [
           "CrossBeats Ignite GRIT Smart Watch, 1.83 AMOLED Display with Advanced Bluetooth Calling, Rotating Crown,AI Health Sensors, 150+ Sports Modes, 250+Watch Faces, in-Built Games, 15 Days Battery-Black  "
          ],
          [
           "Analog White Dial Men's Watch-NN7954YM01W/NP7954YM01W  "
          ],
          [
           "Analog Silver Dial Men's Watch-7142NL01  "
          ],
          [
           "Analog Purple Dial Unisex-Adult Watch-9915PP97  "
          ],
          [
           "Adjustable Xiaomi Mi Band 5 & Mi Band 6 Watch Strap Silicone Adjustable - Set of 5  "
          ],
          [
           "Essentials Analog Silver Dial Men's Watch NM77082SL01W/NN77082SL01W  "
          ],
          [
           "All Black Mesh Black Strap Day & Date Functioning Watch for Boys Analog Watch Analog-Digital Watch - for Men  "
          ],
          [
           "Reflex Curv Unisex Activity Tracker Smart Watch, 2.5D Curved Display, AI-Enabled Coach, Multiple Sports Mode, Complete Health Suite with Temperature Monitor Variants  "
          ],
          [
           "Super Fibre Analog Black Dial Men's Watch -NM7920PP13 / NL7920PP13  "
          ],
          [
           "Analog Silver Dial Men's Watch-FS4991  "
          ],
          [
           "Analog Brown Dial Men's Watch-NL1584SL04/NP1584SL04  "
          ],
          [
           "Economy Digital Multi-color Round Dial Men's Sport Watch-NN77006PP01/NP77006PP01  "
          ],
          [
           "New Smartwatch Max Pro Bold Advanced Bluetooth calling with AAC Speakers & Largest 1.81\" HD Display, AI Voice Assistant, Premium Metal Body,100+ Sports&Watch Faces, HRM, SpO2 & Sleep Monitoring  "
          ],
          [
           "Enticer Men Analog Black Dial Watch-A1821  "
          ],
          [
           "Maxima Max Pro X1 Smartwatch - Premium 1.4” HD Display of 500 Nits with 10 Days Battery Life, 100+ Watch Faces, Sleep & SpO2 Monitoring, Social Media alerts, Multiple Exercise Modes (Army Green)  "
          ],
          [
           "Chronograph Men's Watch (Black Dial)  "
          ],
          [
           "Spiderman Analog Black Dial Unisex's Watch-NNC4048PP15  "
          ],
          [
           "Analog Black Dial Men's Watch-NG38022PP03W / NG38022PP03C  "
          ],
          [
           "Digital Boy's & Men's Watch (Multicolour Dial Multi Colored Strap)  "
          ],
          [
           "Samsung Galaxy Watch4 LTE (4.4 cm, Black, Compatible with Android only)  "
          ],
          [
           "Phile Black Dial NATO Watch  "
          ],
          [
           "Analog White Dial Unisex's Watch-NG38021PP10W / NG38021PP10W  "
          ],
          [
           "Men's Analog Number Dial Brown Leather Strap Watch  "
          ],
          [
           "Goldenize Fashion Multicolor Digital Dial Waterproof Stylish and Fashion Child Wrist Smart Watch LED Band for Kids,Colorful 3D Cartoon Super Hero for Kids,Boys & Girls (Pink Mouse-White Doremon)  "
          ],
          [
           "Black Dial Arrow Analog Watch with King Bracelet for Men (Pack of 2)  "
          ],
          [
           "Analog Men's Watch (Dial Colored Strap)  "
          ],
          [
           "Mens Chronograph Waterproof Luxury Fashion Military Quartz Sports Analog Wristwatches  "
          ],
          [
           "Analog Day Date Functioning Stainless Steel Chain Watch for Men  "
          ],
          [
           "TrendyTap Analog Unisex Child Watch (Red Dial Red Colored Strap)  "
          ],
          [
           "Analog Men's Watch (Black Dial Colored Strap)  "
          ],
          [
           "Men's Digital Sports Wrist Watch LED Screen Large Face Electronics Military Watches Waterproof Alarm Stopwatch Back Light Outdoor Casual Black Watch - 1818  "
          ],
          [
           "Super Fibre Analog Black Dial Men's Watch -NM7920PP13 / NL7920PP13  "
          ],
          [
           "Analog-Digital Men's Watch (Black Dial)  "
          ],
          [
           "Analog Brown Dial Men's Watch-NL1584SL04/NP1584SL04  "
          ],
          [
           "Analog Grey Dial Unisex-Adult Watch-68013PP10  "
          ],
          [
           "CrossBeats Ignite GRIT Smart Watch, 1.83 AMOLED Display with Advanced Bluetooth Calling, Rotating Crown,AI Health Sensors, 150+ Sports Modes, 250+Watch Faces, in-Built Games, 15 Days Battery-Pink  "
          ],
          [
           "Watches for Women Stainless Steel Chain & Diamond Studded Dial Ladies Watch - Water Resistant Womens Watches  "
          ],
          [
           "The Watch  "
          ],
          [
           "SENS NUTON 1 with 1.7 IPS Display, Orbiter, 5ATM & 150+ Watch Faces & Free Additional Strap (Matte Black)  "
          ],
          [
           "Outerbanks Analog Black Dial Men's Watch-AX2520  "
          ],
          [
           "Analog White Dial Men's Watch-NN7954YM01W/NP7954YM01W  "
          ],
          [
           "Analog Black Dial Women's Watch NM8976YL03W/NN8976YL03W  "
          ],
          [
           "Women's Watches Ladies Fashion Analogue Simple Style Watches Rose Gold Dial Alloy Strap Waterproof Watches for Watches Wife Miss Women with Birthday Gift  "
          ],
          [
           "Classics Analog White Dial Men's Watch-A300  "
          ],
          [
           "Analog Silver Dial Men's Watch-7142NL01  "
          ],
          [
           "Analog Men's Watch (Dial Colored Strap)  "
          ],
          [
           "Analog Men's Watch (Dial Colored Strap)  "
          ],
          [
           "Analog Minute Track Dial Stainless Steel Chain Watch for Men  "
          ],
          [
           "Men's Analog Number Dial Brown Leather Strap Watch  "
          ],
          [
           "Karishma Analog Black Dial Men's Watch-NL1639SM02/NN1639SM02  "
          ],
          [
           "Analog Multicolor Small Dial Men's Watch -NM7987SL01W / NL7987SL01W  "
          ],
          [
           "(Renewed) boAt Wave Call Smart Watch, Smart Talk with Bluetooth Calling Chip, 1.69 HD Display with 550 NITS & 70% Color Gamut, 150+ Watch Faces, Multi-Sport Modes,HR,SpO2, IP68(Active Black)  "
          ],
          [
           "Analog OffWhite Dial Men's Watch NM1712YM02 / NL1712YM02  "
          ],
          [
           "Analog Purple Dial Unisex-Adult Watch-9915PP97  "
          ],
          [
           "Apple Watch Series 8 [GPS 45 mm] Smart Watch w/Midnight Aluminium Case with Midnight Sport Band. Fitness Tracker, Blood Oxygen & ECG Apps, Always-On Retina Display, Water Resistant  "
          ],
          [
           "Reflex Curv Unisex Activity Tracker Smart Watch, 2.5D Curved Display, AI-Enabled Coach, Multiple Sports Mode, Complete Health Suite with Temperature Monitor Variants  "
          ],
          [
           "Economy Analog Green Dial Men's Watch-NL77007PP01  "
          ],
          [
           "Analog Champagne Dial Women's Watch-NL87018YM01/NP87018YM01  "
          ],
          [
           "Leather World Vegan Leather 4 Slot Watch Case Box for Men and Women (Beige)  "
          ],
          [
           "SENS NUTON 1 with 1.7 IPS Display, Orbiter, 5ATM & 150+ Watch Faces & Free Additional Strap (Royal Silver)  "
          ],
          [
           "All Black Mesh Black Strap Day & Date Functioning Watch for Boys Analog Watch Analog-Digital Watch - for Men  "
          ],
          [
           "Army Digital Black Dial Sports Men's and Boy Watch 1426 (Black)  "
          ],
          [
           "Analog Silver Dial Men's Watch-FS4991  "
          ],
          [
           "CrossBeats Ignite GRIT Smart Watch, 1.83 AMOLED Display with Advanced Bluetooth Calling, Rotating Crown,AI Health Sensors, 150+ Sports Modes, 250+Watch Faces, in-Built Games, 15 Days Battery-Black  "
          ],
          [
           "Economy Digital Multi-color Round Dial Men's Sport Watch-NN77006PP01/NP77006PP01  "
          ],
          [
           "Analog Gold Dial Men's Watch-NN7007YM05/NP7007YM05  "
          ],
          [
           "Analog Blue Dial Women's Watch NM8989PP04 / NL8989PP04  "
          ],
          [
           "Analog Grey Dial Men's Watch-MK8576  "
          ],
          [
           "Apple Watch SE (2nd Gen) [GPS 44 mm] Smart Watch w/Midnight Aluminium Case & Midnight Sport Band. Fitness & Sleep Tracker, Crash Detection, Heart Rate Monitor, Retina Display, Water Resistant  "
          ],
          [
           "Analog White Dial Men's Watch-TW000U933  "
          ],
          [
           "NOVA Skeleton Automatic Watch Mechanical Wrist Watch for Men Bezel Screw Design Silicone Band Self-Wind Business Watch for Men  "
          ],
          [
           "Maxima Max Pro X1 Smartwatch - Premium 1.4” HD Display of 500 Nits with 10 Days Battery Life, 100+ Watch Faces, Sleep & SpO2 Monitoring, Social Media alerts, Multiple Exercise Modes (Army Green)  "
          ],
          [
           "Stylish and Fashionable Waterproof LED Square Dial Watch for Boys and Girls  "
          ],
          [
           "Samsung Galaxy Watch4 LTE (4.4 cm, Black, Compatible with Android only)  "
          ],
          [
           "Enticer Men Analog Black Dial Watch-A1821  "
          ],
          [
           "Maxima New Samurai Smartwatch 1.85\", 1st Time Call Accept Feature, Hindi Language Support, 600Nits Brightness, Longer Battery, in-App GPS,100+ Watch Faces, Multisport Modes,HR/SpO2 (Charcoal Black)  "
          ],
          [
           "Chronograph Men's Watch (Black Dial)  "
          ],
          [
           "Spiderman Analog Black Dial Unisex's Watch-NNC4048PP15  "
          ],
          [
           "Digital Boy's & Men's Watch (Multicolour Dial Multi Colored Strap)  "
          ],
          [
           "Smart Man Full Touch Smartwatch with Mesh Band (Color: Silver) with 1.69'' Large Display, Bluetooth, Sport Modes, Metal Body, Heart Rate Monitor, Multiple Watch Faces- E17-D  "
          ],
          [
           "Casual Analog Black Dial Women's Watch-6248NM01  "
          ],
          [
           "Black, Blue, White Dial, Day & Date Functioning, Stainless Steel Strap Analog Watch for Men & Women  "
          ],
          [
           "Analog Men's Watch (Dial Colored Strap)  "
          ],
          [
           "Antique Day & Date Leather Strap Analog Watch for Men & Boys  "
          ],
          [
           "Blue, Black & Silver Dial, Day & Date Functioning, Stainless Steel Strap Analog Watch for Men & Women  "
          ],
          [
           "Mens Chronograph Waterproof Luxury Fashion Military Quartz Sports Analog Wristwatches  "
          ],
          [
           "Analog Day Date Functioning Stainless Steel Chain Watch for Men  "
          ],
          [
           "TrendyTap Analog Unisex Child Watch (Red Dial Red Colored Strap)  "
          ],
          [
           "Analog Men's Watch (Black Dial Colored Strap)  "
          ],
          [
           "Women's Watches Ladies Fashion Analogue Simple Style Watches Rose Gold Dial Alloy Strap Waterproof Watches for Watches Wife Miss Women with Birthday Gift  "
          ],
          [
           "Essentials Analog White Dial Women's Watch-NM87020SL01W / NL87020SL01W/NP87020SL01W  "
          ],
          [
           "Apple Watch Series 8 [GPS 45 mm] Smart Watch w/Midnight Aluminium Case with Midnight Sport Band. Fitness Tracker, Blood Oxygen & ECG Apps, Always-On Retina Display, Water Resistant  "
          ],
          [
           "Amazfit GTR 3 Pro Smart Watch with Bluetooth Phone Calls, Alexa, GPS, WiFi, 12-Day Battery Life, 150 Sports Modes, 1.45 AMOLED Display, Blood Oxygen Heart Rate Tracking, Waterproof (Brown Leather)  "
          ],
          [
           "Analog Silver Dial Men's Watch-7142NL01  "
          ],
          [
           "Superfibre Digital Grey Dial Men's Watch NM77034PP03 / NL77034PP03/NP77034PP03  "
          ],
          [
           "New Fastrack Reflex Beat+ 1.69” UltraVU Display|500 Nits Brightness|60 Sports Modes|24*7 Heart Rate Monitor|SpO2 Monitor|Sleep Tracker|IP68 Water Resistant|Music & Camera Control  "
          ],
          [
           "Analog Multicolor Small Dial Men's Watch -NM7987SL01W / NL7987SL01W  "
          ],
          [
           "Fire-Boltt Ninja Fit Smartwatch Full Touch 1.69 & 120+ Sports Modes with IP68, Multi UI Screen, Over 100 Cloud Based Watch Faces, Built in Games  "
          ],
          [
           "New Fastrack Reflex Beat+ 1.69” UltraVU Display|500 Nits Brightness|60 Sports Modes|24*7 Heart Rate Monitor|SpO2 Monitor|Sleep Tracker|IP68 Water Resistant|Music & Camera Control  "
          ],
          [
           "Analogue Unisex Couple Combo Watch for Men & Women (Brown Dial & Colored Strap) -W246-236BR  "
          ],
          [
           "Yuva Analog Black Dial Men's Watch-NL7924SL04/NP7924SL04  "
          ],
          [
           "The Watch: Stories (Norton Paperback Fiction)  "
          ],
          [
           "Analog Purple Dial Unisex-Adult Watch-9915PP97  "
          ],
          [
           "Multi-Functional Boys Casual Business Mens Luxury Stylish Watch Black Dial Leather Strap Wrist Watches for Men-Daily Use Analog Digital Sports Men's Watch  "
          ],
          [
           "Digital Men's Watch (Black Dial Multi Colored Strap)  "
          ],
          [
           "Analog Men's Watch (Dial Colored Strap)  "
          ],
          [
           "Analog Men's Watch (Dial Colored Strap)  "
          ],
          [
           "Apple Watch Ultra [GPS + Cellular 49 mm] Smart Watch w/Rugged Titanium Case & White Ocean Band. Fitness Tracker, Precision GPS, Action Button, Extra-Long BatteryLife, Brighter Retina Display  "
          ],
          [
           "Analog White Dial Unisex's Watch-NG38021PP10W / NG38021PP10W  "
          ],
          [
           "Economy Analog Green Dial Men's Watch-NL77007PP01  "
          ],
          [
           "Maxima Max Pro X1 Smartwatch - Premium 1.4” HD Display of 500 Nits with 10 Days Battery Life, 100+ Watch Faces, Sleep & SpO2 Monitoring, Social Media alerts, Multiple Exercise Modes (Army Green)  "
          ],
          [
           "Leather World Vegan Leather 4 Slot Watch Case Box for Men and Women (Beige)  "
          ],
          [
           "Classics Analog White Dial Men's Watch-A303  "
          ],
          [
           "Analog OffWhite Dial Men's Watch NM1712YM02 / NL1712YM02  "
          ],
          [
           "All Black Mesh Black Strap Day & Date Functioning Watch for Boys Analog Watch Analog-Digital Watch - for Men  "
          ],
          [
           "Enticer Chronograph Men's Multi-Dial Watch - MTP-1374L-7AVDF, A835 (White Dial Brown Colored Strap)  "
          ],
          [
           "Analog Silver Dial Men's Watch-FS4991  "
          ],
          [
           "Fundamentals Analog Grey Dial Women's Watch-NL68010SM04/NP68010SM04  "
          ],
          [
           "Super Fibre Analog Black Dial Men's Watch -NM7920PP13 / NL7920PP13  "
          ],
          [
           "Economy Digital Multi-color Round Dial Men's Sport Watch-NN77006PP01/NP77006PP01  "
          ],
          [
           "Apple Watch SE (2nd Gen) [GPS 40 mm] Smart Watch w/Midnight Aluminium Case & Midnight Sport Band. Fitness & Sleep Tracker, Crash Detection, Heart Rate Monitor, Retina Display, Water Resistant  "
          ],
          [
           "Analog Grey Dial Men's Watch-MK8576  "
          ],
          [
           "Talk S with 1.78\" AMOLED Display|Advanced BT Calling|Music Storage with Wireless Audio Connect|100+ Sports Modes|Animated Watchfaces|5 Days Battery|IP68 Water Resistant|Stress & Mood Monitor  "
          ],
          [
           "Sporty Digital Grey Dial Men's Watch-NL77043PP02/NP77043PP02  "
          ],
          [
           "NOVA Skeleton Automatic Watch Mechanical Wrist Watch for Men Bezel Screw Design Silicone Band Self-Wind Business Watch for Men  "
          ],
          [
           "Analog Blue Dial Women's Watch-NL2574SM01/NP2574SM01  "
          ],
          [
           "Fire-Boltt Beam Bluetooth Calling Smartwatch with 1.72” Full Touch & 320 * 380 Pixel Resolution, AI Voice Assistant, IP68 Rating, 60 Sports Modes & Full Metal Body  "
          ],
          [
           "Stylish and Fashionable Waterproof LED Square Dial Watch for Boys and Girls  "
          ],
          [
           "Casual Analog Dial Men's Watch -NM3124SL02 / NL3124SL02/NP3124SL02  "
          ],
          [
           "Enticer Men Analog Black Dial Watch-A1821  "
          ],
          [
           "Chronograph Men's Watch (Black Dial)  "
          ],
          [
           "Ladies Neo-Ii Analog Blue Dial Women's Watch-NL2569SM01  "
          ],
          [
           "Digital Boy's & Men's Watch (Multicolour Dial Multi Colored Strap)  "
          ],
          [
           "Sounce Replacement Silicone Strap Compatible with Honor Band 6 & Huawei Band 6 (Not Compatible with Any Other Model) Device Not Included Strap Band Bracelet – (Black)  "
          ],
          [
           "Black dial-case and Black Leather Watch for Men Pack of - 1  "
          ],
          [
           "Analog Black Dial Men's Watch-MTP-VT01L-1BUDF (A1615)  "
          ],
          [
           "Lapster USB all types smartwatch charger cable for boat watch charger & boat xtend watch charger & boat storm watch charger- All 2 Pin Watch (Cable Only)  "
          ],
          [
           "Casual Analog Black Dial Women's Watch-6248NM01  "
          ],
          [
           "Outdoor Sport Shockproof Led Analogue and Digital Waterproof Chronograph Watch for Men  "
          ],
          [
           "Brand - A Digital Watch with Square LED Shockproof Multi-Functional Automatic 5 Color Army Strap Waterproof Digital Sports Watch for Men's Kids Watch for Boys - Watch for Men  "
          ],
          [
           "Men's Analog Number Dial Brown Leather Strap Watch  "
          ],
          [
           "Analog Minute Track Dial Stainless Steel Chain Watch for Men  "
          ],
          [
           "Black Dial Arrow Analog Watch with King Bracelet for Men (Pack of 2)  "
          ],
          [
           "Mens Chronograph Waterproof Luxury Fashion Military Quartz Sports Analog Wristwatches  "
          ],
          [
           "Analog Day Date Functioning Stainless Steel Chain Watch for Men  "
          ],
          [
           "TrendyTap Analog Unisex Child Watch (Red Dial Red Colored Strap)  "
          ],
          [
           "Analog Men's Watch (Black Dial Colored Strap)  "
          ],
          [
           "Octane Analog Silver Dial Men's Watch-NL1650BM03/NP1650BM03  "
          ],
          [
           "Analogue Men's Watch (Pack of 3) (Multicolored Dial Multicolored Colored Strap)  "
          ],
          [
           "Enticer Analog Dial Watch  "
          ],
          [
           "Ladies Neo-Ii Analog Rose Gold Dial Women's Watch-NL2480KM01  "
          ],
          [
           "Analog Gold Dial Women's Watch-DK11430-4  "
          ],
          [
           "Venus Digital Grey Dial Men's Watch-NL7982PP03  "
          ],
          [
           "Ladies Neo Economy Analog White Dial Women's Watch 2639SL04/NN2639SL04/NP2639SL04  "
          ],
          [
           "Analog Men's Watch (Dial Colored Strap)  "
          ],
          [
           "Axial Digital Black Dial Men's Watch-DZT2017  "
          ],
          [
           "Analog Gold Dial Women's Watch-TW000Q810  "
          ],
          [
           "Automatic Mechanical Skeleton Transparent Analog Mesh Steel Band Men's Watch - FSG8181  "
          ],
          [
           "Digital Grey Round Dial Men's Sport Watch-NN77072PP04  "
          ],
          [
           "Phile Black Dial NATO Watch  "
          ],
          [
           "Mizi Portable Samsung Galaxy Watch 5/4 / 3 Charger USB Travel Cordless Wireless Charger Keychain for Samsung Galaxy Watch 4 Classic Watch 3 Active Active 2 Gear S3 - Black  "
          ],
          [
           "Digital Baby Boy's Watch (Black Dial Black Colored Strap)  "
          ],
          [
           "Super Fibre Digital Grey Dial Men's Watch-NL87012PP03/NP87012PP03  "
          ],
          [
           "Analog Men's Watch (Dial Colored Strap)  "
          ],
          [
           "Analog Minute Track Dial Stainless Steel Chain Watch for Men  "
          ],
          [
           "Analog Men's Watch (Dial Colored Strap)  "
          ],
          [
           "Analog Men's Watch (Dial Colored Strap)  "
          ],
          [
           "Stainless Steel Chain Analog Wrist Watch for Men (Black/Silver/Blue) | LD-WT052  "
          ],
          [
           "Analogue Men's Watch (Silver Dial Silver Colored Strap)  "
          ],
          [
           "Brand - A Digital Watch with Square LED Shockproof Multi-Functional Automatic 5 Color Army Strap Waterproof Digital Sports Watch for Men's Kids Watch for Boys - Watch for Men  "
          ],
          [
           "Men's Analog Number Dial Brown Leather Strap Watch  "
          ],
          [
           "Analog Men's Watch (Multi Color Dial Gold Colored Strap)  "
          ],
          [
           "PU Belt Analogue Men's Watch and Boy's Watch  "
          ],
          [
           "Mens Chronograph Waterproof Luxury Fashion Military Quartz Sports Analog Wristwatches  "
          ],
          [
           "Analog Day Date Functioning Stainless Steel Chain Watch for Men  "
          ],
          [
           "TrendyTap Analog Unisex Child Watch (Red Dial Red Colored Strap)  "
          ],
          [
           "Analog Men's Watch (Black Dial Colored Strap)  "
          ],
          [
           "Multi-Functional Boys Casual Business Mens Luxury Stylish Watch Black Dial Leather Strap Wrist Watches for Men-Daily Use Analog Digital Sports Men's Watch  "
          ],
          [
           "Digital Men's Watch (Black Dial Multi Colored Strap)  "
          ],
          [
           "Acnos Brand 3 Color Watch with Black PU Strap Watch M2 Digital for Mens and Watches for Boy Pack of-2  "
          ],
          [
           "Analog Men's Watch (Dial Colored Strap)  "
          ],
          [
           "Men's Analog Number Dial Brown Leather Strap Watch  "
          ],
          [
           "Brand - A Digital Watch with Square LED Shockproof Multi-Functional Automatic 5 Color Army Strap Waterproof Digital Sports Watch for Men's Kids Watch for Boys - Watch for Men  "
          ],
          [
           "Analog Men's Watch (Dial Colored Strap)  "
          ],
          [
           "Analog Minute Track Dial Stainless Steel Chain Watch for Men  "
          ],
          [
           "Mens Chronograph Waterproof Luxury Fashion Military Quartz Sports Analog Wristwatches  "
          ],
          [
           "Analog Day Date Functioning Stainless Steel Chain Watch for Men  "
          ],
          [
           "TrendyTap Analog Unisex Child Watch (Red Dial Red Colored Strap)  "
          ],
          [
           "Analog Minute Track Dial Stainless Steel Chain Watch for Men  "
          ],
          [
           "Analog Men's Watch (Black Dial Colored Strap)  "
          ],
          [
           "Analog Black Dial Men's Watch-TW000R438  "
          ],
          [
           "TW000R434  "
          ],
          [
           "Men's Military Watches Outdoor Sports Digital Watch Waterproof LED Date Alarm Wrist Watches for Men 8007 Dark Green  "
          ],
          [
           "Men's Analog Number Dial Brown Leather Strap Watch  "
          ],
          [
           "Analog Men's Watch (Dial Colored Strap)  "
          ],
          [
           "Brand - A Digital Watch with Square LED Shockproof Multi-Functional Automatic 5 Color Army Strap Waterproof Digital Sports Watch for Men's Kids Watch for Boys - Watch for Men  "
          ],
          [
           "Black, Blue, White Dial, Day & Date Functioning, Stainless Steel Strap Analog Watch for Men & Women  "
          ],
          [
           "Mens Chronograph Waterproof Luxury Fashion Military Quartz Sports Analog Wristwatches  "
          ],
          [
           "Analog Day Date Functioning Stainless Steel Chain Watch for Men  "
          ],
          [
           "TrendyTap Analog Unisex Child Watch (Red Dial Red Colored Strap)  "
          ],
          [
           "Analog Minute Track Dial Stainless Steel Chain Watch for Men  "
          ],
          [
           "Analog Men's Watch (Black Dial Colored Strap)  "
          ],
          [
           "Men's Military Watches Outdoor Sports Digital Watch Waterproof LED Date Alarm Wrist Watches for Men 8007 Dark Green  "
          ],
          [
           "Men's Military Watches Outdoor Sports Digital Watch Waterproof LED Date Alarm Wrist Watches for Men 8007 Green  "
          ],
          [
           "TWHG03SMU04  "
          ],
          [
           "Men's Analog Number Dial Brown Leather Strap Watch  "
          ],
          [
           "Analog Men's Watch (Dial Colored Strap)  "
          ],
          [
           "Brand - A Digital Watch with Square LED Shockproof Multi-Functional Automatic 5 Color Army Strap Waterproof Digital Sports Watch for Men's Kids Watch for Boys - Watch for Men  "
          ],
          [
           "Analog Men's Watch (Dial Colored Strap)  "
          ]
         ],
         "hovertemplate": "clean_price=%{x}<br>clean_rating=%{y}<br>title=%{customdata[0]}<extra></extra>",
         "legendgroup": "",
         "marker": {
          "color": "#636efa",
          "symbol": "circle"
         },
         "mode": "markers",
         "name": "",
         "orientation": "v",
         "showlegend": false,
         "type": "scatter",
         "x": [
          1598,
          2498,
          2919,
          1799,
          329,
          1499,
          1199,
          249,
          249,
          249,
          349,
          299,
          389,
          299,
          149,
          299,
          1299,
          1199,
          799,
          1799,
          399,
          284,
          278,
          849,
          849,
          1795,
          326,
          625,
          2032,
          1095,
          499,
          1095,
          17495,
          480,
          319,
          4999,
          1199,
          419,
          289,
          325,
          280,
          399,
          2199,
          2499,
          2499,
          990,
          299,
          2999,
          449,
          285,
          266,
          129,
          799,
          299,
          249,
          2499,
          1109,
          8625,
          188,
          499,
          149,
          295,
          265,
          499,
          189,
          470,
          339,
          399,
          45400,
          4099,
          1799,
          189,
          1499,
          0,
          1549,
          2099,
          989,
          989,
          2099,
          399,
          2199,
          369,
          319,
          4099,
          599,
          249,
          1499,
          2890,
          31900,
          499,
          2994,
          1799,
          390,
          499,
          189,
          1799,
          249,
          499,
          990,
          284,
          319,
          449,
          986,
          3995,
          265,
          1798,
          899,
          100,
          399,
          4499,
          249,
          1695,
          299,
          349,
          148,
          284,
          3795,
          535,
          1499,
          839,
          2299,
          1499,
          125,
          289,
          2290,
          2799,
          6462,
          189,
          1299,
          113,
          185,
          89899,
          280,
          499,
          429,
          199,
          399,
          201,
          2199,
          399,
          319,
          325,
          1299,
          1495,
          1999,
          446,
          332,
          919,
          29003,
          795,
          213391,
          600,
          799,
          2149,
          2499,
          494,
          319,
          449,
          986,
          399,
          219,
          4499,
          385,
          448,
          2495,
          598,
          2999,
          8636,
          189,
          282,
          1099,
          1299,
          2351,
          1995,
          240,
          11999,
          950,
          399,
          2475,
          4797,
          1599,
          1099,
          2299,
          990,
          995,
          499,
          15995,
          8796,
          9990,
          748,
          201,
          329,
          280,
          199,
          2199,
          399,
          319,
          284,
          1199,
          385,
          289,
          2495,
          11999,
          2999,
          8495,
          299,
          939,
          189,
          4800,
          2415,
          2595,
          499,
          8636,
          1099,
          319,
          449,
          986,
          399,
          2351,
          1799,
          950,
          3999,
          399,
          499,
          4797,
          1490,
          2399,
          2799,
          1499,
          1099,
          995,
          99,
          799,
          249,
          2495,
          775,
          8796,
          2695,
          748,
          2610,
          3795,
          1499,
          12995,
          995,
          795,
          231,
          17999,
          786,
          795,
          201,
          369,
          429,
          249,
          2199,
          319,
          399,
          319,
          975,
          775,
          2351,
          2695,
          950,
          2799,
          399,
          0,
          1099,
          4797,
          1499,
          675,
          2399,
          492,
          1099,
          399,
          399,
          279,
          201,
          1995,
          1775,
          1490,
          1995,
          995,
          45400,
          2495,
          649,
          825,
          439,
          1099,
          249,
          799,
          8796,
          2799,
          748,
          1653,
          599,
          7247,
          31900,
          1599,
          3490,
          1499,
          289,
          17999,
          3795,
          1499,
          12995,
          995,
          231,
          4800,
          1795,
          329,
          249,
          299,
          329,
          2199,
          319,
          399,
          319,
          2399,
          749,
          45400,
          18990,
          1099,
          1349,
          1695,
          1775,
          1299,
          1695,
          419,
          949,
          1125,
          995,
          986,
          449,
          249,
          399,
          89899,
          795,
          649,
          1499,
          439,
          712,
          1995,
          249,
          5795,
          8796,
          1550,
          775,
          748,
          29003,
          7247,
          8995,
          448,
          3490,
          1795,
          2499,
          289,
          1695,
          3795,
          12995,
          4795,
          231,
          99,
          245,
          2965,
          113,
          1795,
          990,
          325,
          201,
          279,
          429,
          2199,
          319,
          399,
          319,
          3445,
          355,
          3395,
          2396,
          2394,
          475,
          1596,
          2890,
          10398,
          2249,
          3954,
          599,
          786,
          599,
          185,
          585,
          249,
          279,
          399,
          399,
          299,
          322,
          325,
          201,
          449,
          199,
          2199,
          319,
          399,
          319,
          986,
          449,
          284,
          249,
          201,
          325,
          399,
          279,
          2199,
          319,
          399,
          279,
          319,
          1769,
          1179,
          989,
          201,
          399,
          325,
          329,
          2199,
          319,
          399,
          279,
          319,
          989,
          989,
          3199,
          201,
          399,
          325,
          249
         ],
         "xaxis": "x",
         "y": [
          null,
          4.1,
          4.2,
          4.1,
          4.6,
          4,
          3.4,
          5,
          5,
          4,
          4.8,
          4,
          5,
          4,
          5,
          5,
          4,
          3.4,
          3.1,
          4.4,
          4,
          3.8,
          3.2,
          null,
          4.1,
          4.4,
          4.1,
          4,
          4.4,
          4.4,
          4.1,
          4.1,
          null,
          3.3,
          3.8,
          3.9,
          4,
          4.6,
          4.1,
          3.6,
          3.9,
          3.8,
          4.4,
          4,
          4,
          2.1,
          3.6,
          4,
          3.8,
          3.8,
          3.6,
          3.2,
          3.8,
          3.6,
          3.5,
          4.4,
          3.3,
          4.5,
          3.8,
          2,
          2.5,
          3,
          3.5,
          3.7,
          3.4,
          3.4,
          3.8,
          4.5,
          4.6,
          4,
          3.7,
          3.5,
          4,
          5,
          3.3,
          null,
          null,
          null,
          null,
          3.8,
          4.4,
          null,
          3.8,
          4,
          3.3,
          3.5,
          3.9,
          4.1,
          4.6,
          3.6,
          4.5,
          3.7,
          3.4,
          3.4,
          3.4,
          4.2,
          3.3,
          2.7,
          4.1,
          3.5,
          4.2,
          3.7,
          3.9,
          3.8,
          3.4,
          3.8,
          4.3,
          3.9,
          3,
          4.1,
          3.7,
          4,
          2.5,
          3.9,
          2.8,
          3.5,
          4.2,
          3.6,
          3.9,
          3.9,
          4.1,
          3.2,
          3.3,
          4.1,
          3.8,
          4.3,
          3.7,
          3.4,
          4.2,
          3.4,
          3.7,
          4.2,
          3.7,
          3.3,
          3.1,
          4.7,
          3.8,
          3.8,
          4.4,
          3.8,
          3.8,
          3.6,
          4.2,
          4.5,
          4.1,
          4.7,
          2.5,
          2.9,
          4.6,
          4.4,
          4.9,
          4.2,
          4,
          4.3,
          3.9,
          3.1,
          4.2,
          3.7,
          3.9,
          3.8,
          3.7,
          4.1,
          3.9,
          4,
          4.3,
          3.8,
          null,
          4.2,
          3.3,
          3.9,
          3.9,
          3.4,
          4.1,
          3.9,
          3.8,
          4.1,
          4.2,
          4.1,
          3.5,
          4.3,
          4.1,
          3.3,
          4.1,
          4,
          4.4,
          4.1,
          4.4,
          4.3,
          4.3,
          3.9,
          3.8,
          3,
          3.9,
          4.7,
          4.4,
          3.8,
          3.8,
          3.5,
          3.7,
          3.9,
          4.5,
          4.3,
          4.1,
          null,
          null,
          null,
          4.6,
          3.3,
          3.1,
          4.3,
          4.5,
          4.1,
          4.2,
          4.2,
          4.2,
          3.7,
          3.9,
          3.8,
          4.1,
          3.7,
          4.2,
          4,
          4.1,
          3.3,
          4.3,
          3.5,
          3.9,
          4.3,
          4.2,
          3.3,
          4.4,
          4.1,
          4.3,
          4.2,
          3.7,
          4,
          4.3,
          4.2,
          3.9,
          3.8,
          4.4,
          3.8,
          4.3,
          4.5,
          4.4,
          3.8,
          4.3,
          3.7,
          4.2,
          3.8,
          null,
          3.1,
          4.1,
          4.4,
          3.8,
          3.8,
          4.2,
          3.8,
          4,
          4.1,
          4.2,
          4.2,
          4.3,
          4.1,
          4,
          3.9,
          4.3,
          4.2,
          4.1,
          3.9,
          4.2,
          3.3,
          3.8,
          3.7,
          3.9,
          3.8,
          4.3,
          3.9,
          3.5,
          4.3,
          4.4,
          4.6,
          3.7,
          3.9,
          4.2,
          4.2,
          3.9,
          4.2,
          4.2,
          4.3,
          4.3,
          3.9,
          4.1,
          4,
          4.8,
          4.6,
          4.1,
          4.2,
          3.8,
          4.2,
          4.3,
          4.4,
          3.8,
          4.3,
          4.5,
          3.8,
          3.1,
          4.4,
          3,
          4.1,
          3.4,
          3.6,
          4.4,
          3.8,
          3.8,
          4.2,
          3.9,
          4.2,
          4.6,
          4.1,
          3.3,
          4.3,
          4,
          3.9,
          4.2,
          4,
          3.8,
          4.1,
          4.4,
          4.4,
          3.9,
          3.7,
          4.1,
          3.8,
          4.2,
          4.2,
          3.9,
          3.8,
          4.2,
          4.2,
          4.3,
          4.2,
          4.3,
          4.3,
          4.3,
          4,
          3.9,
          4.6,
          4.8,
          4.1,
          4,
          4.2,
          4.3,
          4,
          4.2,
          4.2,
          4.4,
          4.3,
          4.4,
          3.8,
          3.9,
          3.4,
          4.3,
          3.4,
          4.4,
          4,
          3.6,
          3.8,
          3.9,
          3.1,
          4.4,
          3.8,
          3.8,
          4.2,
          4.3,
          3.5,
          4.3,
          4.4,
          4.2,
          4.1,
          4.4,
          4.3,
          3.8,
          4.4,
          3.4,
          4.3,
          3.7,
          4.2,
          2.9,
          4.1,
          4.1,
          3.9,
          3.7,
          3.8,
          3.4,
          3.9,
          3.6,
          3.8,
          3.6,
          4.7,
          4.4,
          3.8,
          3.8,
          4.2,
          3.9,
          3.7,
          3.5,
          4.1,
          3.8,
          3.6,
          3.8,
          3.9,
          4.4,
          3.8,
          3.8,
          3.9,
          4.2,
          4.1,
          4,
          null,
          3.8,
          3.8,
          3.6,
          3,
          4.4,
          3.8,
          3.8,
          3.9,
          4.2,
          null,
          null,
          4.1,
          3.8,
          3.8,
          3.6,
          4.1
         ],
         "yaxis": "y"
        }
       ],
       "layout": {
        "legend": {
         "tracegroupgap": 0
        },
        "margin": {
         "t": 60
        },
        "template": {
         "data": {
          "bar": [
           {
            "error_x": {
             "color": "#2a3f5f"
            },
            "error_y": {
             "color": "#2a3f5f"
            },
            "marker": {
             "line": {
              "color": "#E5ECF6",
              "width": 0.5
             },
             "pattern": {
              "fillmode": "overlay",
              "size": 10,
              "solidity": 0.2
             }
            },
            "type": "bar"
           }
          ],
          "barpolar": [
           {
            "marker": {
             "line": {
              "color": "#E5ECF6",
              "width": 0.5
             },
             "pattern": {
              "fillmode": "overlay",
              "size": 10,
              "solidity": 0.2
             }
            },
            "type": "barpolar"
           }
          ],
          "carpet": [
           {
            "aaxis": {
             "endlinecolor": "#2a3f5f",
             "gridcolor": "white",
             "linecolor": "white",
             "minorgridcolor": "white",
             "startlinecolor": "#2a3f5f"
            },
            "baxis": {
             "endlinecolor": "#2a3f5f",
             "gridcolor": "white",
             "linecolor": "white",
             "minorgridcolor": "white",
             "startlinecolor": "#2a3f5f"
            },
            "type": "carpet"
           }
          ],
          "choropleth": [
           {
            "colorbar": {
             "outlinewidth": 0,
             "ticks": ""
            },
            "type": "choropleth"
           }
          ],
          "contour": [
           {
            "colorbar": {
             "outlinewidth": 0,
             "ticks": ""
            },
            "colorscale": [
             [
              0,
              "#0d0887"
             ],
             [
              0.1111111111111111,
              "#46039f"
             ],
             [
              0.2222222222222222,
              "#7201a8"
             ],
             [
              0.3333333333333333,
              "#9c179e"
             ],
             [
              0.4444444444444444,
              "#bd3786"
             ],
             [
              0.5555555555555556,
              "#d8576b"
             ],
             [
              0.6666666666666666,
              "#ed7953"
             ],
             [
              0.7777777777777778,
              "#fb9f3a"
             ],
             [
              0.8888888888888888,
              "#fdca26"
             ],
             [
              1,
              "#f0f921"
             ]
            ],
            "type": "contour"
           }
          ],
          "contourcarpet": [
           {
            "colorbar": {
             "outlinewidth": 0,
             "ticks": ""
            },
            "type": "contourcarpet"
           }
          ],
          "heatmap": [
           {
            "colorbar": {
             "outlinewidth": 0,
             "ticks": ""
            },
            "colorscale": [
             [
              0,
              "#0d0887"
             ],
             [
              0.1111111111111111,
              "#46039f"
             ],
             [
              0.2222222222222222,
              "#7201a8"
             ],
             [
              0.3333333333333333,
              "#9c179e"
             ],
             [
              0.4444444444444444,
              "#bd3786"
             ],
             [
              0.5555555555555556,
              "#d8576b"
             ],
             [
              0.6666666666666666,
              "#ed7953"
             ],
             [
              0.7777777777777778,
              "#fb9f3a"
             ],
             [
              0.8888888888888888,
              "#fdca26"
             ],
             [
              1,
              "#f0f921"
             ]
            ],
            "type": "heatmap"
           }
          ],
          "heatmapgl": [
           {
            "colorbar": {
             "outlinewidth": 0,
             "ticks": ""
            },
            "colorscale": [
             [
              0,
              "#0d0887"
             ],
             [
              0.1111111111111111,
              "#46039f"
             ],
             [
              0.2222222222222222,
              "#7201a8"
             ],
             [
              0.3333333333333333,
              "#9c179e"
             ],
             [
              0.4444444444444444,
              "#bd3786"
             ],
             [
              0.5555555555555556,
              "#d8576b"
             ],
             [
              0.6666666666666666,
              "#ed7953"
             ],
             [
              0.7777777777777778,
              "#fb9f3a"
             ],
             [
              0.8888888888888888,
              "#fdca26"
             ],
             [
              1,
              "#f0f921"
             ]
            ],
            "type": "heatmapgl"
           }
          ],
          "histogram": [
           {
            "marker": {
             "pattern": {
              "fillmode": "overlay",
              "size": 10,
              "solidity": 0.2
             }
            },
            "type": "histogram"
           }
          ],
          "histogram2d": [
           {
            "colorbar": {
             "outlinewidth": 0,
             "ticks": ""
            },
            "colorscale": [
             [
              0,
              "#0d0887"
             ],
             [
              0.1111111111111111,
              "#46039f"
             ],
             [
              0.2222222222222222,
              "#7201a8"
             ],
             [
              0.3333333333333333,
              "#9c179e"
             ],
             [
              0.4444444444444444,
              "#bd3786"
             ],
             [
              0.5555555555555556,
              "#d8576b"
             ],
             [
              0.6666666666666666,
              "#ed7953"
             ],
             [
              0.7777777777777778,
              "#fb9f3a"
             ],
             [
              0.8888888888888888,
              "#fdca26"
             ],
             [
              1,
              "#f0f921"
             ]
            ],
            "type": "histogram2d"
           }
          ],
          "histogram2dcontour": [
           {
            "colorbar": {
             "outlinewidth": 0,
             "ticks": ""
            },
            "colorscale": [
             [
              0,
              "#0d0887"
             ],
             [
              0.1111111111111111,
              "#46039f"
             ],
             [
              0.2222222222222222,
              "#7201a8"
             ],
             [
              0.3333333333333333,
              "#9c179e"
             ],
             [
              0.4444444444444444,
              "#bd3786"
             ],
             [
              0.5555555555555556,
              "#d8576b"
             ],
             [
              0.6666666666666666,
              "#ed7953"
             ],
             [
              0.7777777777777778,
              "#fb9f3a"
             ],
             [
              0.8888888888888888,
              "#fdca26"
             ],
             [
              1,
              "#f0f921"
             ]
            ],
            "type": "histogram2dcontour"
           }
          ],
          "mesh3d": [
           {
            "colorbar": {
             "outlinewidth": 0,
             "ticks": ""
            },
            "type": "mesh3d"
           }
          ],
          "parcoords": [
           {
            "line": {
             "colorbar": {
              "outlinewidth": 0,
              "ticks": ""
             }
            },
            "type": "parcoords"
           }
          ],
          "pie": [
           {
            "automargin": true,
            "type": "pie"
           }
          ],
          "scatter": [
           {
            "fillpattern": {
             "fillmode": "overlay",
             "size": 10,
             "solidity": 0.2
            },
            "type": "scatter"
           }
          ],
          "scatter3d": [
           {
            "line": {
             "colorbar": {
              "outlinewidth": 0,
              "ticks": ""
             }
            },
            "marker": {
             "colorbar": {
              "outlinewidth": 0,
              "ticks": ""
             }
            },
            "type": "scatter3d"
           }
          ],
          "scattercarpet": [
           {
            "marker": {
             "colorbar": {
              "outlinewidth": 0,
              "ticks": ""
             }
            },
            "type": "scattercarpet"
           }
          ],
          "scattergeo": [
           {
            "marker": {
             "colorbar": {
              "outlinewidth": 0,
              "ticks": ""
             }
            },
            "type": "scattergeo"
           }
          ],
          "scattergl": [
           {
            "marker": {
             "colorbar": {
              "outlinewidth": 0,
              "ticks": ""
             }
            },
            "type": "scattergl"
           }
          ],
          "scattermapbox": [
           {
            "marker": {
             "colorbar": {
              "outlinewidth": 0,
              "ticks": ""
             }
            },
            "type": "scattermapbox"
           }
          ],
          "scatterpolar": [
           {
            "marker": {
             "colorbar": {
              "outlinewidth": 0,
              "ticks": ""
             }
            },
            "type": "scatterpolar"
           }
          ],
          "scatterpolargl": [
           {
            "marker": {
             "colorbar": {
              "outlinewidth": 0,
              "ticks": ""
             }
            },
            "type": "scatterpolargl"
           }
          ],
          "scatterternary": [
           {
            "marker": {
             "colorbar": {
              "outlinewidth": 0,
              "ticks": ""
             }
            },
            "type": "scatterternary"
           }
          ],
          "surface": [
           {
            "colorbar": {
             "outlinewidth": 0,
             "ticks": ""
            },
            "colorscale": [
             [
              0,
              "#0d0887"
             ],
             [
              0.1111111111111111,
              "#46039f"
             ],
             [
              0.2222222222222222,
              "#7201a8"
             ],
             [
              0.3333333333333333,
              "#9c179e"
             ],
             [
              0.4444444444444444,
              "#bd3786"
             ],
             [
              0.5555555555555556,
              "#d8576b"
             ],
             [
              0.6666666666666666,
              "#ed7953"
             ],
             [
              0.7777777777777778,
              "#fb9f3a"
             ],
             [
              0.8888888888888888,
              "#fdca26"
             ],
             [
              1,
              "#f0f921"
             ]
            ],
            "type": "surface"
           }
          ],
          "table": [
           {
            "cells": {
             "fill": {
              "color": "#EBF0F8"
             },
             "line": {
              "color": "white"
             }
            },
            "header": {
             "fill": {
              "color": "#C8D4E3"
             },
             "line": {
              "color": "white"
             }
            },
            "type": "table"
           }
          ]
         },
         "layout": {
          "annotationdefaults": {
           "arrowcolor": "#2a3f5f",
           "arrowhead": 0,
           "arrowwidth": 1
          },
          "autotypenumbers": "strict",
          "coloraxis": {
           "colorbar": {
            "outlinewidth": 0,
            "ticks": ""
           }
          },
          "colorscale": {
           "diverging": [
            [
             0,
             "#8e0152"
            ],
            [
             0.1,
             "#c51b7d"
            ],
            [
             0.2,
             "#de77ae"
            ],
            [
             0.3,
             "#f1b6da"
            ],
            [
             0.4,
             "#fde0ef"
            ],
            [
             0.5,
             "#f7f7f7"
            ],
            [
             0.6,
             "#e6f5d0"
            ],
            [
             0.7,
             "#b8e186"
            ],
            [
             0.8,
             "#7fbc41"
            ],
            [
             0.9,
             "#4d9221"
            ],
            [
             1,
             "#276419"
            ]
           ],
           "sequential": [
            [
             0,
             "#0d0887"
            ],
            [
             0.1111111111111111,
             "#46039f"
            ],
            [
             0.2222222222222222,
             "#7201a8"
            ],
            [
             0.3333333333333333,
             "#9c179e"
            ],
            [
             0.4444444444444444,
             "#bd3786"
            ],
            [
             0.5555555555555556,
             "#d8576b"
            ],
            [
             0.6666666666666666,
             "#ed7953"
            ],
            [
             0.7777777777777778,
             "#fb9f3a"
            ],
            [
             0.8888888888888888,
             "#fdca26"
            ],
            [
             1,
             "#f0f921"
            ]
           ],
           "sequentialminus": [
            [
             0,
             "#0d0887"
            ],
            [
             0.1111111111111111,
             "#46039f"
            ],
            [
             0.2222222222222222,
             "#7201a8"
            ],
            [
             0.3333333333333333,
             "#9c179e"
            ],
            [
             0.4444444444444444,
             "#bd3786"
            ],
            [
             0.5555555555555556,
             "#d8576b"
            ],
            [
             0.6666666666666666,
             "#ed7953"
            ],
            [
             0.7777777777777778,
             "#fb9f3a"
            ],
            [
             0.8888888888888888,
             "#fdca26"
            ],
            [
             1,
             "#f0f921"
            ]
           ]
          },
          "colorway": [
           "#636efa",
           "#EF553B",
           "#00cc96",
           "#ab63fa",
           "#FFA15A",
           "#19d3f3",
           "#FF6692",
           "#B6E880",
           "#FF97FF",
           "#FECB52"
          ],
          "font": {
           "color": "#2a3f5f"
          },
          "geo": {
           "bgcolor": "white",
           "lakecolor": "white",
           "landcolor": "#E5ECF6",
           "showlakes": true,
           "showland": true,
           "subunitcolor": "white"
          },
          "hoverlabel": {
           "align": "left"
          },
          "hovermode": "closest",
          "mapbox": {
           "style": "light"
          },
          "paper_bgcolor": "white",
          "plot_bgcolor": "#E5ECF6",
          "polar": {
           "angularaxis": {
            "gridcolor": "white",
            "linecolor": "white",
            "ticks": ""
           },
           "bgcolor": "#E5ECF6",
           "radialaxis": {
            "gridcolor": "white",
            "linecolor": "white",
            "ticks": ""
           }
          },
          "scene": {
           "xaxis": {
            "backgroundcolor": "#E5ECF6",
            "gridcolor": "white",
            "gridwidth": 2,
            "linecolor": "white",
            "showbackground": true,
            "ticks": "",
            "zerolinecolor": "white"
           },
           "yaxis": {
            "backgroundcolor": "#E5ECF6",
            "gridcolor": "white",
            "gridwidth": 2,
            "linecolor": "white",
            "showbackground": true,
            "ticks": "",
            "zerolinecolor": "white"
           },
           "zaxis": {
            "backgroundcolor": "#E5ECF6",
            "gridcolor": "white",
            "gridwidth": 2,
            "linecolor": "white",
            "showbackground": true,
            "ticks": "",
            "zerolinecolor": "white"
           }
          },
          "shapedefaults": {
           "line": {
            "color": "#2a3f5f"
           }
          },
          "ternary": {
           "aaxis": {
            "gridcolor": "white",
            "linecolor": "white",
            "ticks": ""
           },
           "baxis": {
            "gridcolor": "white",
            "linecolor": "white",
            "ticks": ""
           },
           "bgcolor": "#E5ECF6",
           "caxis": {
            "gridcolor": "white",
            "linecolor": "white",
            "ticks": ""
           }
          },
          "title": {
           "x": 0.05
          },
          "xaxis": {
           "automargin": true,
           "gridcolor": "white",
           "linecolor": "white",
           "ticks": "",
           "title": {
            "standoff": 15
           },
           "zerolinecolor": "white",
           "zerolinewidth": 2
          },
          "yaxis": {
           "automargin": true,
           "gridcolor": "white",
           "linecolor": "white",
           "ticks": "",
           "title": {
            "standoff": 15
           },
           "zerolinecolor": "white",
           "zerolinewidth": 2
          }
         }
        },
        "xaxis": {
         "anchor": "y",
         "domain": [
          0,
          1
         ],
         "title": {
          "text": "clean_price"
         }
        },
        "yaxis": {
         "anchor": "x",
         "domain": [
          0,
          1
         ],
         "title": {
          "text": "clean_rating"
         }
        }
       }
      }
     },
     "metadata": {},
     "output_type": "display_data"
    }
   ],
   "source": [
    "import plotly.express as px\n",
    "\n",
    "px.scatter(df, x='clean_price', y='clean_rating',hover_data=['title'])"
   ]
  },
  {
   "cell_type": "code",
   "execution_count": 36,
   "metadata": {},
   "outputs": [],
   "source": [
    "df['brand'] = df['brand'].apply(lambda name: name.lower())"
   ]
  },
  {
   "cell_type": "code",
   "execution_count": 37,
   "metadata": {},
   "outputs": [
    {
     "data": {
      "text/html": [
       "<div>\n",
       "<style scoped>\n",
       "    .dataframe tbody tr th:only-of-type {\n",
       "        vertical-align: middle;\n",
       "    }\n",
       "\n",
       "    .dataframe tbody tr th {\n",
       "        vertical-align: top;\n",
       "    }\n",
       "\n",
       "    .dataframe thead th {\n",
       "        text-align: right;\n",
       "    }\n",
       "</style>\n",
       "<table border=\"1\" class=\"dataframe\">\n",
       "  <thead>\n",
       "    <tr style=\"text-align: right;\">\n",
       "      <th></th>\n",
       "      <th>brand</th>\n",
       "      <th>title</th>\n",
       "      <th>price</th>\n",
       "      <th>rating</th>\n",
       "      <th>oprice</th>\n",
       "      <th>clean_price</th>\n",
       "      <th>clean_rating</th>\n",
       "      <th>clean_oprice</th>\n",
       "    </tr>\n",
       "  </thead>\n",
       "  <tbody>\n",
       "    <tr>\n",
       "      <th>0</th>\n",
       "      <td>timex</td>\n",
       "      <td>Analog Silver Dial Men's Watch-TWTG31SMU03</td>\n",
       "      <td>1,598</td>\n",
       "      <td>No reviews</td>\n",
       "      <td>₹1,598</td>\n",
       "      <td>1598.0</td>\n",
       "      <td>NaN</td>\n",
       "      <td>1598.0</td>\n",
       "    </tr>\n",
       "    <tr>\n",
       "      <th>1</th>\n",
       "      <td>timex</td>\n",
       "      <td>Analog Blue Dial Men's Watch-TWHG03SMU14</td>\n",
       "      <td>2,498</td>\n",
       "      <td>4.1</td>\n",
       "      <td>₹2,498</td>\n",
       "      <td>2498.0</td>\n",
       "      <td>4.1</td>\n",
       "      <td>2498.0</td>\n",
       "    </tr>\n",
       "    <tr>\n",
       "      <th>2</th>\n",
       "      <td>timex</td>\n",
       "      <td>Analog Silver Dial Men's Watch-TWHG03SMU16</td>\n",
       "      <td>2,919</td>\n",
       "      <td>4.2</td>\n",
       "      <td>₹2,919</td>\n",
       "      <td>2919.0</td>\n",
       "      <td>4.2</td>\n",
       "      <td>2919.0</td>\n",
       "    </tr>\n",
       "    <tr>\n",
       "      <th>3</th>\n",
       "      <td>timex</td>\n",
       "      <td>Analog Black Dial Men's Watch-TWHG35SMU05</td>\n",
       "      <td>1,799</td>\n",
       "      <td>4.1</td>\n",
       "      <td>₹1,799</td>\n",
       "      <td>1799.0</td>\n",
       "      <td>4.1</td>\n",
       "      <td>1799.0</td>\n",
       "    </tr>\n",
       "    <tr>\n",
       "      <th>4</th>\n",
       "      <td>usm</td>\n",
       "      <td>USM ID116 Smart Watch Smart Bracelet Fitness T...</td>\n",
       "      <td>329</td>\n",
       "      <td>4.6</td>\n",
       "      <td>₹329</td>\n",
       "      <td>329.0</td>\n",
       "      <td>4.6</td>\n",
       "      <td>329.0</td>\n",
       "    </tr>\n",
       "    <tr>\n",
       "      <th>...</th>\n",
       "      <td>...</td>\n",
       "      <td>...</td>\n",
       "      <td>...</td>\n",
       "      <td>...</td>\n",
       "      <td>...</td>\n",
       "      <td>...</td>\n",
       "      <td>...</td>\n",
       "      <td>...</td>\n",
       "    </tr>\n",
       "    <tr>\n",
       "      <th>431</th>\n",
       "      <td>timex</td>\n",
       "      <td>TWHG03SMU04</td>\n",
       "      <td>3,199</td>\n",
       "      <td>4.1</td>\n",
       "      <td>₹3,199</td>\n",
       "      <td>3199.0</td>\n",
       "      <td>4.1</td>\n",
       "      <td>3199.0</td>\n",
       "    </tr>\n",
       "    <tr>\n",
       "      <th>432</th>\n",
       "      <td>timewear</td>\n",
       "      <td>Men's Analog Number Dial Brown Leather Strap W...</td>\n",
       "      <td>201</td>\n",
       "      <td>3.8</td>\n",
       "      <td>₹201</td>\n",
       "      <td>201.0</td>\n",
       "      <td>3.8</td>\n",
       "      <td>201.0</td>\n",
       "    </tr>\n",
       "    <tr>\n",
       "      <th>433</th>\n",
       "      <td>timewear</td>\n",
       "      <td>Analog Men's Watch (Dial Colored Strap)</td>\n",
       "      <td>399</td>\n",
       "      <td>3.8</td>\n",
       "      <td>₹399</td>\n",
       "      <td>399.0</td>\n",
       "      <td>3.8</td>\n",
       "      <td>399.0</td>\n",
       "    </tr>\n",
       "    <tr>\n",
       "      <th>434</th>\n",
       "      <td>acnos</td>\n",
       "      <td>Brand - A Digital Watch with Square LED Shockp...</td>\n",
       "      <td>325</td>\n",
       "      <td>3.6</td>\n",
       "      <td>₹325</td>\n",
       "      <td>325.0</td>\n",
       "      <td>3.6</td>\n",
       "      <td>325.0</td>\n",
       "    </tr>\n",
       "    <tr>\n",
       "      <th>435</th>\n",
       "      <td>timewear</td>\n",
       "      <td>Analog Men's Watch (Dial Colored Strap)</td>\n",
       "      <td>249</td>\n",
       "      <td>4.1</td>\n",
       "      <td>₹249</td>\n",
       "      <td>249.0</td>\n",
       "      <td>4.1</td>\n",
       "      <td>249.0</td>\n",
       "    </tr>\n",
       "  </tbody>\n",
       "</table>\n",
       "<p>436 rows × 8 columns</p>\n",
       "</div>"
      ],
      "text/plain": [
       "        brand                                              title  price  \\\n",
       "0       timex       Analog Silver Dial Men's Watch-TWTG31SMU03    1,598   \n",
       "1       timex         Analog Blue Dial Men's Watch-TWHG03SMU14    2,498   \n",
       "2       timex       Analog Silver Dial Men's Watch-TWHG03SMU16    2,919   \n",
       "3       timex        Analog Black Dial Men's Watch-TWHG35SMU05    1,799   \n",
       "4         usm  USM ID116 Smart Watch Smart Bracelet Fitness T...    329   \n",
       "..        ...                                                ...    ...   \n",
       "431     timex                                      TWHG03SMU04    3,199   \n",
       "432  timewear  Men's Analog Number Dial Brown Leather Strap W...    201   \n",
       "433  timewear          Analog Men's Watch (Dial Colored Strap)      399   \n",
       "434     acnos  Brand - A Digital Watch with Square LED Shockp...    325   \n",
       "435  timewear          Analog Men's Watch (Dial Colored Strap)      249   \n",
       "\n",
       "         rating  oprice  clean_price  clean_rating  clean_oprice  \n",
       "0    No reviews  ₹1,598       1598.0           NaN        1598.0  \n",
       "1           4.1  ₹2,498       2498.0           4.1        2498.0  \n",
       "2           4.2  ₹2,919       2919.0           4.2        2919.0  \n",
       "3           4.1  ₹1,799       1799.0           4.1        1799.0  \n",
       "4           4.6    ₹329        329.0           4.6         329.0  \n",
       "..          ...     ...          ...           ...           ...  \n",
       "431         4.1  ₹3,199       3199.0           4.1        3199.0  \n",
       "432         3.8    ₹201        201.0           3.8         201.0  \n",
       "433         3.8    ₹399        399.0           3.8         399.0  \n",
       "434         3.6    ₹325        325.0           3.6         325.0  \n",
       "435         4.1    ₹249        249.0           4.1         249.0  \n",
       "\n",
       "[436 rows x 8 columns]"
      ]
     },
     "execution_count": 37,
     "metadata": {},
     "output_type": "execute_result"
    }
   ],
   "source": [
    "df"
   ]
  },
  {
   "cell_type": "code",
   "execution_count": null,
   "metadata": {},
   "outputs": [],
   "source": []
  }
 ],
 "metadata": {
  "kernelspec": {
   "display_name": "base",
   "language": "python",
   "name": "python3"
  },
  "language_info": {
   "codemirror_mode": {
    "name": "ipython",
    "version": 3
   },
   "file_extension": ".py",
   "mimetype": "text/x-python",
   "name": "python",
   "nbconvert_exporter": "python",
   "pygments_lexer": "ipython3",
   "version": "3.10.9"
  },
  "orig_nbformat": 4
 },
 "nbformat": 4,
 "nbformat_minor": 2
}
