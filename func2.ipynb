{
 "cells": [
  {
   "attachments": {},
   "cell_type": "markdown",
   "metadata": {},
   "source": [
    "- parameters\n",
    "    - named parameter\n",
    "    - required parameter\n",
    "    - default parameter\n",
    "    - variable parameters\n",
    "    - variable keyword argument parameters"
   ]
  },
  {
   "cell_type": "code",
   "execution_count": 1,
   "metadata": {},
   "outputs": [],
   "source": [
    "def burger(bread, cheese, veg, price):\n",
    "    return f'Your burger has {bread} bread, {cheese} cheese, is veg {veg} and costs Rs{price}.'"
   ]
  },
  {
   "cell_type": "code",
   "execution_count": 2,
   "metadata": {},
   "outputs": [
    {
     "data": {
      "text/plain": [
       "'Your burger has wheat bread, cheddar cheese, is veg True and costs Rs100.'"
      ]
     },
     "execution_count": 2,
     "metadata": {},
     "output_type": "execute_result"
    }
   ],
   "source": [
    "burger('wheat','cheddar',True, 100)"
   ]
  },
  {
   "cell_type": "code",
   "execution_count": 3,
   "metadata": {},
   "outputs": [
    {
     "data": {
      "text/plain": [
       "'Your burger has wheat bread, Parmesan cheese, is veg True and costs Rs200.'"
      ]
     },
     "execution_count": 3,
     "metadata": {},
     "output_type": "execute_result"
    }
   ],
   "source": [
    "burger(bread='wheat', cheese='Parmesan', veg=True, price=200)"
   ]
  },
  {
   "cell_type": "code",
   "execution_count": 4,
   "metadata": {},
   "outputs": [],
   "source": [
    "def total(x, y, z):\n",
    "    return x + y + z * 0.05"
   ]
  },
  {
   "cell_type": "code",
   "execution_count": 9,
   "metadata": {},
   "outputs": [
    {
     "name": "stdout",
     "output_type": "stream",
     "text": [
      "5.2\n",
      "5.0\n"
     ]
    }
   ],
   "source": [
    "ans = total(x=2, y=3, z=4)\n",
    "print(ans)\n",
    "ans = total(y=2, x=2, z=20)\n",
    "print(ans)"
   ]
  },
  {
   "attachments": {},
   "cell_type": "markdown",
   "metadata": {},
   "source": [
    "default parameter"
   ]
  },
  {
   "cell_type": "code",
   "execution_count": 13,
   "metadata": {},
   "outputs": [],
   "source": [
    "def total_v2(x, y, z=10):\n",
    "    return x + y + z * 0.05"
   ]
  },
  {
   "cell_type": "code",
   "execution_count": 17,
   "metadata": {},
   "outputs": [
    {
     "name": "stdout",
     "output_type": "stream",
     "text": [
      "13.5\n",
      "14.0\n"
     ]
    }
   ],
   "source": [
    "print(total_v2(3,10))\n",
    "print(total_v2(3,10,20))"
   ]
  },
  {
   "cell_type": "code",
   "execution_count": 20,
   "metadata": {},
   "outputs": [],
   "source": [
    "def area(l=0, b=0):\n",
    "    return l * b"
   ]
  },
  {
   "cell_type": "code",
   "execution_count": 21,
   "metadata": {},
   "outputs": [
    {
     "name": "stdout",
     "output_type": "stream",
     "text": [
      "0\n",
      "0\n",
      "200\n"
     ]
    }
   ],
   "source": [
    "print(area())\n",
    "print(area(10))\n",
    "print(area(10,20))"
   ]
  },
  {
   "cell_type": "code",
   "execution_count": 22,
   "metadata": {},
   "outputs": [],
   "source": [
    "def greeting(name='Guest'):\n",
    "    print('👑'* 5)\n",
    "    print(f'Welcome {name}')\n",
    "    print('👑'* 5)"
   ]
  },
  {
   "cell_type": "code",
   "execution_count": 23,
   "metadata": {},
   "outputs": [
    {
     "name": "stdout",
     "output_type": "stream",
     "text": [
      "👑👑👑👑👑\n",
      "Welcome Guest\n",
      "👑👑👑👑👑\n"
     ]
    }
   ],
   "source": [
    "greeting()"
   ]
  },
  {
   "cell_type": "code",
   "execution_count": 24,
   "metadata": {},
   "outputs": [
    {
     "name": "stdout",
     "output_type": "stream",
     "text": [
      "👑👑👑👑👑\n",
      "Welcome Alex\n",
      "👑👑👑👑👑\n"
     ]
    }
   ],
   "source": [
    "greeting(\"Alex\")"
   ]
  },
  {
   "attachments": {},
   "cell_type": "markdown",
   "metadata": {},
   "source": [
    "variable arguments functions"
   ]
  },
  {
   "cell_type": "code",
   "execution_count": 12,
   "metadata": {},
   "outputs": [],
   "source": [
    "def average(*numbers):\n",
    "    if len(numbers)> 1:\n",
    "        return sum(numbers) / len(numbers)"
   ]
  },
  {
   "cell_type": "code",
   "execution_count": 11,
   "metadata": {},
   "outputs": [
    {
     "name": "stdout",
     "output_type": "stream",
     "text": [
      "2.0\n",
      "5.5\n",
      "144.75\n",
      "None\n"
     ]
    }
   ],
   "source": [
    "print(average(1,2,3))\n",
    "print(average(1,2,3,4,5,6,7,8,9,10))\n",
    "print(average(239,123,56,78,34,7,88,9,324,3,767,9))\n",
    "print(average())"
   ]
  },
  {
   "cell_type": "code",
   "execution_count": 24,
   "metadata": {},
   "outputs": [],
   "source": [
    "def menu(**products):\n",
    "    for k,v in products.items():\n",
    "        print(f'✅ {k:15} | Rs.{v:5} ')"
   ]
  },
  {
   "cell_type": "code",
   "execution_count": 25,
   "metadata": {},
   "outputs": [
    {
     "name": "stdout",
     "output_type": "stream",
     "text": [
      "✅ chat            | Rs.  100 \n",
      "✅ idli            | Rs.   60 \n",
      "✅ dosa            | Rs.   80 \n",
      "✅ vada            | Rs.   50 \n",
      "✅ samosa          | Rs.10🆕   \n",
      "✅ pani_puri       | Rs.   30 \n",
      "✅ chole_bhature   | Rs.  120 \n",
      "✅ dal_makhani     | Rs.  150 \n",
      "✅ naan            | Rs.   40 \n",
      "✅ kulcha          | Rs.   50 \n",
      "✅ butter_chicken  | Rs.  300 \n"
     ]
    }
   ],
   "source": [
    "# moti mahal menu\n",
    "menu(chat=100, idli=60, dosa=80, vada=50, samosa='10🆕', pani_puri=30, \n",
    "     chole_bhature=120, dal_makhani=150, naan=40, kulcha=50, \n",
    "     butter_chicken=300)"
   ]
  },
  {
   "cell_type": "code",
   "execution_count": 15,
   "metadata": {},
   "outputs": [
    {
     "name": "stdout",
     "output_type": "stream",
     "text": [
      "✅ cappuccino      | Rs. 150 \n",
      "✅ latte           | Rs. 150 \n",
      "✅ espresso        | Rs. 100 \n",
      "✅ mocha           | Rs. 200 \n"
     ]
    }
   ],
   "source": [
    "# ccd menu\n",
    "menu(cappuccino=150, latte=150, espresso=100, mocha=200,)"
   ]
  },
  {
   "cell_type": "code",
   "execution_count": null,
   "metadata": {},
   "outputs": [],
   "source": []
  }
 ],
 "metadata": {
  "kernelspec": {
   "display_name": "base",
   "language": "python",
   "name": "python3"
  },
  "language_info": {
   "codemirror_mode": {
    "name": "ipython",
    "version": 3
   },
   "file_extension": ".py",
   "mimetype": "text/x-python",
   "name": "python",
   "nbconvert_exporter": "python",
   "pygments_lexer": "ipython3",
   "version": "3.10.9"
  },
  "orig_nbformat": 4,
  "vscode": {
   "interpreter": {
    "hash": "8befaed7f752a58a740e5f08c55a1efd8fcda412d7a2f1c4d828330769dea609"
   }
  }
 },
 "nbformat": 4,
 "nbformat_minor": 2
}
